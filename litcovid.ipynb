{
  "nbformat": 4,
  "nbformat_minor": 0,
  "metadata": {
    "colab": {
      "name": "litcovid_2.ipynb",
      "provenance": [],
      "collapsed_sections": []
    },
    "kernelspec": {
      "name": "python3",
      "display_name": "Python 3"
    },
    "accelerator": "GPU",
    "widgets": {
      "application/vnd.jupyter.widget-state+json": {
        "e1a43b0067334d3e8d11e1f38c27212d": {
          "model_module": "@jupyter-widgets/controls",
          "model_name": "HBoxModel",
          "state": {
            "_view_name": "HBoxView",
            "_dom_classes": [],
            "_model_name": "HBoxModel",
            "_view_module": "@jupyter-widgets/controls",
            "_model_module_version": "1.5.0",
            "_view_count": null,
            "_view_module_version": "1.5.0",
            "box_style": "",
            "layout": "IPY_MODEL_3e73efa7354145558a97d32a1d42f956",
            "_model_module": "@jupyter-widgets/controls",
            "children": [
              "IPY_MODEL_9458d6a3182d43dc8797c4452897b06c",
              "IPY_MODEL_f7beed5717ce429c9757f8204ea9512f"
            ]
          }
        },
        "3e73efa7354145558a97d32a1d42f956": {
          "model_module": "@jupyter-widgets/base",
          "model_name": "LayoutModel",
          "state": {
            "_view_name": "LayoutView",
            "grid_template_rows": null,
            "right": null,
            "justify_content": null,
            "_view_module": "@jupyter-widgets/base",
            "overflow": null,
            "_model_module_version": "1.2.0",
            "_view_count": null,
            "flex_flow": null,
            "width": null,
            "min_width": null,
            "border": null,
            "align_items": null,
            "bottom": null,
            "_model_module": "@jupyter-widgets/base",
            "top": null,
            "grid_column": null,
            "overflow_y": null,
            "overflow_x": null,
            "grid_auto_flow": null,
            "grid_area": null,
            "grid_template_columns": null,
            "flex": null,
            "_model_name": "LayoutModel",
            "justify_items": null,
            "grid_row": null,
            "max_height": null,
            "align_content": null,
            "visibility": null,
            "align_self": null,
            "height": null,
            "min_height": null,
            "padding": null,
            "grid_auto_rows": null,
            "grid_gap": null,
            "max_width": null,
            "order": null,
            "_view_module_version": "1.2.0",
            "grid_template_areas": null,
            "object_position": null,
            "object_fit": null,
            "grid_auto_columns": null,
            "margin": null,
            "display": null,
            "left": null
          }
        },
        "9458d6a3182d43dc8797c4452897b06c": {
          "model_module": "@jupyter-widgets/controls",
          "model_name": "FloatProgressModel",
          "state": {
            "_view_name": "ProgressView",
            "style": "IPY_MODEL_e51d51444dd548129c6a60421d5b083c",
            "_dom_classes": [],
            "description": "Downloading: 100%",
            "_model_name": "FloatProgressModel",
            "bar_style": "success",
            "max": 231508,
            "_view_module": "@jupyter-widgets/controls",
            "_model_module_version": "1.5.0",
            "value": 231508,
            "_view_count": null,
            "_view_module_version": "1.5.0",
            "orientation": "horizontal",
            "min": 0,
            "description_tooltip": null,
            "_model_module": "@jupyter-widgets/controls",
            "layout": "IPY_MODEL_a525c6d6f30e4c22be8bd162eef77751"
          }
        },
        "f7beed5717ce429c9757f8204ea9512f": {
          "model_module": "@jupyter-widgets/controls",
          "model_name": "HTMLModel",
          "state": {
            "_view_name": "HTMLView",
            "style": "IPY_MODEL_9e8784d8bfdc4cf3b29333baa361328b",
            "_dom_classes": [],
            "description": "",
            "_model_name": "HTMLModel",
            "placeholder": "​",
            "_view_module": "@jupyter-widgets/controls",
            "_model_module_version": "1.5.0",
            "value": " 232k/232k [00:00&lt;00:00, 818kB/s]",
            "_view_count": null,
            "_view_module_version": "1.5.0",
            "description_tooltip": null,
            "_model_module": "@jupyter-widgets/controls",
            "layout": "IPY_MODEL_b29b756862e74530b4bb4fcf018c2424"
          }
        },
        "e51d51444dd548129c6a60421d5b083c": {
          "model_module": "@jupyter-widgets/controls",
          "model_name": "ProgressStyleModel",
          "state": {
            "_view_name": "StyleView",
            "_model_name": "ProgressStyleModel",
            "description_width": "initial",
            "_view_module": "@jupyter-widgets/base",
            "_model_module_version": "1.5.0",
            "_view_count": null,
            "_view_module_version": "1.2.0",
            "bar_color": null,
            "_model_module": "@jupyter-widgets/controls"
          }
        },
        "a525c6d6f30e4c22be8bd162eef77751": {
          "model_module": "@jupyter-widgets/base",
          "model_name": "LayoutModel",
          "state": {
            "_view_name": "LayoutView",
            "grid_template_rows": null,
            "right": null,
            "justify_content": null,
            "_view_module": "@jupyter-widgets/base",
            "overflow": null,
            "_model_module_version": "1.2.0",
            "_view_count": null,
            "flex_flow": null,
            "width": null,
            "min_width": null,
            "border": null,
            "align_items": null,
            "bottom": null,
            "_model_module": "@jupyter-widgets/base",
            "top": null,
            "grid_column": null,
            "overflow_y": null,
            "overflow_x": null,
            "grid_auto_flow": null,
            "grid_area": null,
            "grid_template_columns": null,
            "flex": null,
            "_model_name": "LayoutModel",
            "justify_items": null,
            "grid_row": null,
            "max_height": null,
            "align_content": null,
            "visibility": null,
            "align_self": null,
            "height": null,
            "min_height": null,
            "padding": null,
            "grid_auto_rows": null,
            "grid_gap": null,
            "max_width": null,
            "order": null,
            "_view_module_version": "1.2.0",
            "grid_template_areas": null,
            "object_position": null,
            "object_fit": null,
            "grid_auto_columns": null,
            "margin": null,
            "display": null,
            "left": null
          }
        },
        "9e8784d8bfdc4cf3b29333baa361328b": {
          "model_module": "@jupyter-widgets/controls",
          "model_name": "DescriptionStyleModel",
          "state": {
            "_view_name": "StyleView",
            "_model_name": "DescriptionStyleModel",
            "description_width": "",
            "_view_module": "@jupyter-widgets/base",
            "_model_module_version": "1.5.0",
            "_view_count": null,
            "_view_module_version": "1.2.0",
            "_model_module": "@jupyter-widgets/controls"
          }
        },
        "b29b756862e74530b4bb4fcf018c2424": {
          "model_module": "@jupyter-widgets/base",
          "model_name": "LayoutModel",
          "state": {
            "_view_name": "LayoutView",
            "grid_template_rows": null,
            "right": null,
            "justify_content": null,
            "_view_module": "@jupyter-widgets/base",
            "overflow": null,
            "_model_module_version": "1.2.0",
            "_view_count": null,
            "flex_flow": null,
            "width": null,
            "min_width": null,
            "border": null,
            "align_items": null,
            "bottom": null,
            "_model_module": "@jupyter-widgets/base",
            "top": null,
            "grid_column": null,
            "overflow_y": null,
            "overflow_x": null,
            "grid_auto_flow": null,
            "grid_area": null,
            "grid_template_columns": null,
            "flex": null,
            "_model_name": "LayoutModel",
            "justify_items": null,
            "grid_row": null,
            "max_height": null,
            "align_content": null,
            "visibility": null,
            "align_self": null,
            "height": null,
            "min_height": null,
            "padding": null,
            "grid_auto_rows": null,
            "grid_gap": null,
            "max_width": null,
            "order": null,
            "_view_module_version": "1.2.0",
            "grid_template_areas": null,
            "object_position": null,
            "object_fit": null,
            "grid_auto_columns": null,
            "margin": null,
            "display": null,
            "left": null
          }
        },
        "dd66996dc7474004866948b1db5f9f9c": {
          "model_module": "@jupyter-widgets/controls",
          "model_name": "HBoxModel",
          "state": {
            "_view_name": "HBoxView",
            "_dom_classes": [],
            "_model_name": "HBoxModel",
            "_view_module": "@jupyter-widgets/controls",
            "_model_module_version": "1.5.0",
            "_view_count": null,
            "_view_module_version": "1.5.0",
            "box_style": "",
            "layout": "IPY_MODEL_3e2ef243ac0549c18aa8141b1363f9cf",
            "_model_module": "@jupyter-widgets/controls",
            "children": [
              "IPY_MODEL_c568758921524256bf09850996eab394",
              "IPY_MODEL_c4297d843ea145738cea55ca58ba888a"
            ]
          }
        },
        "3e2ef243ac0549c18aa8141b1363f9cf": {
          "model_module": "@jupyter-widgets/base",
          "model_name": "LayoutModel",
          "state": {
            "_view_name": "LayoutView",
            "grid_template_rows": null,
            "right": null,
            "justify_content": null,
            "_view_module": "@jupyter-widgets/base",
            "overflow": null,
            "_model_module_version": "1.2.0",
            "_view_count": null,
            "flex_flow": null,
            "width": null,
            "min_width": null,
            "border": null,
            "align_items": null,
            "bottom": null,
            "_model_module": "@jupyter-widgets/base",
            "top": null,
            "grid_column": null,
            "overflow_y": null,
            "overflow_x": null,
            "grid_auto_flow": null,
            "grid_area": null,
            "grid_template_columns": null,
            "flex": null,
            "_model_name": "LayoutModel",
            "justify_items": null,
            "grid_row": null,
            "max_height": null,
            "align_content": null,
            "visibility": null,
            "align_self": null,
            "height": null,
            "min_height": null,
            "padding": null,
            "grid_auto_rows": null,
            "grid_gap": null,
            "max_width": null,
            "order": null,
            "_view_module_version": "1.2.0",
            "grid_template_areas": null,
            "object_position": null,
            "object_fit": null,
            "grid_auto_columns": null,
            "margin": null,
            "display": null,
            "left": null
          }
        },
        "c568758921524256bf09850996eab394": {
          "model_module": "@jupyter-widgets/controls",
          "model_name": "FloatProgressModel",
          "state": {
            "_view_name": "ProgressView",
            "style": "IPY_MODEL_6dd08b10316b4785bbefdb0849eb2190",
            "_dom_classes": [],
            "description": "Downloading: 100%",
            "_model_name": "FloatProgressModel",
            "bar_style": "success",
            "max": 213450,
            "_view_module": "@jupyter-widgets/controls",
            "_model_module_version": "1.5.0",
            "value": 213450,
            "_view_count": null,
            "_view_module_version": "1.5.0",
            "orientation": "horizontal",
            "min": 0,
            "description_tooltip": null,
            "_model_module": "@jupyter-widgets/controls",
            "layout": "IPY_MODEL_ac7b203f1a7c4f328355dac144afe1c8"
          }
        },
        "c4297d843ea145738cea55ca58ba888a": {
          "model_module": "@jupyter-widgets/controls",
          "model_name": "HTMLModel",
          "state": {
            "_view_name": "HTMLView",
            "style": "IPY_MODEL_78978603ebf24ff98985553ee02d14d2",
            "_dom_classes": [],
            "description": "",
            "_model_name": "HTMLModel",
            "placeholder": "​",
            "_view_module": "@jupyter-widgets/controls",
            "_model_module_version": "1.5.0",
            "value": " 213k/213k [00:01&lt;00:00, 196kB/s]",
            "_view_count": null,
            "_view_module_version": "1.5.0",
            "description_tooltip": null,
            "_model_module": "@jupyter-widgets/controls",
            "layout": "IPY_MODEL_16aba878745344f6a4f2c23786073091"
          }
        },
        "6dd08b10316b4785bbefdb0849eb2190": {
          "model_module": "@jupyter-widgets/controls",
          "model_name": "ProgressStyleModel",
          "state": {
            "_view_name": "StyleView",
            "_model_name": "ProgressStyleModel",
            "description_width": "initial",
            "_view_module": "@jupyter-widgets/base",
            "_model_module_version": "1.5.0",
            "_view_count": null,
            "_view_module_version": "1.2.0",
            "bar_color": null,
            "_model_module": "@jupyter-widgets/controls"
          }
        },
        "ac7b203f1a7c4f328355dac144afe1c8": {
          "model_module": "@jupyter-widgets/base",
          "model_name": "LayoutModel",
          "state": {
            "_view_name": "LayoutView",
            "grid_template_rows": null,
            "right": null,
            "justify_content": null,
            "_view_module": "@jupyter-widgets/base",
            "overflow": null,
            "_model_module_version": "1.2.0",
            "_view_count": null,
            "flex_flow": null,
            "width": null,
            "min_width": null,
            "border": null,
            "align_items": null,
            "bottom": null,
            "_model_module": "@jupyter-widgets/base",
            "top": null,
            "grid_column": null,
            "overflow_y": null,
            "overflow_x": null,
            "grid_auto_flow": null,
            "grid_area": null,
            "grid_template_columns": null,
            "flex": null,
            "_model_name": "LayoutModel",
            "justify_items": null,
            "grid_row": null,
            "max_height": null,
            "align_content": null,
            "visibility": null,
            "align_self": null,
            "height": null,
            "min_height": null,
            "padding": null,
            "grid_auto_rows": null,
            "grid_gap": null,
            "max_width": null,
            "order": null,
            "_view_module_version": "1.2.0",
            "grid_template_areas": null,
            "object_position": null,
            "object_fit": null,
            "grid_auto_columns": null,
            "margin": null,
            "display": null,
            "left": null
          }
        },
        "78978603ebf24ff98985553ee02d14d2": {
          "model_module": "@jupyter-widgets/controls",
          "model_name": "DescriptionStyleModel",
          "state": {
            "_view_name": "StyleView",
            "_model_name": "DescriptionStyleModel",
            "description_width": "",
            "_view_module": "@jupyter-widgets/base",
            "_model_module_version": "1.5.0",
            "_view_count": null,
            "_view_module_version": "1.2.0",
            "_model_module": "@jupyter-widgets/controls"
          }
        },
        "16aba878745344f6a4f2c23786073091": {
          "model_module": "@jupyter-widgets/base",
          "model_name": "LayoutModel",
          "state": {
            "_view_name": "LayoutView",
            "grid_template_rows": null,
            "right": null,
            "justify_content": null,
            "_view_module": "@jupyter-widgets/base",
            "overflow": null,
            "_model_module_version": "1.2.0",
            "_view_count": null,
            "flex_flow": null,
            "width": null,
            "min_width": null,
            "border": null,
            "align_items": null,
            "bottom": null,
            "_model_module": "@jupyter-widgets/base",
            "top": null,
            "grid_column": null,
            "overflow_y": null,
            "overflow_x": null,
            "grid_auto_flow": null,
            "grid_area": null,
            "grid_template_columns": null,
            "flex": null,
            "_model_name": "LayoutModel",
            "justify_items": null,
            "grid_row": null,
            "max_height": null,
            "align_content": null,
            "visibility": null,
            "align_self": null,
            "height": null,
            "min_height": null,
            "padding": null,
            "grid_auto_rows": null,
            "grid_gap": null,
            "max_width": null,
            "order": null,
            "_view_module_version": "1.2.0",
            "grid_template_areas": null,
            "object_position": null,
            "object_fit": null,
            "grid_auto_columns": null,
            "margin": null,
            "display": null,
            "left": null
          }
        },
        "bfad4c6fbad748aa84937687b542cee1": {
          "model_module": "@jupyter-widgets/controls",
          "model_name": "HBoxModel",
          "state": {
            "_view_name": "HBoxView",
            "_dom_classes": [],
            "_model_name": "HBoxModel",
            "_view_module": "@jupyter-widgets/controls",
            "_model_module_version": "1.5.0",
            "_view_count": null,
            "_view_module_version": "1.5.0",
            "box_style": "",
            "layout": "IPY_MODEL_26508ec9d4e1470bba64a4d2f1d7e262",
            "_model_module": "@jupyter-widgets/controls",
            "children": [
              "IPY_MODEL_149a63bba1884983a05892a8cae68e22",
              "IPY_MODEL_1c62cc153c564db486ebbaff56985a94"
            ]
          }
        },
        "26508ec9d4e1470bba64a4d2f1d7e262": {
          "model_module": "@jupyter-widgets/base",
          "model_name": "LayoutModel",
          "state": {
            "_view_name": "LayoutView",
            "grid_template_rows": null,
            "right": null,
            "justify_content": null,
            "_view_module": "@jupyter-widgets/base",
            "overflow": null,
            "_model_module_version": "1.2.0",
            "_view_count": null,
            "flex_flow": null,
            "width": null,
            "min_width": null,
            "border": null,
            "align_items": null,
            "bottom": null,
            "_model_module": "@jupyter-widgets/base",
            "top": null,
            "grid_column": null,
            "overflow_y": null,
            "overflow_x": null,
            "grid_auto_flow": null,
            "grid_area": null,
            "grid_template_columns": null,
            "flex": null,
            "_model_name": "LayoutModel",
            "justify_items": null,
            "grid_row": null,
            "max_height": null,
            "align_content": null,
            "visibility": null,
            "align_self": null,
            "height": null,
            "min_height": null,
            "padding": null,
            "grid_auto_rows": null,
            "grid_gap": null,
            "max_width": null,
            "order": null,
            "_view_module_version": "1.2.0",
            "grid_template_areas": null,
            "object_position": null,
            "object_fit": null,
            "grid_auto_columns": null,
            "margin": null,
            "display": null,
            "left": null
          }
        },
        "149a63bba1884983a05892a8cae68e22": {
          "model_module": "@jupyter-widgets/controls",
          "model_name": "FloatProgressModel",
          "state": {
            "_view_name": "ProgressView",
            "style": "IPY_MODEL_e1e225ebc2174c7dab1b5f9bc91d7e07",
            "_dom_classes": [],
            "description": "Downloading: 100%",
            "_model_name": "FloatProgressModel",
            "bar_style": "success",
            "max": 313,
            "_view_module": "@jupyter-widgets/controls",
            "_model_module_version": "1.5.0",
            "value": 313,
            "_view_count": null,
            "_view_module_version": "1.5.0",
            "orientation": "horizontal",
            "min": 0,
            "description_tooltip": null,
            "_model_module": "@jupyter-widgets/controls",
            "layout": "IPY_MODEL_3f4f34344ab7437a84aa857002ab6e09"
          }
        },
        "1c62cc153c564db486ebbaff56985a94": {
          "model_module": "@jupyter-widgets/controls",
          "model_name": "HTMLModel",
          "state": {
            "_view_name": "HTMLView",
            "style": "IPY_MODEL_919ae241d4134560a7fd2209317cc271",
            "_dom_classes": [],
            "description": "",
            "_model_name": "HTMLModel",
            "placeholder": "​",
            "_view_module": "@jupyter-widgets/controls",
            "_model_module_version": "1.5.0",
            "value": " 313/313 [00:00&lt;00:00, 717B/s]",
            "_view_count": null,
            "_view_module_version": "1.5.0",
            "description_tooltip": null,
            "_model_module": "@jupyter-widgets/controls",
            "layout": "IPY_MODEL_ef32c484a900434e9c9a146306c66b59"
          }
        },
        "e1e225ebc2174c7dab1b5f9bc91d7e07": {
          "model_module": "@jupyter-widgets/controls",
          "model_name": "ProgressStyleModel",
          "state": {
            "_view_name": "StyleView",
            "_model_name": "ProgressStyleModel",
            "description_width": "initial",
            "_view_module": "@jupyter-widgets/base",
            "_model_module_version": "1.5.0",
            "_view_count": null,
            "_view_module_version": "1.2.0",
            "bar_color": null,
            "_model_module": "@jupyter-widgets/controls"
          }
        },
        "3f4f34344ab7437a84aa857002ab6e09": {
          "model_module": "@jupyter-widgets/base",
          "model_name": "LayoutModel",
          "state": {
            "_view_name": "LayoutView",
            "grid_template_rows": null,
            "right": null,
            "justify_content": null,
            "_view_module": "@jupyter-widgets/base",
            "overflow": null,
            "_model_module_version": "1.2.0",
            "_view_count": null,
            "flex_flow": null,
            "width": null,
            "min_width": null,
            "border": null,
            "align_items": null,
            "bottom": null,
            "_model_module": "@jupyter-widgets/base",
            "top": null,
            "grid_column": null,
            "overflow_y": null,
            "overflow_x": null,
            "grid_auto_flow": null,
            "grid_area": null,
            "grid_template_columns": null,
            "flex": null,
            "_model_name": "LayoutModel",
            "justify_items": null,
            "grid_row": null,
            "max_height": null,
            "align_content": null,
            "visibility": null,
            "align_self": null,
            "height": null,
            "min_height": null,
            "padding": null,
            "grid_auto_rows": null,
            "grid_gap": null,
            "max_width": null,
            "order": null,
            "_view_module_version": "1.2.0",
            "grid_template_areas": null,
            "object_position": null,
            "object_fit": null,
            "grid_auto_columns": null,
            "margin": null,
            "display": null,
            "left": null
          }
        },
        "919ae241d4134560a7fd2209317cc271": {
          "model_module": "@jupyter-widgets/controls",
          "model_name": "DescriptionStyleModel",
          "state": {
            "_view_name": "StyleView",
            "_model_name": "DescriptionStyleModel",
            "description_width": "",
            "_view_module": "@jupyter-widgets/base",
            "_model_module_version": "1.5.0",
            "_view_count": null,
            "_view_module_version": "1.2.0",
            "_model_module": "@jupyter-widgets/controls"
          }
        },
        "ef32c484a900434e9c9a146306c66b59": {
          "model_module": "@jupyter-widgets/base",
          "model_name": "LayoutModel",
          "state": {
            "_view_name": "LayoutView",
            "grid_template_rows": null,
            "right": null,
            "justify_content": null,
            "_view_module": "@jupyter-widgets/base",
            "overflow": null,
            "_model_module_version": "1.2.0",
            "_view_count": null,
            "flex_flow": null,
            "width": null,
            "min_width": null,
            "border": null,
            "align_items": null,
            "bottom": null,
            "_model_module": "@jupyter-widgets/base",
            "top": null,
            "grid_column": null,
            "overflow_y": null,
            "overflow_x": null,
            "grid_auto_flow": null,
            "grid_area": null,
            "grid_template_columns": null,
            "flex": null,
            "_model_name": "LayoutModel",
            "justify_items": null,
            "grid_row": null,
            "max_height": null,
            "align_content": null,
            "visibility": null,
            "align_self": null,
            "height": null,
            "min_height": null,
            "padding": null,
            "grid_auto_rows": null,
            "grid_gap": null,
            "max_width": null,
            "order": null,
            "_view_module_version": "1.2.0",
            "grid_template_areas": null,
            "object_position": null,
            "object_fit": null,
            "grid_auto_columns": null,
            "margin": null,
            "display": null,
            "left": null
          }
        },
        "677d60fa5ef34265b7977971f0639f44": {
          "model_module": "@jupyter-widgets/controls",
          "model_name": "HBoxModel",
          "state": {
            "_view_name": "HBoxView",
            "_dom_classes": [],
            "_model_name": "HBoxModel",
            "_view_module": "@jupyter-widgets/controls",
            "_model_module_version": "1.5.0",
            "_view_count": null,
            "_view_module_version": "1.5.0",
            "box_style": "",
            "layout": "IPY_MODEL_e8e2e166db13423eb92afd424884601f",
            "_model_module": "@jupyter-widgets/controls",
            "children": [
              "IPY_MODEL_0707e16d08264ed480bba48c7eb9d2c0",
              "IPY_MODEL_8a5c2884f6f747379f04305662a2e1e4"
            ]
          }
        },
        "e8e2e166db13423eb92afd424884601f": {
          "model_module": "@jupyter-widgets/base",
          "model_name": "LayoutModel",
          "state": {
            "_view_name": "LayoutView",
            "grid_template_rows": null,
            "right": null,
            "justify_content": null,
            "_view_module": "@jupyter-widgets/base",
            "overflow": null,
            "_model_module_version": "1.2.0",
            "_view_count": null,
            "flex_flow": null,
            "width": null,
            "min_width": null,
            "border": null,
            "align_items": null,
            "bottom": null,
            "_model_module": "@jupyter-widgets/base",
            "top": null,
            "grid_column": null,
            "overflow_y": null,
            "overflow_x": null,
            "grid_auto_flow": null,
            "grid_area": null,
            "grid_template_columns": null,
            "flex": null,
            "_model_name": "LayoutModel",
            "justify_items": null,
            "grid_row": null,
            "max_height": null,
            "align_content": null,
            "visibility": null,
            "align_self": null,
            "height": null,
            "min_height": null,
            "padding": null,
            "grid_auto_rows": null,
            "grid_gap": null,
            "max_width": null,
            "order": null,
            "_view_module_version": "1.2.0",
            "grid_template_areas": null,
            "object_position": null,
            "object_fit": null,
            "grid_auto_columns": null,
            "margin": null,
            "display": null,
            "left": null
          }
        },
        "0707e16d08264ed480bba48c7eb9d2c0": {
          "model_module": "@jupyter-widgets/controls",
          "model_name": "FloatProgressModel",
          "state": {
            "_view_name": "ProgressView",
            "style": "IPY_MODEL_5abdf60d799245e0ab2e46ad105a9bd3",
            "_dom_classes": [],
            "description": "Downloading: 100%",
            "_model_name": "FloatProgressModel",
            "bar_style": "success",
            "max": 435780550,
            "_view_module": "@jupyter-widgets/controls",
            "_model_module_version": "1.5.0",
            "value": 435780550,
            "_view_count": null,
            "_view_module_version": "1.5.0",
            "orientation": "horizontal",
            "min": 0,
            "description_tooltip": null,
            "_model_module": "@jupyter-widgets/controls",
            "layout": "IPY_MODEL_12f751467b524ca4a29141a4a7d2ca24"
          }
        },
        "8a5c2884f6f747379f04305662a2e1e4": {
          "model_module": "@jupyter-widgets/controls",
          "model_name": "HTMLModel",
          "state": {
            "_view_name": "HTMLView",
            "style": "IPY_MODEL_c5577a4cb5bf45728efccaa6ac841c63",
            "_dom_classes": [],
            "description": "",
            "_model_name": "HTMLModel",
            "placeholder": "​",
            "_view_module": "@jupyter-widgets/controls",
            "_model_module_version": "1.5.0",
            "value": " 436M/436M [09:26&lt;00:00, 769kB/s]",
            "_view_count": null,
            "_view_module_version": "1.5.0",
            "description_tooltip": null,
            "_model_module": "@jupyter-widgets/controls",
            "layout": "IPY_MODEL_5b34413eae824f8baded53e2ded867ad"
          }
        },
        "5abdf60d799245e0ab2e46ad105a9bd3": {
          "model_module": "@jupyter-widgets/controls",
          "model_name": "ProgressStyleModel",
          "state": {
            "_view_name": "StyleView",
            "_model_name": "ProgressStyleModel",
            "description_width": "initial",
            "_view_module": "@jupyter-widgets/base",
            "_model_module_version": "1.5.0",
            "_view_count": null,
            "_view_module_version": "1.2.0",
            "bar_color": null,
            "_model_module": "@jupyter-widgets/controls"
          }
        },
        "12f751467b524ca4a29141a4a7d2ca24": {
          "model_module": "@jupyter-widgets/base",
          "model_name": "LayoutModel",
          "state": {
            "_view_name": "LayoutView",
            "grid_template_rows": null,
            "right": null,
            "justify_content": null,
            "_view_module": "@jupyter-widgets/base",
            "overflow": null,
            "_model_module_version": "1.2.0",
            "_view_count": null,
            "flex_flow": null,
            "width": null,
            "min_width": null,
            "border": null,
            "align_items": null,
            "bottom": null,
            "_model_module": "@jupyter-widgets/base",
            "top": null,
            "grid_column": null,
            "overflow_y": null,
            "overflow_x": null,
            "grid_auto_flow": null,
            "grid_area": null,
            "grid_template_columns": null,
            "flex": null,
            "_model_name": "LayoutModel",
            "justify_items": null,
            "grid_row": null,
            "max_height": null,
            "align_content": null,
            "visibility": null,
            "align_self": null,
            "height": null,
            "min_height": null,
            "padding": null,
            "grid_auto_rows": null,
            "grid_gap": null,
            "max_width": null,
            "order": null,
            "_view_module_version": "1.2.0",
            "grid_template_areas": null,
            "object_position": null,
            "object_fit": null,
            "grid_auto_columns": null,
            "margin": null,
            "display": null,
            "left": null
          }
        },
        "c5577a4cb5bf45728efccaa6ac841c63": {
          "model_module": "@jupyter-widgets/controls",
          "model_name": "DescriptionStyleModel",
          "state": {
            "_view_name": "StyleView",
            "_model_name": "DescriptionStyleModel",
            "description_width": "",
            "_view_module": "@jupyter-widgets/base",
            "_model_module_version": "1.5.0",
            "_view_count": null,
            "_view_module_version": "1.2.0",
            "_model_module": "@jupyter-widgets/controls"
          }
        },
        "5b34413eae824f8baded53e2ded867ad": {
          "model_module": "@jupyter-widgets/base",
          "model_name": "LayoutModel",
          "state": {
            "_view_name": "LayoutView",
            "grid_template_rows": null,
            "right": null,
            "justify_content": null,
            "_view_module": "@jupyter-widgets/base",
            "overflow": null,
            "_model_module_version": "1.2.0",
            "_view_count": null,
            "flex_flow": null,
            "width": null,
            "min_width": null,
            "border": null,
            "align_items": null,
            "bottom": null,
            "_model_module": "@jupyter-widgets/base",
            "top": null,
            "grid_column": null,
            "overflow_y": null,
            "overflow_x": null,
            "grid_auto_flow": null,
            "grid_area": null,
            "grid_template_columns": null,
            "flex": null,
            "_model_name": "LayoutModel",
            "justify_items": null,
            "grid_row": null,
            "max_height": null,
            "align_content": null,
            "visibility": null,
            "align_self": null,
            "height": null,
            "min_height": null,
            "padding": null,
            "grid_auto_rows": null,
            "grid_gap": null,
            "max_width": null,
            "order": null,
            "_view_module_version": "1.2.0",
            "grid_template_areas": null,
            "object_position": null,
            "object_fit": null,
            "grid_auto_columns": null,
            "margin": null,
            "display": null,
            "left": null
          }
        }
      }
    }
  },
  "cells": [
    {
      "cell_type": "markdown",
      "metadata": {
        "id": "Cofe_ikRXZDQ"
      },
      "source": [
        "# Apprentissage sur les données `litcovid`\n",
        "Dans ce notebook, nous explorons les données contenues dans l'archive `litcovid`, et comparons plusieurs modèles pour la prédiction des catégories : \n",
        "* Méthodes traditionnelles : TF-IDF + modèles scikit-learn\n",
        "* Réseaux simples\n",
        "* BioBert"
      ]
    },
    {
      "cell_type": "code",
      "metadata": {
        "id": "pp7qdOWzp01v"
      },
      "source": [
        "import json\n",
        "import os, sys, ast, re\n",
        "from tqdm import tqdm\n",
        "import requests\n",
        "import time\n",
        "\n",
        "import numpy as np\n",
        "import pandas as pd\n",
        "from collections import Counter"
      ],
      "execution_count": 3,
      "outputs": []
    },
    {
      "cell_type": "code",
      "metadata": {
        "id": "LPgtyKa5YG09",
        "colab": {
          "base_uri": "https://localhost:8080/"
        },
        "outputId": "baa1e14b-d4da-4024-b723-0dd11a8b1fd1"
      },
      "source": [
        "!pip install bidict\n",
        "import matplotlib.pyplot as plt\n",
        "import seaborn as sns\n",
        "from bidict import bidict"
      ],
      "execution_count": 4,
      "outputs": [
        {
          "output_type": "stream",
          "text": [
            "Collecting bidict\n",
            "  Downloading https://files.pythonhosted.org/packages/67/d4/eaf9242722bf991e0955380dd6168020cb15a71cc0d3cc2373f4911b1f1d/bidict-0.21.2-py2.py3-none-any.whl\n",
            "Installing collected packages: bidict\n",
            "Successfully installed bidict-0.21.2\n"
          ],
          "name": "stdout"
        }
      ]
    },
    {
      "cell_type": "code",
      "metadata": {
        "id": "av5S6eDKPU3G"
      },
      "source": [
        "seed = 42"
      ],
      "execution_count": 5,
      "outputs": []
    },
    {
      "cell_type": "markdown",
      "metadata": {
        "id": "-9pfxz4VpxZl"
      },
      "source": [
        "## Data Exploration"
      ]
    },
    {
      "cell_type": "code",
      "metadata": {
        "id": "tPF3vtC3sQAI"
      },
      "source": [
        "litcovid = requests.get('https://pageperso.lis-lab.fr/benoit.favre/covid19-data/20201206/litcovid.json').json()"
      ],
      "execution_count": 6,
      "outputs": []
    },
    {
      "cell_type": "code",
      "metadata": {
        "colab": {
          "base_uri": "https://localhost:8080/"
        },
        "id": "sUU5Qu90s1x3",
        "outputId": "4098c5b2-550b-4312-ca51-db6eb562374e"
      },
      "source": [
        "litcovid[0]"
      ],
      "execution_count": 7,
      "outputs": [
        {
          "output_type": "execute_result",
          "data": {
            "text/plain": [
              "{'_id': '33273934',\n",
              " 'abstract': 'The COVID-19 outbreak is public health emergency, spreads easily from human to human, and may cause acute severe respiratory syndrome. The anesthesia teams who perform this procedure are at risk aerosolization and need special consideration and safety measures. Cardiac anesthesiologist follows two aims, recognition of COVID-19 patients that need surgery and decreasing the risk of perioperative viral transmission to coworkers. An isolated operating room (negative pressure operating room for COVID-19) should be available. It is important to regulate workflow and practices, anesthesia management, healthcare, and staff. Cardiac anesthesiologist and health-care workers must be use guidelines to treat patients with COVID-19.',\n",
              " 'authors': ['Ziyaeifard, Mohsen', 'Ziyaeifard, Parisa'],\n",
              " 'date': '2020-12-05T12:00:00Z',\n",
              " 'journal': 'J Res Med Sci',\n",
              " 'pmcid': 'PMC7698443',\n",
              " 'pmid': 33273934,\n",
              " 'text_hl': None,\n",
              " 'title': 'Cardiac anesthesia and COVID-19 outbreak: What should we know?',\n",
              " 'topics': ['Prevention']}"
            ]
          },
          "metadata": {
            "tags": []
          },
          "execution_count": 7
        }
      ]
    },
    {
      "cell_type": "code",
      "metadata": {
        "colab": {
          "base_uri": "https://localhost:8080/"
        },
        "id": "uClqQE444kM4",
        "outputId": "e38b70b8-1846-497d-f4b1-255f7f988e37"
      },
      "source": [
        "len(litcovid)"
      ],
      "execution_count": 8,
      "outputs": [
        {
          "output_type": "execute_result",
          "data": {
            "text/plain": [
              "77522"
            ]
          },
          "metadata": {
            "tags": []
          },
          "execution_count": 8
        }
      ]
    },
    {
      "cell_type": "code",
      "metadata": {
        "colab": {
          "base_uri": "https://localhost:8080/",
          "height": 374
        },
        "id": "hg9HwtpetHpn",
        "outputId": "11d8ef6c-00a7-4a8d-dec4-abce8ffe492e"
      },
      "source": [
        "df = pd.DataFrame(litcovid)\n",
        "df.head()"
      ],
      "execution_count": 9,
      "outputs": [
        {
          "output_type": "execute_result",
          "data": {
            "text/html": [
              "<div>\n",
              "<style scoped>\n",
              "    .dataframe tbody tr th:only-of-type {\n",
              "        vertical-align: middle;\n",
              "    }\n",
              "\n",
              "    .dataframe tbody tr th {\n",
              "        vertical-align: top;\n",
              "    }\n",
              "\n",
              "    .dataframe thead th {\n",
              "        text-align: right;\n",
              "    }\n",
              "</style>\n",
              "<table border=\"1\" class=\"dataframe\">\n",
              "  <thead>\n",
              "    <tr style=\"text-align: right;\">\n",
              "      <th></th>\n",
              "      <th>pmid</th>\n",
              "      <th>pmcid</th>\n",
              "      <th>title</th>\n",
              "      <th>journal</th>\n",
              "      <th>authors</th>\n",
              "      <th>date</th>\n",
              "      <th>_id</th>\n",
              "      <th>topics</th>\n",
              "      <th>text_hl</th>\n",
              "      <th>abstract</th>\n",
              "      <th>countries</th>\n",
              "    </tr>\n",
              "  </thead>\n",
              "  <tbody>\n",
              "    <tr>\n",
              "      <th>0</th>\n",
              "      <td>33273934</td>\n",
              "      <td>PMC7698443</td>\n",
              "      <td>Cardiac anesthesia and COVID-19 outbreak: What...</td>\n",
              "      <td>J Res Med Sci</td>\n",
              "      <td>[Ziyaeifard, Mohsen, Ziyaeifard, Parisa]</td>\n",
              "      <td>2020-12-05T12:00:00Z</td>\n",
              "      <td>33273934</td>\n",
              "      <td>[Prevention]</td>\n",
              "      <td>None</td>\n",
              "      <td>The COVID-19 outbreak is public health emergen...</td>\n",
              "      <td>NaN</td>\n",
              "    </tr>\n",
              "    <tr>\n",
              "      <th>1</th>\n",
              "      <td>33271925</td>\n",
              "      <td>NaN</td>\n",
              "      <td>Establishment of Murine Hybridoma Cells Produc...</td>\n",
              "      <td>Int J Mol Sci</td>\n",
              "      <td>[Antipova, Nadezhda V, Larionova, Tatyana D, S...</td>\n",
              "      <td>2020-12-05T12:00:00Z</td>\n",
              "      <td>33271925</td>\n",
              "      <td>[Diagnosis, Mechanism, Treatment]</td>\n",
              "      <td>None</td>\n",
              "      <td>In 2020 the world faced the pandemic of COVID-...</td>\n",
              "      <td>NaN</td>\n",
              "    </tr>\n",
              "    <tr>\n",
              "      <th>2</th>\n",
              "      <td>33275269</td>\n",
              "      <td>NaN</td>\n",
              "      <td>Procalcitonin is a predictor of disseminated i...</td>\n",
              "      <td>Eur Rev Med Pharmacol Sci</td>\n",
              "      <td>[Asoglu, R, Tibilli, H, Afsin, A, Turkmen, S, ...</td>\n",
              "      <td>2020-12-05T12:00:00Z</td>\n",
              "      <td>33275269</td>\n",
              "      <td>[Diagnosis, Treatment]</td>\n",
              "      <td>None</td>\n",
              "      <td>The coagulopathies that present with COVID-19 ...</td>\n",
              "      <td>NaN</td>\n",
              "    </tr>\n",
              "    <tr>\n",
              "      <th>3</th>\n",
              "      <td>33275275</td>\n",
              "      <td>NaN</td>\n",
              "      <td>Application of machine intelligence technology...</td>\n",
              "      <td>Eur Rev Med Pharmacol Sci</td>\n",
              "      <td>[Alsharif, M H, Alsharif, Y H, Albreem, M A, J...</td>\n",
              "      <td>2020-12-05T12:00:00Z</td>\n",
              "      <td>33275275</td>\n",
              "      <td>[Treatment]</td>\n",
              "      <td>None</td>\n",
              "      <td>Researchers have found many similarities betwe...</td>\n",
              "      <td>NaN</td>\n",
              "    </tr>\n",
              "    <tr>\n",
              "      <th>4</th>\n",
              "      <td>33272571</td>\n",
              "      <td>NaN</td>\n",
              "      <td>Structural stability of SARS-CoV-2 virus like ...</td>\n",
              "      <td>Biochem Biophys Res Commun</td>\n",
              "      <td>[Sharma, A, Preece, B, Swann, H, Fan, X, McKen...</td>\n",
              "      <td>2020-12-05T12:00:00Z</td>\n",
              "      <td>33272571</td>\n",
              "      <td>[Mechanism]</td>\n",
              "      <td>None</td>\n",
              "      <td>SARS-CoV-2 is a novel coronavirus which has ca...</td>\n",
              "      <td>NaN</td>\n",
              "    </tr>\n",
              "  </tbody>\n",
              "</table>\n",
              "</div>"
            ],
            "text/plain": [
              "       pmid  ... countries\n",
              "0  33273934  ...       NaN\n",
              "1  33271925  ...       NaN\n",
              "2  33275269  ...       NaN\n",
              "3  33275275  ...       NaN\n",
              "4  33272571  ...       NaN\n",
              "\n",
              "[5 rows x 11 columns]"
            ]
          },
          "metadata": {
            "tags": []
          },
          "execution_count": 9
        }
      ]
    },
    {
      "cell_type": "code",
      "metadata": {
        "colab": {
          "base_uri": "https://localhost:8080/"
        },
        "id": "i-X7HDGVt30-",
        "outputId": "0adba4b1-0473-4b5e-db28-324446bd360e"
      },
      "source": [
        "df.columns"
      ],
      "execution_count": 10,
      "outputs": [
        {
          "output_type": "execute_result",
          "data": {
            "text/plain": [
              "Index(['pmid', 'pmcid', 'title', 'journal', 'authors', 'date', '_id', 'topics',\n",
              "       'text_hl', 'abstract', 'countries'],\n",
              "      dtype='object')"
            ]
          },
          "metadata": {
            "tags": []
          },
          "execution_count": 10
        }
      ]
    },
    {
      "cell_type": "markdown",
      "metadata": {
        "id": "Ruwfw6u5ZT9V"
      },
      "source": [
        "Les colonnes qui nous intéressent sont le titre (`title`), l'`abstract` et la catégorie (`topic`)."
      ]
    },
    {
      "cell_type": "code",
      "metadata": {
        "colab": {
          "base_uri": "https://localhost:8080/"
        },
        "id": "TMesfor1t6nO",
        "outputId": "635be874-7249-42a3-b704-1154903be23a"
      },
      "source": [
        "df.isna().sum(axis=0) / df.shape[0]"
      ],
      "execution_count": 11,
      "outputs": [
        {
          "output_type": "execute_result",
          "data": {
            "text/plain": [
              "pmid         0.000000\n",
              "pmcid        0.312737\n",
              "title        0.000013\n",
              "journal      0.000013\n",
              "authors      0.010784\n",
              "date         0.000000\n",
              "_id          0.000000\n",
              "topics       0.294020\n",
              "text_hl      1.000000\n",
              "abstract     0.000800\n",
              "countries    0.680633\n",
              "dtype: float64"
            ]
          },
          "metadata": {
            "tags": []
          },
          "execution_count": 11
        }
      ]
    },
    {
      "cell_type": "markdown",
      "metadata": {
        "id": "LLQx7rb6uyxx"
      },
      "source": [
        "On s'intéresse ici à la prédiction de catégories, on enlève donc les données sans label.\n",
        "\n"
      ]
    },
    {
      "cell_type": "code",
      "metadata": {
        "colab": {
          "base_uri": "https://localhost:8080/"
        },
        "id": "YAZR6QNVt95z",
        "outputId": "dfa49c96-630a-4e98-f262-10f0051612f9"
      },
      "source": [
        "df = df[~df.topics.isna()]\n",
        "df.shape"
      ],
      "execution_count": 12,
      "outputs": [
        {
          "output_type": "execute_result",
          "data": {
            "text/plain": [
              "(54729, 11)"
            ]
          },
          "metadata": {
            "tags": []
          },
          "execution_count": 12
        }
      ]
    },
    {
      "cell_type": "markdown",
      "metadata": {
        "id": "J8cXWTluvw7B"
      },
      "source": [
        "Vérification des catégories:"
      ]
    },
    {
      "cell_type": "code",
      "metadata": {
        "colab": {
          "base_uri": "https://localhost:8080/"
        },
        "id": "cLlN68fFvIWE",
        "outputId": "ac168358-89f9-4f5b-eae1-1fd4e391625b"
      },
      "source": [
        "Counter([y for x in df.topics.tolist() for y in x])"
      ],
      "execution_count": 13,
      "outputs": [
        {
          "output_type": "execute_result",
          "data": {
            "text/plain": [
              "Counter({'Case Report': 4567,\n",
              "         'Diagnosis': 12276,\n",
              "         'Epidemic Forecasting': 1047,\n",
              "         'General Info': 1743,\n",
              "         'Mechanism': 8408,\n",
              "         'NONE': 2,\n",
              "         'Prevention': 24696,\n",
              "         'Transmission': 2087,\n",
              "         'Treatment': 17449})"
            ]
          },
          "metadata": {
            "tags": []
          },
          "execution_count": 13
        }
      ]
    },
    {
      "cell_type": "code",
      "metadata": {
        "colab": {
          "base_uri": "https://localhost:8080/",
          "height": 179
        },
        "id": "z2snYL2Fahgn",
        "outputId": "68b35d27-37e1-476d-80ba-0b5cbd6f116d"
      },
      "source": [
        "df[df.topics.apply(lambda x: 'NONE' in x)]"
      ],
      "execution_count": 14,
      "outputs": [
        {
          "output_type": "execute_result",
          "data": {
            "text/html": [
              "<div>\n",
              "<style scoped>\n",
              "    .dataframe tbody tr th:only-of-type {\n",
              "        vertical-align: middle;\n",
              "    }\n",
              "\n",
              "    .dataframe tbody tr th {\n",
              "        vertical-align: top;\n",
              "    }\n",
              "\n",
              "    .dataframe thead th {\n",
              "        text-align: right;\n",
              "    }\n",
              "</style>\n",
              "<table border=\"1\" class=\"dataframe\">\n",
              "  <thead>\n",
              "    <tr style=\"text-align: right;\">\n",
              "      <th></th>\n",
              "      <th>pmid</th>\n",
              "      <th>pmcid</th>\n",
              "      <th>title</th>\n",
              "      <th>journal</th>\n",
              "      <th>authors</th>\n",
              "      <th>date</th>\n",
              "      <th>_id</th>\n",
              "      <th>topics</th>\n",
              "      <th>text_hl</th>\n",
              "      <th>abstract</th>\n",
              "      <th>countries</th>\n",
              "    </tr>\n",
              "  </thead>\n",
              "  <tbody>\n",
              "    <tr>\n",
              "      <th>1256</th>\n",
              "      <td>33251082</td>\n",
              "      <td>PMC7682771</td>\n",
              "      <td>Intelligent computing with Levenberg-Marquardt...</td>\n",
              "      <td>Eur Phys J Plus</td>\n",
              "      <td>[Cheema, Tahir Nawaz, Raja, Muhammad Asif Zaho...</td>\n",
              "      <td>2020-12-01T12:00:00Z</td>\n",
              "      <td>33251082</td>\n",
              "      <td>[NONE, Epidemic Forecasting]</td>\n",
              "      <td>None</td>\n",
              "      <td>The aim of this work is to design an intellige...</td>\n",
              "      <td>[Pakistan, China]</td>\n",
              "    </tr>\n",
              "    <tr>\n",
              "      <th>30213</th>\n",
              "      <td>32847378</td>\n",
              "      <td>PMC7453156</td>\n",
              "      <td>To tele- or not to telehealth? Ongoing COVID-1...</td>\n",
              "      <td>Australas Psychiatry</td>\n",
              "      <td>[Looi, Jeffrey Cl, Pring, William]</td>\n",
              "      <td>2020-08-28T12:00:00Z</td>\n",
              "      <td>32847378</td>\n",
              "      <td>[NONE, Prevention]</td>\n",
              "      <td>None</td>\n",
              "      <td>Following a very rapid and significant uptake ...</td>\n",
              "      <td>[Australia]</td>\n",
              "    </tr>\n",
              "  </tbody>\n",
              "</table>\n",
              "</div>"
            ],
            "text/plain": [
              "           pmid  ...          countries\n",
              "1256   33251082  ...  [Pakistan, China]\n",
              "30213  32847378  ...        [Australia]\n",
              "\n",
              "[2 rows x 11 columns]"
            ]
          },
          "metadata": {
            "tags": []
          },
          "execution_count": 14
        }
      ]
    },
    {
      "cell_type": "markdown",
      "metadata": {
        "id": "3qpSUJWYdE8w"
      },
      "source": [
        "On remarque que deux items contiennent le label `NONE`, qui n'était pas attendu ; ces deux items sont également mis de côté."
      ]
    },
    {
      "cell_type": "code",
      "metadata": {
        "id": "Bf4GYXzsv3OM",
        "colab": {
          "base_uri": "https://localhost:8080/"
        },
        "outputId": "50dc1192-ea02-46d9-e20f-323b7c1715ae"
      },
      "source": [
        "df = df[~df.topics.apply(lambda x: 'NONE' in x)]\n",
        "df.shape"
      ],
      "execution_count": 15,
      "outputs": [
        {
          "output_type": "execute_result",
          "data": {
            "text/plain": [
              "(54727, 11)"
            ]
          },
          "metadata": {
            "tags": []
          },
          "execution_count": 15
        }
      ]
    },
    {
      "cell_type": "code",
      "metadata": {
        "colab": {
          "base_uri": "https://localhost:8080/",
          "height": 441
        },
        "id": "iGUBm9Q5_l_r",
        "outputId": "d9543433-6c40-4b4c-ac8e-02bb433464e9"
      },
      "source": [
        "fig = plt.figure(figsize=(8,6))\n",
        "c = Counter([y for x in df.topics.tolist() for y in x])\n",
        "plt.bar(np.arange(8), c.values())\n",
        "plt.title('Nombre d\\'articles pour chaque catégorie',size='x-large')\n",
        "plt.ylabel('Nombre d\\'article',size='x-large')\n",
        "plt.xticks(np.arange(8), c.keys(), rotation='vertical',size='x-large')\n",
        "plt.tight_layout()\n",
        "plt.show()"
      ],
      "execution_count": 16,
      "outputs": [
        {
          "output_type": "display_data",
          "data": {
            "image/png": "[encoded data removed]",
            "text/plain": [
              "<Figure size 576x432 with 1 Axes>"
            ]
          },
          "metadata": {
            "tags": [],
            "needs_background": "light"
          }
        }
      ]
    },
    {
      "cell_type": "code",
      "metadata": {
        "colab": {
          "base_uri": "https://localhost:8080/",
          "height": 282
        },
        "id": "MIpCKhrFg9-x",
        "outputId": "3cbf1e96-b2ce-4de2-fc98-2e787fb3e9de"
      },
      "source": [
        "df.topics.apply(len).hist()"
      ],
      "execution_count": 17,
      "outputs": [
        {
          "output_type": "execute_result",
          "data": {
            "text/plain": [
              "<matplotlib.axes._subplots.AxesSubplot at 0x7f1f1464a470>"
            ]
          },
          "metadata": {
            "tags": []
          },
          "execution_count": 17
        },
        {
          "output_type": "display_data",
          "data": {
            "image/png": "[encoded data removed]",
            "text/plain": [
              "<Figure size 432x288 with 1 Axes>"
            ]
          },
          "metadata": {
            "tags": [],
            "needs_background": "light"
          }
        }
      ]
    },
    {
      "cell_type": "code",
      "metadata": {
        "colab": {
          "base_uri": "https://localhost:8080/"
        },
        "id": "W6lFWPEM7hos",
        "outputId": "7005a0a9-c166-4311-e6c9-78d81c327fd2"
      },
      "source": [
        "df.topics.apply(len).value_counts() / df.topics.shape[0]"
      ],
      "execution_count": 18,
      "outputs": [
        {
          "output_type": "execute_result",
          "data": {
            "text/plain": [
              "1    0.716374\n",
              "2    0.250955\n",
              "3    0.028889\n",
              "4    0.003289\n",
              "5    0.000493\n",
              "Name: topics, dtype: float64"
            ]
          },
          "metadata": {
            "tags": []
          },
          "execution_count": 18
        }
      ]
    },
    {
      "cell_type": "markdown",
      "metadata": {
        "id": "Qu1KT2Q-g9-z"
      },
      "source": [
        "La majorité des items ont 1 label, certains en ont 2, une minorité 3 ou 4 (sur 8)."
      ]
    },
    {
      "cell_type": "code",
      "metadata": {
        "colab": {
          "base_uri": "https://localhost:8080/"
        },
        "id": "vQj9OqLXu83M",
        "outputId": "2a9cfd8f-494b-4d78-ed9a-af8100c54d03"
      },
      "source": [
        "df.isna().sum(axis=0) / df.shape[0]"
      ],
      "execution_count": 19,
      "outputs": [
        {
          "output_type": "execute_result",
          "data": {
            "text/plain": [
              "pmid         0.000000\n",
              "pmcid        0.279898\n",
              "title        0.000000\n",
              "journal      0.000000\n",
              "authors      0.006615\n",
              "date         0.000000\n",
              "_id          0.000000\n",
              "topics       0.000000\n",
              "text_hl      1.000000\n",
              "abstract     0.000767\n",
              "countries    0.658962\n",
              "dtype: float64"
            ]
          },
          "metadata": {
            "tags": []
          },
          "execution_count": 19
        }
      ]
    },
    {
      "cell_type": "markdown",
      "metadata": {
        "id": "x40jShFrxMbw"
      },
      "source": [
        "Quelle est la longueur moyenne des abstracts ?"
      ]
    },
    {
      "cell_type": "code",
      "metadata": {
        "colab": {
          "base_uri": "https://localhost:8080/"
        },
        "id": "QbfXEPt5xWar",
        "outputId": "92b6494f-7308-4ab1-99ae-49b458789997"
      },
      "source": [
        "abstracts = df[~df.abstract.isna()].abstract\n",
        "abstracts.shape, abstracts[0]"
      ],
      "execution_count": 20,
      "outputs": [
        {
          "output_type": "execute_result",
          "data": {
            "text/plain": [
              "((54685,),\n",
              " 'The COVID-19 outbreak is public health emergency, spreads easily from human to human, and may cause acute severe respiratory syndrome. The anesthesia teams who perform this procedure are at risk aerosolization and need special consideration and safety measures. Cardiac anesthesiologist follows two aims, recognition of COVID-19 patients that need surgery and decreasing the risk of perioperative viral transmission to coworkers. An isolated operating room (negative pressure operating room for COVID-19) should be available. It is important to regulate workflow and practices, anesthesia management, healthcare, and staff. Cardiac anesthesiologist and health-care workers must be use guidelines to treat patients with COVID-19.')"
            ]
          },
          "metadata": {
            "tags": []
          },
          "execution_count": 20
        }
      ]
    },
    {
      "cell_type": "code",
      "metadata": {
        "colab": {
          "base_uri": "https://localhost:8080/"
        },
        "id": "8nw1PkphxWFB",
        "outputId": "547414df-3080-4ba7-ee7c-c813983f60fd"
      },
      "source": [
        "# Nombre de phrases moyen\n",
        "print(abstracts.apply(lambda x: x.split('. ')).apply(len).mean())\n",
        "# Nombre de mots moyen\n",
        "print(abstracts.apply(lambda x: x.split(' ')).apply(len).mean())\n",
        "# Nombre de token moyen\n",
        "print(abstracts.apply(len).mean())"
      ],
      "execution_count": 21,
      "outputs": [
        {
          "output_type": "stream",
          "text": [
            "6.708329523635366\n",
            "144.12886531955746\n",
            "989.8019018012252\n"
          ],
          "name": "stdout"
        }
      ]
    },
    {
      "cell_type": "markdown",
      "metadata": {
        "id": "TTBidVSNyJ3G"
      },
      "source": [
        "Concaténation des titres / abstracts en 1 seul feature :"
      ]
    },
    {
      "cell_type": "code",
      "metadata": {
        "id": "hGTMDid9emJb"
      },
      "source": [
        "df['abstract'] = df.abstract.fillna('')"
      ],
      "execution_count": 22,
      "outputs": []
    },
    {
      "cell_type": "code",
      "metadata": {
        "id": "f0ZvUbf1XI93"
      },
      "source": [
        "df['x_concat'] = (df['title'] + ' ' + df.abstract).apply(lambda x: x.strip())\n",
        "X = df.x_concat.tolist()\n",
        "y = df.topics"
      ],
      "execution_count": 23,
      "outputs": []
    },
    {
      "cell_type": "code",
      "metadata": {
        "colab": {
          "base_uri": "https://localhost:8080/",
          "height": 367
        },
        "id": "NGOd4GMkWeOA",
        "outputId": "d0e0de62-2cd1-47ac-9f29-def62f36d114"
      },
      "source": [
        "sns.distplot(df['x_concat'].apply(lambda x: x.split(' ')).apply(len))\n",
        "plt.title('Distribution des longueurs titre+abstract')\n",
        "plt.plot()"
      ],
      "execution_count": 24,
      "outputs": [
        {
          "output_type": "stream",
          "text": [
            "/usr/local/lib/python3.6/dist-packages/seaborn/distributions.py:2551: FutureWarning: `distplot` is a deprecated function and will be removed in a future version. Please adapt your code to use either `displot` (a figure-level function with similar flexibility) or `histplot` (an axes-level function for histograms).\n",
            "  warnings.warn(msg, FutureWarning)\n"
          ],
          "name": "stderr"
        },
        {
          "output_type": "execute_result",
          "data": {
            "text/plain": [
              "[]"
            ]
          },
          "metadata": {
            "tags": []
          },
          "execution_count": 24
        },
        {
          "output_type": "display_data",
          "data": {
            "image/png": "[encoded data removed]",
            "text/plain": [
              "<Figure size 432x288 with 1 Axes>"
            ]
          },
          "metadata": {
            "tags": [],
            "needs_background": "light"
          }
        }
      ]
    },
    {
      "cell_type": "markdown",
      "metadata": {
        "id": "MQQvnGncdk67"
      },
      "source": [
        "D'autres features pourraient-ils être utilisés, en plus des titres / abstracts ? Le titre du journal par exemple n'est jamais manquant :"
      ]
    },
    {
      "cell_type": "code",
      "metadata": {
        "colab": {
          "base_uri": "https://localhost:8080/"
        },
        "id": "zuAfmAoydjh5",
        "outputId": "087037e9-cee9-496f-b61a-bb3c0c7d1671"
      },
      "source": [
        "print(len(df.journal.unique().tolist()))\n",
        "df.journal.value_counts()"
      ],
      "execution_count": 25,
      "outputs": [
        {
          "output_type": "stream",
          "text": [
            "4739\n"
          ],
          "name": "stdout"
        },
        {
          "output_type": "execute_result",
          "data": {
            "text/plain": [
              "BMJ                                    751\n",
              "J Med Virol                            709\n",
              "Clin Infect Dis                        461\n",
              "PLoS One                               455\n",
              "Int J Environ Res Public Health        424\n",
              "                                      ... \n",
              "Biomed Hub                               1\n",
              "Neurooncol Adv                           1\n",
              "J Toxicol Environ Health B Crit Rev      1\n",
              "J Clin Tuberc Other Mycobact Dis         1\n",
              "Waste Manag                              1\n",
              "Name: journal, Length: 4739, dtype: int64"
            ]
          },
          "metadata": {
            "tags": []
          },
          "execution_count": 25
        }
      ]
    },
    {
      "cell_type": "markdown",
      "metadata": {
        "id": "yDYf3AOXw0VP"
      },
      "source": [
        "# Traditional Machine Learning Models"
      ]
    },
    {
      "cell_type": "code",
      "metadata": {
        "id": "JE_MKIwJwFbb"
      },
      "source": [
        "from sklearn.svm import SVC\n",
        "from sklearn.linear_model import LogisticRegression\n",
        "from sklearn.feature_extraction.text import TfidfVectorizer\n",
        "\n",
        "from sklearn.model_selection import train_test_split\n",
        "from sklearn.preprocessing import MultiLabelBinarizer\n",
        "from sklearn.multiclass import OneVsRestClassifier\n",
        "from sklearn.metrics import classification_report"
      ],
      "execution_count": 26,
      "outputs": []
    },
    {
      "cell_type": "markdown",
      "metadata": {
        "id": "rIieGiI-eatj"
      },
      "source": [
        "Pour travailler avec scikit-learn, on transforme les classes (rappel : on est dans un cadre multi-label)."
      ]
    },
    {
      "cell_type": "code",
      "metadata": {
        "id": "LXXYhE77cWrB",
        "colab": {
          "base_uri": "https://localhost:8080/"
        },
        "outputId": "72ce0306-11fa-4a46-e5c9-44da4dda4517"
      },
      "source": [
        "mb = MultiLabelBinarizer()\n",
        "y_bin = mb.fit_transform(y)\n",
        "classes = mb.classes_\n",
        "classes"
      ],
      "execution_count": 27,
      "outputs": [
        {
          "output_type": "execute_result",
          "data": {
            "text/plain": [
              "array(['Case Report', 'Diagnosis', 'Epidemic Forecasting', 'General Info',\n",
              "       'Mechanism', 'Prevention', 'Transmission', 'Treatment'],\n",
              "      dtype=object)"
            ]
          },
          "metadata": {
            "tags": []
          },
          "execution_count": 27
        }
      ]
    },
    {
      "cell_type": "markdown",
      "metadata": {
        "id": "UuLv1HJjej16"
      },
      "source": [
        "Création des sets train / test / validation :"
      ]
    },
    {
      "cell_type": "code",
      "metadata": {
        "id": "dEPwEVqoyNgY"
      },
      "source": [
        "train_texts, test_texts, y_train, y_test, train_labels, test_labels = train_test_split(X, y, y_bin, test_size=0.25, random_state=seed)\n",
        "train_texts, valid_texts, y_train, y_valid, train_labels, valid_labels = train_test_split(train_texts, y_train, train_labels, test_size=0.1, random_state=seed)"
      ],
      "execution_count": 28,
      "outputs": []
    },
    {
      "cell_type": "markdown",
      "metadata": {
        "id": "8WQmMWMtZA5A"
      },
      "source": [
        "To compare with simpler but competitive tradi- tional baselines we use the default scikit-learn implementation of logistic regression and linear support vector machine (SVM) for multi-label classification which trains one clas- sifier per class using a one-vs-rest scheme. Both models use TF-IDF weighted bag-of-words as input."
      ]
    },
    {
      "cell_type": "code",
      "metadata": {
        "id": "aKPjlq1SyNbF"
      },
      "source": [
        "vectorizer = TfidfVectorizer(sublinear_tf=True, max_df=0.5, stop_words='english')\n",
        "# needs unicode https://stackoverflow.com/questions/39303912/tfidfvectorizer-in-scikit-learn-valueerror-np-nan-is-an-invalid-document\n",
        "X_train = vectorizer.fit_transform([str(x) for x in train_texts]) \n",
        "X_valid = vectorizer.transform([str(x) for x in valid_texts])"
      ],
      "execution_count": 29,
      "outputs": []
    },
    {
      "cell_type": "code",
      "metadata": {
        "colab": {
          "base_uri": "https://localhost:8080/"
        },
        "id": "KkIsQRpJyNV9",
        "outputId": "f7ea0a2a-acb7-45ba-d48e-0c2731227865"
      },
      "source": [
        "lr = OneVsRestClassifier(LogisticRegression())\n",
        "lr.fit(X_train, train_labels)"
      ],
      "execution_count": 30,
      "outputs": [
        {
          "output_type": "stream",
          "text": [
            "/usr/local/lib/python3.6/dist-packages/sklearn/linear_model/_logistic.py:940: ConvergenceWarning: lbfgs failed to converge (status=1):\n",
            "STOP: TOTAL NO. of ITERATIONS REACHED LIMIT.\n",
            "\n",
            "Increase the number of iterations (max_iter) or scale the data as shown in:\n",
            "    https://scikit-learn.org/stable/modules/preprocessing.html\n",
            "Please also refer to the documentation for alternative solver options:\n",
            "    https://scikit-learn.org/stable/modules/linear_model.html#logistic-regression\n",
            "  extra_warning_msg=_LOGISTIC_SOLVER_CONVERGENCE_MSG)\n"
          ],
          "name": "stderr"
        },
        {
          "output_type": "execute_result",
          "data": {
            "text/plain": [
              "OneVsRestClassifier(estimator=LogisticRegression(C=1.0, class_weight=None,\n",
              "                                                 dual=False, fit_intercept=True,\n",
              "                                                 intercept_scaling=1,\n",
              "                                                 l1_ratio=None, max_iter=100,\n",
              "                                                 multi_class='auto',\n",
              "                                                 n_jobs=None, penalty='l2',\n",
              "                                                 random_state=None,\n",
              "                                                 solver='lbfgs', tol=0.0001,\n",
              "                                                 verbose=0, warm_start=False),\n",
              "                    n_jobs=None)"
            ]
          },
          "metadata": {
            "tags": []
          },
          "execution_count": 30
        }
      ]
    },
    {
      "cell_type": "code",
      "metadata": {
        "id": "kY8tiTEgvME1"
      },
      "source": [
        "#svm = OneVsRestClassifier(SVC(decision_function_shape='ovr'))\n",
        "#svm.fit(X_train, train_labels)"
      ],
      "execution_count": 31,
      "outputs": []
    },
    {
      "cell_type": "code",
      "metadata": {
        "id": "Y8eTi6ZjgDUG"
      },
      "source": [
        "y_pred = lr.predict(X_valid)"
      ],
      "execution_count": 32,
      "outputs": []
    },
    {
      "cell_type": "code",
      "metadata": {
        "colab": {
          "base_uri": "https://localhost:8080/"
        },
        "id": "rQZTwwgev7JD",
        "outputId": "e1e40b7f-09fb-45ec-fcd9-4025cbb7b1c6"
      },
      "source": [
        "print(classification_report(valid_labels, y_pred, target_names=mb.classes_))"
      ],
      "execution_count": 33,
      "outputs": [
        {
          "output_type": "stream",
          "text": [
            "                      precision    recall  f1-score   support\n",
            "\n",
            "         Case Report       0.95      0.65      0.77       417\n",
            "           Diagnosis       0.88      0.74      0.80       933\n",
            "Epidemic Forecasting       0.88      0.40      0.55        70\n",
            "        General Info       0.92      0.18      0.29       137\n",
            "           Mechanism       0.91      0.75      0.82       652\n",
            "          Prevention       0.90      0.90      0.90      1744\n",
            "        Transmission       0.81      0.33      0.47       156\n",
            "           Treatment       0.89      0.82      0.85      1313\n",
            "\n",
            "           micro avg       0.90      0.77      0.83      5422\n",
            "           macro avg       0.89      0.59      0.68      5422\n",
            "        weighted avg       0.90      0.77      0.82      5422\n",
            "         samples avg       0.82      0.80      0.79      5422\n",
            "\n"
          ],
          "name": "stdout"
        },
        {
          "output_type": "stream",
          "text": [
            "/usr/local/lib/python3.6/dist-packages/sklearn/metrics/_classification.py:1272: UndefinedMetricWarning: Precision and F-score are ill-defined and being set to 0.0 in samples with no predicted labels. Use `zero_division` parameter to control this behavior.\n",
            "  _warn_prf(average, modifier, msg_start, len(result))\n"
          ],
          "name": "stderr"
        }
      ]
    },
    {
      "cell_type": "code",
      "metadata": {
        "colab": {
          "base_uri": "https://localhost:8080/"
        },
        "id": "2ZFYUJnD9X-b",
        "outputId": "53ddea52-65e5-4667-d4d7-d359ad5b47ab"
      },
      "source": [
        "b = bidict(vectorizer.vocabulary_)\n",
        "for i, name in enumerate(mb.classes_):\n",
        "    top_10 = lr.estimators_[i].coef_[0].argsort()[-10:]\n",
        "    print(f'Top 10 for label {name}:\\t\\t', end='')\n",
        "    for j in range(10):\n",
        "        print(b.inverse[top_10[j]], end=', ')\n",
        "    print()"
      ],
      "execution_count": 34,
      "outputs": [
        {
          "output_type": "stream",
          "text": [
            "Top 10 for label Case Report:\t\tcases, presenting, present, woman, infection, year, old, report, patient, case, \n",
            "Top 10 for label Diagnosis:\t\tmanifestations, diagnostics, review, testing, clinical, characteristics, patients, diagnostic, detection, diagnosis, \n",
            "Top 10 for label Epidemic Forecasting:\t\tprediction, number, modelling, estimates, estimation, epidemic, estimate, forecasting, models, model, \n",
            "Top 10 for label General Info:\t\ttrump, science, scientists, finds, research, says, england, uk, doctors, coronavirus, \n",
            "Top 10 for label Mechanism:\t\tangiotensin, immune, host, mechanism, cells, molecular, inhibitors, pathogenesis, ace2, mechanisms, \n",
            "Top 10 for label Prevention:\t\toutbreak, health, care, control, lockdown, social, surgery, prevention, measures, pandemic, \n",
            "Top 10 for label Transmission:\t\tchina, virus, route, animals, air, sars, pregnancy, dynamics, transmissibility, transmission, \n",
            "Top 10 for label Treatment:\t\tmortality, vaccination, hydroxychloroquine, patients, vaccines, drug, drugs, vaccine, therapeutic, treatment, \n"
          ],
          "name": "stdout"
        }
      ]
    },
    {
      "cell_type": "code",
      "metadata": {
        "colab": {
          "base_uri": "https://localhost:8080/",
          "height": 282
        },
        "id": "FUUCsGv8jq85",
        "outputId": "982161fe-5c05-4ef9-ecf8-6d560341254c"
      },
      "source": [
        "pred_classes = pd.Series([classes[x] for x in y_pred.astype(bool)], name='prediction')\n",
        "pred_classes.apply(len).hist()"
      ],
      "execution_count": null,
      "outputs": [
        {
          "output_type": "execute_result",
          "data": {
            "text/plain": [
              "<matplotlib.axes._subplots.AxesSubplot at 0x7f5a40757438>"
            ]
          },
          "metadata": {
            "tags": []
          },
          "execution_count": 32
        },
        {
          "output_type": "display_data",
          "data": {
            "image/png": "[encoded data removed]",
            "text/plain": [
              "<Figure size 432x288 with 1 Axes>"
            ]
          },
          "metadata": {
            "tags": [],
            "needs_background": "light"
          }
        }
      ]
    },
    {
      "cell_type": "markdown",
      "metadata": {
        "id": "4bRA4ASvj2Jd"
      },
      "source": [
        "On peut remarquer que le problème, en utilisant une classification multi-label, est que certains items se retrouvent _sans_ label."
      ]
    },
    {
      "cell_type": "code",
      "metadata": {
        "id": "MqEQDFIClhT9"
      },
      "source": [
        "from sklearn.metrics import confusion_matrix, ConfusionMatrixDisplay, plot_confusion_matrix # only for sklearn classifiers\n",
        "\n",
        "def generate_cm(tensor_true, tensor_predict, classes, normalize:str='index', return_df:bool=False):\n",
        "    \"\"\"Plot ConfusionMatrix, eventually return y_true/y_pred as pd.DataFrame\n",
        "    \n",
        "    Transforme les données multilabel en 1 ligne par label, et observe la matrice \n",
        "    de confusion comme si il n'y avait qu'un label par item.\n",
        "    \n",
        "    Moins précis que `sklearn.metrics.multilabel_confusion_matrix`, basée sur l'assomption que \n",
        "    la majorité des éléments n'ont au maximum qu'un seul label prédit faux.\n",
        "\n",
        "    Step1: sélection des labels en commun\n",
        "    Step2: appariement des labels restants\n",
        "    \"\"\"\n",
        "    # pandas.core.series.Series, torch.Tensor, numpy.ndarray\n",
        "    if isinstance(tensor_predict, torch.Tensor): # else np.ndarray\n",
        "        tensor_predict = tensor_predict.numpy()\n",
        "    pred_classes = pd.Series([classes[x] for x in tensor_predict.astype(bool)], name='prediction')\n",
        "    if isinstance(tensor_true, torch.Tensor): # else pd.Series\n",
        "        y_valid = pd.Series([classes[x] for x in tensor_true.numpy().astype(bool)], name='topics')\n",
        "    else:\n",
        "        y_valid = tensor_true\n",
        "    \n",
        "    df_all = pred_classes.explode().reset_index(drop=False).rename(columns={'index':'item'}).fillna('NONE')\n",
        "    df_true = y_valid.reset_index(drop=True).explode().reset_index(drop=False).rename(columns={'index':'item'}).fillna('NONE')\n",
        "    # Transform - 1: item_2 (commons)\n",
        "    for df, col in zip([df_all, df_true], ['prediction', 'topics']):\n",
        "        df.item = df.item.apply(lambda x: f'item_{x:04}')\n",
        "        df['item_2'] = df.item + '_' + df[col]\n",
        "    df_m1 = df_all.set_index('item_2')[['prediction']].join(df_true.set_index('item_2')[['topics']], how='inner')\n",
        "    uniq_m1 = df_m1.index.tolist()\n",
        "    # Transform - 2: item (appariement par ordre)\n",
        "    df_all = df_all[~df_all.item_2.isin(uniq_m1)]\n",
        "    df_true = df_true[~df_true.item_2.isin(uniq_m1)]\n",
        "    for df, col in zip([df_all, df_true], ['prediction', 'topics']):\n",
        "        df['successive'] = df.groupby('item').count()[col].apply(lambda x: list(range(x))).explode().tolist()\n",
        "        df['item_3'] = df.item + '_' + df.successive.astype(str)\n",
        "    df_m2 = df_all.set_index('item_3')[['prediction']].join(df_true.set_index('item_3')[['topics']], how='outer').fillna('NONE')\n",
        "    # Merge\n",
        "    df_merge = pd.concat([df_m1, df_m2])\n",
        "    #df_merge = df_merge[~((df_merge.topics == 'NONE') & (df_merge.prediction == 'NONE'))]\n",
        "    # plot\n",
        "    cm = pd.crosstab(df_merge.topics, df_merge.prediction, normalize=normalize)\n",
        "    fig, ax=plt.subplots(figsize=(8,8))\n",
        "    disp = ConfusionMatrixDisplay(confusion_matrix=cm.to_numpy(), display_labels=cm.columns)\n",
        "    disp.plot(cmap='viridis', ax=ax, xticks_rotation='vertical')\n",
        "    \n",
        "    if return_df:\n",
        "        return df_merge"
      ],
      "execution_count": null,
      "outputs": []
    },
    {
      "cell_type": "code",
      "metadata": {
        "colab": {
          "base_uri": "https://localhost:8080/",
          "height": 555
        },
        "id": "VHuheC9fq7dr",
        "outputId": "8f564f01-9016-4a6e-c89a-be1be77be0f9"
      },
      "source": [
        "df_test = generate_cm(y_valid, y_pred, classes, return_df=True)"
      ],
      "execution_count": null,
      "outputs": [
        {
          "output_type": "display_data",
          "data": {
            "image/png": "[encoded data removed]",
            "text/plain": [
              "<Figure size 576x576 with 2 Axes>"
            ]
          },
          "metadata": {
            "tags": [],
            "needs_background": "light"
          }
        }
      ]
    },
    {
      "cell_type": "markdown",
      "metadata": {
        "id": "s8ruhVFnvWeS"
      },
      "source": [
        "On remarque déjà que la majorité des labels qui ne sont _pas_ prédits correspondent à des classes sous représentées. On remarque aussi que `Epidemic Forecasting` et `General Info` sont souvent confondus avec `Prevention`.\n",
        "\n",
        "Il y aurait aussi plus souvent des labels qui sont prédits en trop / en moins plutôt que des confusions entre labels."
      ]
    },
    {
      "cell_type": "markdown",
      "metadata": {
        "id": "pkaQZqo-yN9W"
      },
      "source": [
        "# Conventional Neural Models"
      ]
    },
    {
      "cell_type": "code",
      "metadata": {
        "id": "0OHA53wSyQkX"
      },
      "source": [
        "from torch.utils.data import TensorDataset, DataLoader\n",
        "import torch\n",
        "import torch.nn as nn\n",
        "import torch.nn.functional as F\n",
        "import torch.optim as optim"
      ],
      "execution_count": null,
      "outputs": []
    },
    {
      "cell_type": "code",
      "metadata": {
        "id": "7LTzEQfJg9_K"
      },
      "source": [
        "from sklearn.metrics import f1_score\n",
        "from sklearn.metrics import accuracy_score"
      ],
      "execution_count": null,
      "outputs": []
    },
    {
      "cell_type": "code",
      "metadata": {
        "id": "MaeBy5r4TeEI"
      },
      "source": [
        "maxlen = 500 # from previous analysis, most texts have len < 500\n",
        "batch_size = 256\n",
        "hidden_size = 128\n",
        "embed_size = 128\n",
        "device = torch.device('cuda')"
      ],
      "execution_count": null,
      "outputs": []
    },
    {
      "cell_type": "code",
      "metadata": {
        "id": "B-EfhhBvSm4C",
        "colab": {
          "base_uri": "https://localhost:8080/",
          "height": 134,
          "referenced_widgets": [
            "e1a43b0067334d3e8d11e1f38c27212d",
            "3e73efa7354145558a97d32a1d42f956",
            "9458d6a3182d43dc8797c4452897b06c",
            "f7beed5717ce429c9757f8204ea9512f",
            "e51d51444dd548129c6a60421d5b083c",
            "a525c6d6f30e4c22be8bd162eef77751",
            "9e8784d8bfdc4cf3b29333baa361328b",
            "b29b756862e74530b4bb4fcf018c2424"
          ]
        },
        "outputId": "4ab0d714-1028-4dcb-e4bf-929ee773b5ae"
      },
      "source": [
        "!pip -q install transformers\n",
        "from transformers import DistilBertTokenizer, BertTokenizer\n",
        "\n",
        "tokenizer = DistilBertTokenizer.from_pretrained('distilbert-base-uncased')\n",
        "\n",
        "def bert_text_to_ids(sentence, tokenizer):\n",
        "  return torch.tensor(tokenizer.encode(sentence, add_special_tokens=True))"
      ],
      "execution_count": null,
      "outputs": [
        {
          "output_type": "stream",
          "text": [
            "\u001b[K     |████████████████████████████████| 1.5MB 9.0MB/s \n",
            "\u001b[K     |████████████████████████████████| 890kB 30.1MB/s \n",
            "\u001b[K     |████████████████████████████████| 2.9MB 42.2MB/s \n",
            "\u001b[?25h  Building wheel for sacremoses (setup.py) ... \u001b[?25l\u001b[?25hdone\n"
          ],
          "name": "stdout"
        },
        {
          "output_type": "display_data",
          "data": {
            "application/vnd.jupyter.widget-view+json": {
              "model_id": "e1a43b0067334d3e8d11e1f38c27212d",
              "version_minor": 0,
              "version_major": 2
            },
            "text/plain": [
              "HBox(children=(FloatProgress(value=0.0, description='Downloading', max=231508.0, style=ProgressStyle(descripti…"
            ]
          },
          "metadata": {
            "tags": []
          }
        },
        {
          "output_type": "stream",
          "text": [
            "\n"
          ],
          "name": "stdout"
        }
      ]
    },
    {
      "cell_type": "code",
      "metadata": {
        "colab": {
          "base_uri": "https://localhost:8080/",
          "height": 66,
          "referenced_widgets": [
            "dd66996dc7474004866948b1db5f9f9c",
            "3e2ef243ac0549c18aa8141b1363f9cf",
            "c568758921524256bf09850996eab394",
            "c4297d843ea145738cea55ca58ba888a",
            "6dd08b10316b4785bbefdb0849eb2190",
            "ac7b203f1a7c4f328355dac144afe1c8",
            "78978603ebf24ff98985553ee02d14d2",
            "16aba878745344f6a4f2c23786073091"
          ]
        },
        "id": "fJq2iCp-Sqmp",
        "outputId": "eac337f8-600d-4a4a-8086-aad1c0bb79ea"
      },
      "source": [
        "import collections\n",
        "label_vocab = collections.defaultdict(lambda: len(label_vocab))\n",
        "\n",
        "def prepare_texts(texts:list, labels:list, \n",
        "          maxlen=530, \n",
        "          tokenizer=BertTokenizer.from_pretrained('dmis-lab/biobert-base-cased-v1.1'), \n",
        "          device=torch.device('cuda')):\n",
        "  \"\"\"Ajout de padding pour que tous les textes aient la même longueur et indexation des tokens grace au tokenizer\n",
        "  \n",
        "  Retourne les données au format tensor.\n",
        "  \"\"\"\n",
        "  X = torch.LongTensor(len(texts), maxlen).fill_(tokenizer.pad_token_id)\n",
        "  for i, text in enumerate(texts):\n",
        "    indexed_tokens = bert_text_to_ids(text, tokenizer)\n",
        "    length = min([maxlen, len(indexed_tokens)])\n",
        "    X[i,:length] = indexed_tokens[:length]\n",
        "  \n",
        "  Y = torch.tensor(labels).long()\n",
        "  return X.to(device), Y.to(device)"
      ],
      "execution_count": null,
      "outputs": [
        {
          "output_type": "display_data",
          "data": {
            "application/vnd.jupyter.widget-view+json": {
              "model_id": "dd66996dc7474004866948b1db5f9f9c",
              "version_minor": 0,
              "version_major": 2
            },
            "text/plain": [
              "HBox(children=(FloatProgress(value=0.0, description='Downloading', max=213450.0, style=ProgressStyle(descripti…"
            ]
          },
          "metadata": {
            "tags": []
          }
        },
        {
          "output_type": "stream",
          "text": [
            "\n"
          ],
          "name": "stdout"
        }
      ]
    },
    {
      "cell_type": "code",
      "metadata": {
        "id": "EvlyRrF-OEhU"
      },
      "source": [
        "X_train, Y_train = prepare_texts(train_texts, train_labels, maxlen=maxlen, tokenizer=tokenizer, device=device) \n",
        "X_valid, Y_valid = prepare_texts(valid_texts, valid_labels, maxlen=maxlen, tokenizer=tokenizer, device=device)\n",
        "X_test, Y_test = prepare_texts(test_texts, test_labels, maxlen=maxlen, tokenizer=tokenizer, device=device)\n",
        "\n",
        "print(X_train.shape)\n",
        "print(X_train[:3])"
      ],
      "execution_count": null,
      "outputs": []
    },
    {
      "cell_type": "code",
      "metadata": {
        "id": "hxmq7PIGSvvi"
      },
      "source": [
        "train_set = TensorDataset(X_train, Y_train)\n",
        "valid_set = TensorDataset(X_valid, Y_valid)\n",
        "test_set = TensorDataset(X_test, Y_test)\n",
        "\n",
        "train_loader = DataLoader(train_set, batch_size=batch_size, shuffle=True)\n",
        "valid_loader = DataLoader(valid_set, batch_size=batch_size)\n",
        "test_loader = DataLoader(test_set, batch_size=batch_size)"
      ],
      "execution_count": null,
      "outputs": []
    },
    {
      "cell_type": "markdown",
      "metadata": {
        "id": "Yo5LzIqDg9_O"
      },
      "source": [
        "Définition des modèles:"
      ]
    },
    {
      "cell_type": "code",
      "metadata": {
        "colab": {
          "base_uri": "https://localhost:8080/"
        },
        "id": "7Rw8cEtCySyD",
        "outputId": "18a4c736-a5a1-44fc-d6be-ebf9f0807d86"
      },
      "source": [
        "class RNNClassifier(nn.Module):\n",
        "  def __init__(self):\n",
        "    super().__init__()\n",
        "    self.embed = nn.Embedding(tokenizer.vocab_size, embed_size, padding_idx=tokenizer.pad_token_id)\n",
        "    self.rnn = nn.GRU(embed_size, hidden_size, num_layers=1, bidirectional=True, batch_first=True)\n",
        "    self.dropout = nn.Dropout(0.3)\n",
        "    self.decision = nn.Linear(1 * 2 * hidden_size, len(classes))\n",
        "    self.to(device)\n",
        "  \n",
        "  def forward(self, x):\n",
        "    embed = self.embed(x)\n",
        "    output, hidden = self.rnn(embed) \n",
        "    drop = self.dropout(hidden.transpose(0, 1).reshape(x.shape[0], -1))\n",
        "    return torch.softmax(self.decision(drop),1) # ajout de softmax\n",
        "\n",
        "rnn_model = RNNClassifier()\n",
        "with torch.no_grad():\n",
        "  print(rnn_model(X_train[:3]).shape)"
      ],
      "execution_count": null,
      "outputs": [
        {
          "output_type": "stream",
          "text": [
            "torch.Size([3, 8])\n"
          ],
          "name": "stdout"
        }
      ]
    },
    {
      "cell_type": "code",
      "metadata": {
        "colab": {
          "base_uri": "https://localhost:8080/"
        },
        "id": "C5yJR0n08qGY",
        "outputId": "f9518d86-d27e-49b5-e6df-80a94f14b9b9"
      },
      "source": [
        "class RCNN(nn.Module):\n",
        "    def __init__(self):\n",
        "        super().__init__()\n",
        "        self.embed = nn.Embedding(tokenizer.vocab_size, embed_size, padding_idx=tokenizer.pad_token_id) # sortie (batch_size, sequence_size, embed_size)\n",
        "        self.rnn = nn.GRU(embed_size, hidden_size, num_layers=1, bidirectional=False, batch_first=True)\n",
        "        # sortie RNN: (batch, seq_len, hidden_size * num_directions)\n",
        "        # entrée CNN: (batch_size, embedding_size, sequence_length)\n",
        "        self.conv = nn.Conv1d(embed_size, hidden_size, kernel_size=2) # (in, out, kernel_size)\n",
        "        self.dropout = nn.Dropout(.3)\n",
        "        self.decision = nn.Linear(hidden_size, len(classes))\n",
        "        self.to(device)\n",
        "\n",
        "    def forward(self, x):\n",
        "        embed = self.embed(x)\n",
        "        output, hidden = self.rnn(embed)\n",
        "        conv = F.relu(self.conv(output.transpose(1,2)))\n",
        "        pool = F.max_pool1d(conv, conv.size(2)) \n",
        "        drop = self.dropout(pool)\n",
        "        return torch.softmax(self.decision(drop.view(x.size(0), -1)),1)\n",
        "\n",
        "rcnn_model = RCNN()\n",
        "with torch.no_grad():\n",
        "  print(rcnn_model(X_train[:3]).shape)"
      ],
      "execution_count": null,
      "outputs": [
        {
          "output_type": "stream",
          "text": [
            "torch.Size([3, 8])\n"
          ],
          "name": "stdout"
        }
      ]
    },
    {
      "cell_type": "code",
      "metadata": {
        "id": "iVgPedGDg9_R"
      },
      "source": [
        "def CrossEntropyLossOneHot(y_score=None, y=None):\n",
        "    \"\"\"CrossEntropy pour la multi classification\n",
        "    \"\"\"\n",
        "    log_y_score = torch.log(y_score)\n",
        "    cost = -torch.sum(y * log_y_score)\n",
        "    return cost\n",
        "\n",
        "def perf(model, loader, seuil:float=2e-1):\n",
        "    \"\"\"Evaluation en multi-label, le seuil désigne le niveau a partir duquel on considère une classe comme 'prédite'\n",
        "    \"\"\"\n",
        "    criterion = CrossEntropyLossOneHot\n",
        "    model.eval()\n",
        "    total_loss = num = num_comp = correct = 0\n",
        "    total_pred = true_y = None # concaténation des batchs\n",
        "    for x, y in loader:\n",
        "        with torch.no_grad():\n",
        "            y_scores = model(x)\n",
        "            loss = criterion(y_scores, y)\n",
        "            y_pred = multi_hot(y_scores, seuil)\n",
        "            if total_pred == None: # concat\n",
        "                total_pred = y_pred\n",
        "                true_y = y\n",
        "            else:\n",
        "                total_pred = torch.cat((total_pred,y_pred), dim=0)\n",
        "                true_y = torch.cat((true_y,y), dim=0)\n",
        "            correct += torch.sum(y_pred == y).item()\n",
        "            total_loss += loss.item()\n",
        "            num_comp += len(y) * classes.shape[0]\n",
        "            num += len(y)\n",
        "\n",
        "    f_score = f1_score(true_y.cpu(), total_pred.cpu(), average='micro')\n",
        "    accu_score = accuracy_score(true_y.cpu(), total_pred.cpu())\n",
        "    return total_loss / num, correct / num_comp, accu_score, f_score"
      ],
      "execution_count": null,
      "outputs": []
    },
    {
      "cell_type": "code",
      "metadata": {
        "id": "akRJ0rS_wby0"
      },
      "source": [
        "def multi_hot(y_pred, seuil=2e-1, to_gpu:bool=True):\n",
        "    \"\"\"binarize prediction using threshold\n",
        "    \"\"\"\n",
        "    res = torch.zeros(y_pred.shape[0], y_pred.shape[1])#.int()\n",
        "    res[torch.arange(y_pred.shape[0]), torch.argmax(y_pred, dim=1)] = 1\n",
        "    for i in range(y_pred.shape[0]):\n",
        "        for j in range(y_pred.shape[1]):\n",
        "            if y_pred[i,j] > seuil:\n",
        "                res[i,j] = 1\n",
        "    if to_gpu:\n",
        "        return res.to(device)\n",
        "    return res"
      ],
      "execution_count": null,
      "outputs": []
    },
    {
      "cell_type": "code",
      "metadata": {
        "id": "RE6sVWreg9_T"
      },
      "source": [
        "def fit_rnn(model, train_loader, epochs, lr=1e-3, seuil=2e-1): # comparaison des seuils voire Bert\n",
        "    criterion = CrossEntropyLossOneHot\n",
        "    optimizer = optim.Adam(model.parameters(), lr=lr)\n",
        "\n",
        "    history  = {\n",
        "        'train_losses' : [],\n",
        "        'val_losses' : [],\n",
        "        'preci' : [],\n",
        "        'all_good_preci' : [],\n",
        "        'f_micro' : [],\n",
        "    }\n",
        "\n",
        "    for epoch in range(epochs):\n",
        "        model.train()\n",
        "        total_loss = num = 0\n",
        "        for x, y in tqdm(train_loader):\n",
        "            optimizer.zero_grad()\n",
        "            y_scores = model(x)\n",
        "            loss = criterion(y_scores, y)\n",
        "            loss.backward()\n",
        "            optimizer.step()\n",
        "            total_loss += loss.item()\n",
        "            num += len(y)\n",
        "\n",
        "        valloss, preci, accu_score, f_mesure = perf(model, valid_loader, seuil)\n",
        "        history['train_losses'].append(total_loss / num)\n",
        "        history['val_losses'].append(valloss)\n",
        "        history['preci'].append(preci)\n",
        "        history['all_good_preci'].append(accu_score)\n",
        "        history['f_micro'].append(f_mesure)\n",
        "\n",
        "        print(f'\\nepoch : {epoch}\\t - train loss : {total_loss / num}\\t - val loss : {valloss}\\t - precision :{preci}\\t - all good precision : {accu_score}\\t - f-score micro : {f_mesure}')\n",
        "\n",
        "    return history"
      ],
      "execution_count": null,
      "outputs": []
    },
    {
      "cell_type": "code",
      "metadata": {
        "id": "0szuJxDCl_vk"
      },
      "source": [
        "def print_history(hist:dict, losses:bool=True, preci:bool=True, all_good_preci:bool=True, f_micro:bool=True):\n",
        "    \"\"\"\n",
        "    Génération des graphes d'entrainement avec les données extraites lors du fit (losses, etc). Possibilité de ne générer que certains des graphes.\n",
        "\n",
        "    hist: dict\n",
        "        résultat de la fonction fit\n",
        "    \"\"\"\n",
        "    nb_epoch = len(hist['train_losses'])\n",
        "    x = np.arange(0,nb_epoch)\n",
        "    if losses:\n",
        "      plt.plot(x,hist['train_losses'], label='train')\n",
        "      plt.plot(x,hist['val_losses'], label='val')\n",
        "      plt.xlabel('Epoch')\n",
        "      plt.ylabel('Losses')\n",
        "      plt.legend()\n",
        "      plt.show()\n",
        "    \n",
        "    for (cond, name, label) in (zip([preci, all_good_preci, f_micro],\n",
        "                          ['preci', 'all_good_preci', 'f_micro'],\n",
        "                          ['Precision pour chaque label séparement', 'Precision pour s\\'ensemble des labels', 'F-score micro'])):\n",
        "        if cond:\n",
        "            plt.plot(x,hist[name])\n",
        "            plt.xlabel('Epoch')\n",
        "            plt.ylabel(label)\n",
        "            plt.legend()\n",
        "            plt.show()"
      ],
      "execution_count": null,
      "outputs": []
    },
    {
      "cell_type": "code",
      "metadata": {
        "id": "mzMNBRYZg9_T"
      },
      "source": [
        "rnn_history = fit_rnn(rnn_model, train_loader, 10)"
      ],
      "execution_count": null,
      "outputs": []
    },
    {
      "cell_type": "code",
      "metadata": {
        "colab": {
          "base_uri": "https://localhost:8080/",
          "height": 1000
        },
        "id": "n13-A1Jhhs8x",
        "outputId": "df8cca4c-14ab-4899-affd-67e029564411"
      },
      "source": [
        "print_history(rnn_history)"
      ],
      "execution_count": null,
      "outputs": [
        {
          "output_type": "display_data",
          "data": {
            "image/png": "[encoded data removed]",
            "text/plain": [
              "<Figure size 432x288 with 1 Axes>"
            ]
          },
          "metadata": {
            "tags": [],
            "needs_background": "light"
          }
        },
        {
          "output_type": "stream",
          "text": [
            "No handles with labels found to put in legend.\n"
          ],
          "name": "stderr"
        },
        {
          "output_type": "display_data",
          "data": {
            "image/png": "[encoded data removed]",
            "text/plain": [
              "<Figure size 432x288 with 1 Axes>"
            ]
          },
          "metadata": {
            "tags": [],
            "needs_background": "light"
          }
        },
        {
          "output_type": "stream",
          "text": [
            "No handles with labels found to put in legend.\n"
          ],
          "name": "stderr"
        },
        {
          "output_type": "display_data",
          "data": {
            "image/png": "[encoded data removed]",
            "text/plain": [
              "<Figure size 432x288 with 1 Axes>"
            ]
          },
          "metadata": {
            "tags": [],
            "needs_background": "light"
          }
        },
        {
          "output_type": "stream",
          "text": [
            "No handles with labels found to put in legend.\n"
          ],
          "name": "stderr"
        },
        {
          "output_type": "display_data",
          "data": {
            "image/png": "[encoded data removed]",
            "text/plain": [
              "<Figure size 432x288 with 1 Axes>"
            ]
          },
          "metadata": {
            "tags": [],
            "needs_background": "light"
          }
        }
      ]
    },
    {
      "cell_type": "code",
      "metadata": {
        "id": "2Mbv6NarUSSQ"
      },
      "source": [
        "rcnn_history = fit_rnn(rcnn_model, train_loader, 10)"
      ],
      "execution_count": null,
      "outputs": []
    },
    {
      "cell_type": "code",
      "metadata": {
        "id": "pzkzPAiTUSIU"
      },
      "source": [
        "y_pred = multi_hot(rnn_model(X_valid), 2e-1)\n",
        "print(classification_report(valid_labels, y_pred, target_names=mb.classes_))"
      ],
      "execution_count": null,
      "outputs": []
    },
    {
      "cell_type": "code",
      "metadata": {
        "id": "9ixyMCQfUR-d"
      },
      "source": [],
      "execution_count": null,
      "outputs": []
    },
    {
      "cell_type": "markdown",
      "metadata": {
        "id": "htqrZpI5yTC9"
      },
      "source": [
        "# Pre-trained neural models"
      ]
    },
    {
      "cell_type": "code",
      "metadata": {
        "colab": {
          "base_uri": "https://localhost:8080/"
        },
        "id": "dIfs9o0Vv7qa",
        "outputId": "fd97782e-e3d6-4c55-a08f-d57f12d58845"
      },
      "source": [
        "tokenizer = BertTokenizer.from_pretrained('dmis-lab/biobert-base-cased-v1.1')\n",
        "\n",
        "print(tokenizer.tokenize('biomedical data are cool !'))\n",
        "print(bert_text_to_ids('biomedical data are cool !', tokenizer))"
      ],
      "execution_count": null,
      "outputs": [
        {
          "output_type": "stream",
          "text": [
            "['bio', '##medical', 'data', 'are', 'cool', '!']\n",
            "tensor([  101, 25128, 20489,  2233,  1132,  4348,   106,   102])\n"
          ],
          "name": "stdout"
        }
      ]
    },
    {
      "cell_type": "code",
      "metadata": {
        "colab": {
          "base_uri": "https://localhost:8080/"
        },
        "id": "5cLccvPKwBWv",
        "outputId": "4b9b03bb-59e4-4c34-dea1-8a6bd77cefb7"
      },
      "source": [
        "print('Train size:', len(train_labels))\r\n",
        "print('Validation size:', len(valid_labels))\r\n",
        "print('Test size:', len(test_labels))"
      ],
      "execution_count": null,
      "outputs": [
        {
          "output_type": "stream",
          "text": [
            "Train size: 36940\n",
            "Validation size: 4105\n",
            "Test size: 13682\n"
          ],
          "name": "stdout"
        }
      ]
    },
    {
      "cell_type": "code",
      "metadata": {
        "id": "HTpxsPuuwH5A"
      },
      "source": [
        "maxlen = 200\n",
        "batch_size = 32\n",
        "hidden_size = 128\n",
        "embed_size = 128\n",
        "device = torch.device('cuda')\n",
        "\n",
        "def create_loader(texts, labels, shuffle:bool=False, **kwargs):\n",
        "    \"\"\"\n",
        "    kwargs: maxlen, tokenizer, device\n",
        "    \"\"\"\n",
        "    X_train, Y_train = prepare_texts(texts, labels, **kwargs) \n",
        "    train_set = TensorDataset(X_train, Y_train)\n",
        "    train_loader = DataLoader(train_set, batch_size=batch_size, shuffle=shuffle)\n",
        "    return train_loader"
      ],
      "execution_count": null,
      "outputs": []
    },
    {
      "cell_type": "code",
      "metadata": {
        "id": "igFwvzVUME-6"
      },
      "source": [
        "train_loader = create_loader(train_texts, train_labels, shuffle=True, maxlen=maxlen, tokenizer=tokenizer, device=device) \n",
        "valid_loader = create_loader(valid_texts, valid_labels, maxlen=maxlen, tokenizer=tokenizer, device=device) \n",
        "test_loader = create_loader(test_texts, test_labels, maxlen=maxlen, tokenizer=tokenizer, device=device) "
      ],
      "execution_count": null,
      "outputs": []
    },
    {
      "cell_type": "code",
      "metadata": {
        "colab": {
          "base_uri": "https://localhost:8080/",
          "height": 37
        },
        "id": "6D4QZ6pZwL7D",
        "outputId": "b9090de0-44e2-4fc6-be57-e0457299ddfb"
      },
      "source": [
        "from transformers import BertModel\n",
        "\n",
        "class BioBertClassifier(nn.Module):\n",
        "  def __init__(self):\n",
        "    super().__init__()\n",
        "    self.bert = BertModel.from_pretrained('dmis-lab/biobert-base-cased-v1.1')\n",
        "    self.decision = nn.Linear(self.bert.config.hidden_size, classes.shape[0])\n",
        "    self.to(device)\n",
        "\n",
        "  def forward(self, x):\n",
        "    output = self.bert(x, attention_mask = (x != tokenizer.pad_token_id).long())\n",
        "    return torch.softmax(self.decision(torch.max(output[0], 1)[0]),1) # log => quantité positive\n",
        "\n",
        "'''\n",
        "bert_model = BioBertClassifier()\n",
        "with torch.no_grad():\n",
        "  print(bert_model(X_train[:3]))\n",
        "print(Y_train[:3])\n",
        "'''"
      ],
      "execution_count": null,
      "outputs": [
        {
          "output_type": "execute_result",
          "data": {
            "application/vnd.google.colaboratory.intrinsic+json": {
              "type": "string"
            },
            "text/plain": [
              "'\\nbert_model = BioBertClassifier()\\nwith torch.no_grad():\\n  print(bert_model(X_train[:3]))\\nprint(Y_train[:3])\\n'"
            ]
          },
          "metadata": {
            "tags": []
          },
          "execution_count": 94
        }
      ]
    },
    {
      "cell_type": "code",
      "metadata": {
        "id": "9ZA_I5dswNTs"
      },
      "source": [
        "def fit(model, epochs, train_loader, \n",
        "          lrbio:float=1e-4, lrdeci:float=1e-02, \n",
        "          freezebio:bool=True, \n",
        "          seuil:float=2e-1):\n",
        "    criterion = CrossEntropyLossOneHot\n",
        "\n",
        "    #freeze biobert layers\n",
        "    if freezebio :\n",
        "      for parameter in model.parameters():\n",
        "          parameter.requires_grad = False\n",
        "      for name, param in model.named_parameters():\n",
        "          if 'decision' in name:\n",
        "              param.requires_grad = True\n",
        "      optimizer = optim.Adam(model.parameters(), lr=lrdeci)\n",
        "\n",
        "    #different lr pour bio et decision\n",
        "    else :\n",
        "      my_list = ['decision.weight', 'decision.bias']\n",
        "      params = list(map(lambda x: x[1],list(filter(lambda kv: kv[0] in my_list, model.named_parameters()))))\n",
        "      base_params = list(map(lambda x: x[1],list(filter(lambda kv: kv[0] not in my_list, model.named_parameters()))))\n",
        "      optimizer = optim.Adam([{'params': base_params}, {'params': params, 'lr': lrdeci}], lr=lrbio)\n",
        "      \n",
        "    history  = {\n",
        "        'train_losses' : [],\n",
        "        'val_losses' : [],\n",
        "        'preci' : [],\n",
        "        'all_good_preci' : [],\n",
        "        'f_micro' : [],\n",
        "    }\n",
        "\n",
        "    for epoch in range(epochs):\n",
        "        model.train()\n",
        "        total_loss = num = 0\n",
        "        for x, y in tqdm(train_loader):\n",
        "            optimizer.zero_grad()\n",
        "            y_scores = model(x)\n",
        "            loss = criterion(y_scores, y)\n",
        "            loss.backward()\n",
        "            optimizer.step()\n",
        "            total_loss += loss.item()\n",
        "            num += len(y)\n",
        "\n",
        "        valloss, preci, accu_score, f_mesure = perf(model, valid_loader, seuil)\n",
        "        history['train_losses'].append(total_loss / num)\n",
        "        history['val_losses'].append(valloss)\n",
        "        history['preci'].append(preci)\n",
        "        history['all_good_preci'].append(accu_score)\n",
        "        history['f_micro'].append(f_mesure)\n",
        "\n",
        "        print(f'\\nepoch : {epoch}\\t - train loss : {total_loss / num}\\t - val loss : {valloss}\\t - precision :{preci}\\t - all good precision : {accu_score}\\t - f-score micro : {f_mesure}')\n",
        "\n",
        "    return history"
      ],
      "execution_count": null,
      "outputs": []
    },
    {
      "cell_type": "code",
      "metadata": {
        "colab": {
          "base_uri": "https://localhost:8080/",
          "height": 288,
          "referenced_widgets": [
            "bfad4c6fbad748aa84937687b542cee1",
            "26508ec9d4e1470bba64a4d2f1d7e262",
            "149a63bba1884983a05892a8cae68e22",
            "1c62cc153c564db486ebbaff56985a94",
            "e1e225ebc2174c7dab1b5f9bc91d7e07",
            "3f4f34344ab7437a84aa857002ab6e09",
            "919ae241d4134560a7fd2209317cc271",
            "ef32c484a900434e9c9a146306c66b59",
            "677d60fa5ef34265b7977971f0639f44",
            "e8e2e166db13423eb92afd424884601f",
            "0707e16d08264ed480bba48c7eb9d2c0",
            "8a5c2884f6f747379f04305662a2e1e4",
            "5abdf60d799245e0ab2e46ad105a9bd3",
            "12f751467b524ca4a29141a4a7d2ca24",
            "c5577a4cb5bf45728efccaa6ac841c63",
            "5b34413eae824f8baded53e2ded867ad"
          ]
        },
        "id": "O6wKFrcSwe4O",
        "outputId": "eb7532dc-9d9c-480e-be87-d9f206c61c11"
      },
      "source": [
        "bert_model = BioBertClassifier()\n",
        "history = fit(bert_model, 3, train_loader, lrbio=3e-06, lrdeci=5e-03, freezebio=False)"
      ],
      "execution_count": null,
      "outputs": [
        {
          "output_type": "display_data",
          "data": {
            "application/vnd.jupyter.widget-view+json": {
              "model_id": "bfad4c6fbad748aa84937687b542cee1",
              "version_minor": 0,
              "version_major": 2
            },
            "text/plain": [
              "HBox(children=(FloatProgress(value=0.0, description='Downloading', max=313.0, style=ProgressStyle(description_…"
            ]
          },
          "metadata": {
            "tags": []
          }
        },
        {
          "output_type": "stream",
          "text": [
            "\n"
          ],
          "name": "stdout"
        },
        {
          "output_type": "display_data",
          "data": {
            "application/vnd.jupyter.widget-view+json": {
              "model_id": "677d60fa5ef34265b7977971f0639f44",
              "version_minor": 0,
              "version_major": 2
            },
            "text/plain": [
              "HBox(children=(FloatProgress(value=0.0, description='Downloading', max=435780550.0, style=ProgressStyle(descri…"
            ]
          },
          "metadata": {
            "tags": []
          }
        },
        {
          "output_type": "stream",
          "text": [
            "\n"
          ],
          "name": "stdout"
        },
        {
          "output_type": "stream",
          "text": [
            "100%|██████████| 1155/1155 [24:37<00:00,  1.28s/it]\n",
            "  0%|          | 0/1155 [00:00<?, ?it/s]"
          ],
          "name": "stderr"
        },
        {
          "output_type": "stream",
          "text": [
            "\n",
            "epoch : 0\t - train loss : 1.2209514986584493\t - val loss : 1.0535787087555488\t - precision :0.9389464068209501\t - all good precision : 0.666747868453106\t - f-score micro : 0.822582072382975\n"
          ],
          "name": "stdout"
        },
        {
          "output_type": "stream",
          "text": [
            "100%|██████████| 1155/1155 [24:36<00:00,  1.28s/it]\n",
            "  0%|          | 0/1155 [00:00<?, ?it/s]"
          ],
          "name": "stderr"
        },
        {
          "output_type": "stream",
          "text": [
            "\n",
            "epoch : 1\t - train loss : 1.0027089992599612\t - val loss : 1.0784526671619856\t - precision :0.9379110840438489\t - all good precision : 0.664068209500609\t - f-score micro : 0.8178651183564091\n"
          ],
          "name": "stdout"
        },
        {
          "output_type": "stream",
          "text": [
            "100%|██████████| 1155/1155 [24:38<00:00,  1.28s/it]\n"
          ],
          "name": "stderr"
        },
        {
          "output_type": "stream",
          "text": [
            "\n",
            "epoch : 2\t - train loss : 0.9588083476844709\t - val loss : 0.9901854868202349\t - precision :0.9485688185140073\t - all good precision : 0.7093788063337393\t - f-score micro : 0.8468027210884355\n"
          ],
          "name": "stdout"
        }
      ]
    },
    {
      "cell_type": "code",
      "metadata": {
        "colab": {
          "base_uri": "https://localhost:8080/",
          "height": 1000
        },
        "id": "mFnuJH2Zse19",
        "outputId": "e9ef6fd0-f14f-4826-c18a-87ae7cc6f77a"
      },
      "source": [
        "print_history(history)"
      ],
      "execution_count": null,
      "outputs": [
        {
          "output_type": "display_data",
          "data": {
            "image/png": "[encoded data removed]",
            "text/plain": [
              "<Figure size 432x288 with 1 Axes>"
            ]
          },
          "metadata": {
            "tags": [],
            "needs_background": "light"
          }
        },
        {
          "output_type": "stream",
          "text": [
            "No handles with labels found to put in legend.\n"
          ],
          "name": "stderr"
        },
        {
          "output_type": "display_data",
          "data": {
            "image/png": "[encoded data removed]",
            "text/plain": [
              "<Figure size 432x288 with 1 Axes>"
            ]
          },
          "metadata": {
            "tags": [],
            "needs_background": "light"
          }
        },
        {
          "output_type": "stream",
          "text": [
            "No handles with labels found to put in legend.\n"
          ],
          "name": "stderr"
        },
        {
          "output_type": "display_data",
          "data": {
            "image/png": "[encoded data removed]",
            "text/plain": [
              "<Figure size 432x288 with 1 Axes>"
            ]
          },
          "metadata": {
            "tags": [],
            "needs_background": "light"
          }
        },
        {
          "output_type": "stream",
          "text": [
            "No handles with labels found to put in legend.\n"
          ],
          "name": "stderr"
        },
        {
          "output_type": "display_data",
          "data": {
            "image/png": "[encoded data removed]",
            "text/plain": [
              "<Figure size 432x288 with 1 Axes>"
            ]
          },
          "metadata": {
            "tags": [],
            "needs_background": "light"
          }
        }
      ]
    },
    {
      "cell_type": "markdown",
      "metadata": {
        "id": "kQKVAXw7g9_c"
      },
      "source": [
        "Saving/Loading"
      ]
    },
    {
      "cell_type": "code",
      "metadata": {
        "colab": {
          "base_uri": "https://localhost:8080/"
        },
        "id": "oxqdzSj-KP52",
        "outputId": "252acf24-98a0-4889-ec30-8c27c3b271f9"
      },
      "source": [
        "from google.colab import drive\n",
        "drive.mount('/content/gdrive')"
      ],
      "execution_count": null,
      "outputs": [
        {
          "output_type": "stream",
          "text": [
            "Mounted at /content/gdrive\n"
          ],
          "name": "stdout"
        }
      ]
    },
    {
      "cell_type": "code",
      "metadata": {
        "id": "iagfEhAnw-hJ"
      },
      "source": [
        "#pour save le model\r\n",
        "'''\r\n",
        "PATH = '/content/gdrive/MyDrive/Colab Notebooks/projet_pstaln/biobertmodel'\r\n",
        "torch.save(bert_model.state_dict(), PATH)\r\n",
        "'''"
      ],
      "execution_count": null,
      "outputs": []
    },
    {
      "cell_type": "code",
      "metadata": {
        "id": "_NI3i2QMxCru"
      },
      "source": [
        "#load le model\r\n",
        "'''\r\n",
        "PATH = '/content/gdrive/MyDrive/Colab Notebooks/projet_pstaln/biobertmodel'\r\n",
        "bert_model = BioBertClassifier()\r\n",
        "bert_model.load_state_dict(torch.load(PATH))\r\n",
        "bert_model.eval()\r\n",
        "'''"
      ],
      "execution_count": null,
      "outputs": []
    },
    {
      "cell_type": "code",
      "metadata": {
        "id": "vY6ICgL7wnSe"
      },
      "source": [
        "test_loss, test_preci, accu_score, f_score = perf(bert_model, test_loader, seuil=2e-1)\r\n",
        "print('BioBERT -','test loss :', test_loss, '- precision :', test_preci, '- all good precision :', accu_score, '- f-score micro :', f_score)"
      ],
      "execution_count": null,
      "outputs": []
    },
    {
      "cell_type": "markdown",
      "metadata": {
        "id": "VvVmPcWaYEXH"
      },
      "source": [
        "Jetons un coup d'oeil aux résultats :"
      ]
    },
    {
      "cell_type": "code",
      "metadata": {
        "id": "gOU8toMsNBlM"
      },
      "source": [
        "def predict(model, loader):\n",
        "    total_pred = true_y = None\n",
        "    for x, y in loader:\n",
        "        with torch.no_grad():\n",
        "            y_scores = model(x)\n",
        "            y_pred = multi_hot(y_scores, 2e-1)\n",
        "            if total_pred == None: # concat\n",
        "                total_pred = y_pred\n",
        "                true_y = y\n",
        "            else:\n",
        "                total_pred = torch.cat((total_pred,y_pred), dim=0)\n",
        "                true_y = torch.cat((true_y,y), dim=0)\n",
        "    return true_y.cpu(), total_pred.cpu()"
      ],
      "execution_count": null,
      "outputs": []
    },
    {
      "cell_type": "code",
      "metadata": {
        "id": "hzxipe8sT3ga"
      },
      "source": [
        "y_valid, bert_predict = predict(bert_model, valid_loader)"
      ],
      "execution_count": null,
      "outputs": []
    },
    {
      "cell_type": "code",
      "metadata": {
        "id": "kVNj5L9NMV4_",
        "colab": {
          "base_uri": "https://localhost:8080/"
        },
        "outputId": "514c31a1-8fae-4bbd-8738-0a1851af9614"
      },
      "source": [
        "print(classification_report(y_valid, bert_predict, target_names=mb.classes_))"
      ],
      "execution_count": null,
      "outputs": [
        {
          "output_type": "stream",
          "text": [
            "                      precision    recall  f1-score   support\n",
            "\n",
            "         Case Report       0.90      0.89      0.89       417\n",
            "           Diagnosis       0.75      0.91      0.82       933\n",
            "Epidemic Forecasting       0.60      0.83      0.70        70\n",
            "        General Info       0.53      0.80      0.64       137\n",
            "           Mechanism       0.89      0.78      0.83       652\n",
            "          Prevention       0.89      0.93      0.91      1744\n",
            "        Transmission       0.64      0.54      0.58       156\n",
            "           Treatment       0.88      0.81      0.84      1313\n",
            "\n",
            "           micro avg       0.83      0.86      0.85      5422\n",
            "           macro avg       0.76      0.81      0.78      5422\n",
            "        weighted avg       0.84      0.86      0.85      5422\n",
            "         samples avg       0.87      0.89      0.87      5422\n",
            "\n"
          ],
          "name": "stdout"
        }
      ]
    },
    {
      "cell_type": "code",
      "metadata": {
        "id": "HlAyFYbwMVlf",
        "colab": {
          "base_uri": "https://localhost:8080/",
          "height": 350
        },
        "outputId": "b05e21f8-3cde-4780-b194-84fd6ae7b555"
      },
      "source": [
        "pred_classes = pd.Series([classes[x] for x in bert_predict.numpy().astype(bool)], name='prediction')\n",
        "print(pred_classes.apply(len).value_counts() / pred_classes.shape[0])\n",
        "pred_classes.apply(len).hist()"
      ],
      "execution_count": null,
      "outputs": [
        {
          "output_type": "stream",
          "text": [
            "1    0.665530\n",
            "2    0.304019\n",
            "3    0.030451\n",
            "Name: prediction, dtype: float64\n"
          ],
          "name": "stdout"
        },
        {
          "output_type": "execute_result",
          "data": {
            "text/plain": [
              "<matplotlib.axes._subplots.AxesSubplot at 0x7f59b108c6a0>"
            ]
          },
          "metadata": {
            "tags": []
          },
          "execution_count": 105
        },
        {
          "output_type": "display_data",
          "data": {
            "image/png": "[encoded data removed]",
            "text/plain": [
              "<Figure size 432x288 with 1 Axes>"
            ]
          },
          "metadata": {
            "tags": [],
            "needs_background": "light"
          }
        }
      ]
    },
    {
      "cell_type": "markdown",
      "metadata": {
        "id": "Q7UBxhSJYJH9"
      },
      "source": [
        "Contrairement à LR, tous les articles ont au moins 1 label. Les proportions observées sont assez similaires aux proportions réelles."
      ]
    },
    {
      "cell_type": "code",
      "metadata": {
        "colab": {
          "base_uri": "https://localhost:8080/",
          "height": 652
        },
        "id": "jFibf2imcd-d",
        "outputId": "ab6be06e-93cd-4e87-c742-cbfc86224d62"
      },
      "source": [
        "from sklearn.metrics import multilabel_confusion_matrix\n",
        "normalize = 'row' # row, column, False\n",
        "\n",
        "fig, ax = plt.subplots(nrows=2, ncols=4, figsize=(20,10))\n",
        "for i, (cm, cl) in enumerate(zip(multilabel_confusion_matrix(y_valid.numpy(), bert_predict.numpy()), classes)):\n",
        "    cm = (cm / cm.sum(axis=0)) if normalize == 'column' else ((cm.T / cm.sum(axis=1)).T if normalize == 'row' else cm)\n",
        "    disp = ConfusionMatrixDisplay(confusion_matrix=cm, display_labels=[f'not_{cl}', cl])\n",
        "    disp.plot(cmap='viridis', ax=ax[i%2][i//2], xticks_rotation='vertical')"
      ],
      "execution_count": null,
      "outputs": [
        {
          "output_type": "display_data",
          "data": {
            "image/png": "[encoded data removed]",
            "text/plain": [
              "<Figure size 1440x720 with 16 Axes>"
            ]
          },
          "metadata": {
            "tags": [],
            "needs_background": "light"
          }
        }
      ]
    },
    {
      "cell_type": "code",
      "metadata": {
        "id": "zeVXMFvdMVSo",
        "colab": {
          "base_uri": "https://localhost:8080/",
          "height": 555
        },
        "outputId": "a88ff2f2-8776-448d-95e2-fd22a238c347"
      },
      "source": [
        "generate_cm(y_valid, bert_predict, classes)"
      ],
      "execution_count": null,
      "outputs": [
        {
          "output_type": "display_data",
          "data": {
            "image/png": "[encoded data removed]",
            "text/plain": [
              "<Figure size 576x576 with 2 Axes>"
            ]
          },
          "metadata": {
            "tags": [],
            "needs_background": "light"
          }
        }
      ]
    },
    {
      "cell_type": "markdown",
      "metadata": {
        "id": "HW3V_6ivw9UZ"
      },
      "source": [
        "Comparé à LR, moins de labels dans la colonne \"NONE\" des prédictions (ce qui est normal, puisque BioBert prédit toujours au minimum 1 label pour chaque article)"
      ]
    },
    {
      "cell_type": "code",
      "metadata": {
        "colab": {
          "base_uri": "https://localhost:8080/",
          "height": 293
        },
        "id": "qPfkvfagcdvp",
        "outputId": "996d4b2e-7d2c-4f4f-e228-464c96052770"
      },
      "source": [
        "cm_nb = confusion_matrix(pd.Series(y_valid.numpy().sum(axis=1), name='truth'),\n",
        "           pd.Series(bert_predict.numpy().sum(axis=1), name='prediction').astype(int), normalize='all')\n",
        "\n",
        "disp = ConfusionMatrixDisplay(confusion_matrix=cm_nb, display_labels=[1,2,3,4])\n",
        "disp.plot(cmap='viridis', xticks_rotation='vertical')"
      ],
      "execution_count": null,
      "outputs": [
        {
          "output_type": "execute_result",
          "data": {
            "text/plain": [
              "<sklearn.metrics._plot.confusion_matrix.ConfusionMatrixDisplay at 0x7f5954f90a58>"
            ]
          },
          "metadata": {
            "tags": []
          },
          "execution_count": 121
        },
        {
          "output_type": "display_data",
          "data": {
            "image/png": "[encoded data removed]",
            "text/plain": [
              "<Figure size 432x288 with 2 Axes>"
            ]
          },
          "metadata": {
            "tags": [],
            "needs_background": "light"
          }
        }
      ]
    },
    {
      "cell_type": "code",
      "metadata": {
        "id": "9BucHejC0iUa"
      },
      "source": [],
      "execution_count": null,
      "outputs": []
    },
    {
      "cell_type": "markdown",
      "metadata": {
        "id": "Ind6iWvvg9_d"
      },
      "source": [
        "Comparaison des seuils de décision :"
      ]
    },
    {
      "cell_type": "code",
      "metadata": {
        "id": "HWo2DH3zwqkQ"
      },
      "source": [
        "verbose = False\r\n",
        "seuils = np.arange(0.1,0.5,0.02)\r\n",
        "losses = []\r\n",
        "precis = []\r\n",
        "all_good_preci = []\r\n",
        "f_micro = []\r\n",
        "for seuil in tqdm(seuils):\r\n",
        "  if verbose :\r\n",
        "    print(seuil)\r\n",
        "  test_loss, test_prec, accu_score, f_score = perf(bert_model, test_loader, seuil=seuil)\r\n",
        "  if verbose :\r\n",
        "    print('BioBERT - Seuil :', seuil, '- test loss :', test_loss, '- precision :', test_preci, '- all good precision :', accu_score, '- f-score micro :', f_score)\r\n",
        "  losses.append(test_loss)\r\n",
        "  precis.append(test_preci)\r\n",
        "  all_good_preci.append(accu_score)\r\n",
        "  f_micro.append(f_score)"
      ],
      "execution_count": null,
      "outputs": []
    },
    {
      "cell_type": "code",
      "metadata": {
        "id": "V2j2v2bWg9_d"
      },
      "source": [
        "print(f'best preci : {np.amax(precis)}- avec le seuil : {np.around(seuils[np.argmax(precis)], decimals=3)}')\n",
        "print(f'best all_good_preci : {np.amax(all_good_preci)}- avec le seuil : {np.around(seuils[np.argmax(all_good_preci)], decimals=3)}')\n",
        "print(f'best f-micro : {np.amax(f_micro)}- avec le seuil : {np.around(seuils[np.argmax(f_micro)], decimals=3)}')"
      ],
      "execution_count": null,
      "outputs": []
    },
    {
      "cell_type": "code",
      "metadata": {
        "id": "1isY8mrug9_d"
      },
      "source": [
        "# Figure 1\n",
        "plt.plot(seuils,precis)\n",
        "plt.xlabel('Seuil')\n",
        "plt.ylabel('Precision pour chaque label séparement')\n",
        "plt.legend()\n",
        "plt.show()\n",
        "\n",
        "# Autres\n",
        "for data, name in zip([all_good_preci, f_micro], ['Precision pour s\\'ensemble des labels', 'F-score micro']):\n",
        "    plt.figure()\n",
        "    plt.plot(seuils, data)\n",
        "    plt.xlabel(name)\n",
        "    plt.ylabel()\n",
        "    plt.legend()\n",
        "    plt.show()"
      ],
      "execution_count": null,
      "outputs": []
    },
    {
      "cell_type": "code",
      "metadata": {
        "colab": {
          "base_uri": "https://localhost:8080/",
          "height": 903
        },
        "id": "jzFtWLoXwwWE",
        "outputId": "b1ba9ce7-a9ea-44c5-f8c7-fd873c00b4b3"
      },
      "source": [
        "print('best preci :', np.amax(precis), '- avec le seuil :', seuils[np.argmax(precis)])\n",
        "print('best all_good_preci :', np.amax(all_good_preci), '- avec le seuil :', seuils[np.argmax(all_good_preci)])\n",
        "print('best f-micro :', np.amax(f_micro), '- avec le seuil :', seuils[np.argmax(f_micro)])\n",
        "plt.plot(seuils,precis)\n",
        "plt.xlabel('Seuil')\n",
        "plt.ylabel('Precision pour chaque label séparement')\n",
        "plt.legend()\n",
        "plt.show()\n",
        "plt.plot(seuils,all_good_preci)\n",
        "plt.xlabel('Seuil')\n",
        "plt.ylabel('Precision pour s\\'ensemble des labels')\n",
        "plt.legend()\n",
        "plt.show()\n",
        "plt.plot(seuils,f_micro)\n",
        "plt.xlabel('Seuil')\n",
        "plt.ylabel('F-score micro')\n",
        "plt.legend()\n",
        "plt.show()"
      ],
      "execution_count": null,
      "outputs": [
        {
          "output_type": "stream",
          "text": [
            "No handles with labels found to put in legend.\n"
          ],
          "name": "stderr"
        },
        {
          "output_type": "stream",
          "text": [
            "best preci : 0.9494750176618189 - avec le seuil : 0.24000000000000002\n",
            "best all_good_preci : 0.6899071840970548 - avec le seuil : 0.24000000000000002\n",
            "best f-micro : 0.8302129025355729 - avec le seuil : 0.18000000000000002\n"
          ],
          "name": "stdout"
        },
        {
          "output_type": "display_data",
          "data": {
            "image/png": "[encoded data removed]",
            "text/plain": [
              "<Figure size 432x288 with 1 Axes>"
            ]
          },
          "metadata": {
            "tags": [],
            "needs_background": "light"
          }
        },
        {
          "output_type": "stream",
          "text": [
            "No handles with labels found to put in legend.\n"
          ],
          "name": "stderr"
        },
        {
          "output_type": "display_data",
          "data": {
            "image/png": "[encoded data removed]",
            "text/plain": [
              "<Figure size 432x288 with 1 Axes>"
            ]
          },
          "metadata": {
            "tags": [],
            "needs_background": "light"
          }
        },
        {
          "output_type": "stream",
          "text": [
            "No handles with labels found to put in legend.\n"
          ],
          "name": "stderr"
        },
        {
          "output_type": "display_data",
          "data": {
            "image/png": "[encoded data removed]",
            "text/plain": [
              "<Figure size 432x288 with 1 Axes>"
            ]
          },
          "metadata": {
            "tags": [],
            "needs_background": "light"
          }
        }
      ]
    },
    {
      "cell_type": "markdown",
      "metadata": {
        "id": "odorDp1Og9_e"
      },
      "source": [
        "==> Choix de 0.2 pour le seuil"
      ]
    },
    {
      "cell_type": "markdown",
      "metadata": {
        "id": "imF98aK3g9_e"
      },
      "source": [
        "## Comparaison des modèles\n",
        "Expériences : \n",
        "* Comparaison des performances selon la quantité de données pour l'entrainement\n",
        "* Comparaison des performances selon que l'on ne conserve que le titre vs abstract vs titre + abstract"
      ]
    },
    {
      "cell_type": "code",
      "metadata": {
        "id": "Lo6TMa_Zg9_e"
      },
      "source": [
        "train_texts_sets = {}\n",
        "train_labels_sets = {}\n",
        "test_texts_sets = {}\n",
        "test_labels_sets = {}\n",
        "percentages = [0.01, 0.02, 0.05, 0.1, 0.2, 0.5, 0.8]\n",
        "\n",
        "for percent in percentages:\n",
        "    train_texts_sets[percent], test_texts_sets[percent], train_labels_sets[percent], test_labels_sets[percent] = train_test_split(X, \n",
        "                                                                                                                y_bin, test_size=1-percent, \n",
        "                                                                                                                random_state=seed)"
      ],
      "execution_count": null,
      "outputs": []
    },
    {
      "cell_type": "code",
      "metadata": {
        "id": "DtPwCqNog9_e"
      },
      "source": [
        "res = {\n",
        "    x+'_'+y:{} for x in ['lr', 'rnn', 'bert'] for y in ['loss', 'preci', 'f_score', 'accu_score']\n",
        "}"
      ],
      "execution_count": null,
      "outputs": []
    },
    {
      "cell_type": "code",
      "metadata": {
        "colab": {
          "base_uri": "https://localhost:8080/"
        },
        "id": "akZjnkllg9_e",
        "outputId": "597b29ac-f257-40d9-ea92-d27c03799891"
      },
      "source": [
        "# LR + TF-IDF\n",
        "vectorizer = TfidfVectorizer(sublinear_tf=True, max_df=0.5, stop_words='english')\n",
        "\n",
        "for percent in percentages:\n",
        "    print(f'training on {percent*100}percent data', end='')\n",
        "    time_start = time.time()\n",
        "\n",
        "    X_train = vectorizer.fit_transform([str(x) for x in train_texts_sets[percent]]) \n",
        "    X_valid = vectorizer.transform([str(x) for x in test_texts_sets[percent]])\n",
        "    \n",
        "    lr = OneVsRestClassifier(LogisticRegression())\n",
        "    lr.fit(X_train, train_labels_sets[percent])\n",
        "    y_pred = lr.predict(X_valid)\n",
        "\n",
        "    res['lr_f_score'][percent] = f1_score(test_labels_sets[percent], y_pred, average='micro')\n",
        "    res['lr_accu_score'][percent] = accuracy_score(test_labels_sets[percent], y_pred)\n",
        "    print(f'\\telapsed {np.around(time.time() - time_start,3)}s')\n"
      ],
      "execution_count": null,
      "outputs": [
        {
          "output_type": "stream",
          "text": [
            "training on 1.0percent data\telapsed 5.512s\n",
            "training on 2.0percent data\telapsed 6.044s\n",
            "training on 5.0percent data\telapsed 6.558s\n",
            "training on 10.0percent data\telapsed 7.374s\n",
            "training on 20.0percent data\telapsed 9.534s\n",
            "training on 50.0percent data\telapsed 18.42s\n",
            "training on 80.0percent data\telapsed 27.878s\n"
          ],
          "name": "stdout"
        },
        {
          "output_type": "stream",
          "text": [
            "/usr/local/lib/python3.6/dist-packages/sklearn/linear_model/_logistic.py:940: ConvergenceWarning: lbfgs failed to converge (status=1):\n",
            "STOP: TOTAL NO. of ITERATIONS REACHED LIMIT.\n",
            "\n",
            "Increase the number of iterations (max_iter) or scale the data as shown in:\n",
            "    https://scikit-learn.org/stable/modules/preprocessing.html\n",
            "Please also refer to the documentation for alternative solver options:\n",
            "    https://scikit-learn.org/stable/modules/linear_model.html#logistic-regression\n",
            "  extra_warning_msg=_LOGISTIC_SOLVER_CONVERGENCE_MSG)\n"
          ],
          "name": "stderr"
        }
      ]
    },
    {
      "cell_type": "code",
      "metadata": {
        "id": "JYnTrWQwg9_e"
      },
      "source": [
        "train_loader_sets = {}\n",
        "test_loader_sets = {}\n",
        "\n",
        "### RNN param\n",
        "maxlen = 500 \n",
        "batch_size = 256\n",
        "tokenizer = DistilBertTokenizer.from_pretrained('distilbert-base-uncased')\n",
        "\n",
        "for percent in percentages:\n",
        "    print(f\"\\n### percentage={percent*100}\")\n",
        "    train_loader_sets[percent] = create_loader(train_texts_sets[percent], train_labels_sets[percent], \n",
        "                                               shuffle=True, maxlen=maxlen, tokenizer=tokenizer, device=device) \n",
        "    test_loader_sets[percent] = create_loader(test_texts_sets[percent], test_labels_sets[percent], \n",
        "                                               maxlen=maxlen, tokenizer=tokenizer, device=device) \n",
        "    \n",
        "    rnn_model = RNNClassifier()\n",
        "    _ = fit_rnn(rnn_model, train_loader_sets[percent], 10)\n",
        "    res['rnn_loss'][percent], res['rnn_preci'][percent], res['rnn_accu_score'][percent], res['rnn_f_score'][percent] = perf(rnn_model, \n",
        "                                                                                                test_loader_sets[percent], seuil=2e-1)"
      ],
      "execution_count": null,
      "outputs": []
    },
    {
      "cell_type": "code",
      "metadata": {
        "id": "k1xLWNeDOSPR"
      },
      "source": [
        "for percent in percentages:\n",
        "    print(f\"\\n### percentage={percent*100}\")\n",
        "    \n",
        "    rcnn_model = RCNN()\n",
        "    _ = fit_rnn(rcnn_model, train_loader_sets[percent], 10)\n",
        "    res['rcnn_loss'][percent], res['rcnn_preci'][percent], res['rcnn_accu_score'][percent], res['rcnn_f_score'][percent] = perf(rcnn_model, \n",
        "                                                                                                test_loader_sets[percent], seuil=2e-1)"
      ],
      "execution_count": null,
      "outputs": []
    },
    {
      "cell_type": "code",
      "metadata": {
        "id": "y-mePyw9g9_f"
      },
      "source": [
        "# BERT\n",
        "tokenizer = BertTokenizer.from_pretrained('dmis-lab/biobert-base-cased-v1.1')\n",
        "maxlen = 200\n",
        "batch_size = 32\n",
        "\n",
        "for percent in percentages:\n",
        "    print(f\"\\n### percentage={percent*100}\")\n",
        "    train_loader = create_loader(train_texts_sets[percent], train_labels_sets[percent], \n",
        "                                               shuffle=True, maxlen=maxlen, tokenizer=tokenizer, device=device) \n",
        "    test_loader = create_loader(test_texts_sets[percent], test_labels_sets[percent], \n",
        "                                               maxlen=maxlen, tokenizer=tokenizer, device=device) \n",
        "\n",
        "    bert_model = BioBertClassifier()\n",
        "    _ = fit(bert_model, 3, train_loader, lrbio=3e-06, lrdeci=5e-03, freezebio=False)\n",
        "    res['bert_loss'][percent], res['bert_preci'][percent], res['bert_accu_score'][percent], res['bert_f_score'][percent] = perf(bert_model, \n",
        "                                                                                                                                test_loader, seuil=2e-1)\n"
      ],
      "execution_count": null,
      "outputs": []
    },
    {
      "cell_type": "code",
      "metadata": {
        "id": "_jABv9WrIOSZ"
      },
      "source": [
        "{'bert_loss': {0.01: 1.6221428549830963, 0.02: 1.3608597152204185, 0.05: 1.0985369770954876, 0.1: 1.1103416335024867, 0.2: 1.1519631269365735, 0.5: 1.0175523033983402, 0.8: 1.0834197100607903\n",
        "'bert_preci': {0.01: 0.8832710409745294, 0.02: 0.904704193313818, 0.05: 0.9384076090092516, 0.1: 0.9401050654755863, 0.2: 0.9320896715545202, 0.5: 0.9454529674024266, 0.8: 0.9462360679700347\n",
        "'bert_f_score': {0.01: 0.6743139640422532, 0.02: 0.7347690710949663, 0.05: 0.8189975553577232, 0.1: 0.8222669046381853, 0.2: 0.8024287328061663, 0.5: 0.8392672059872662, 0.8: 0.84001631099633\n",
        "'bert_accu_score': {0.01: 0.4492986341823551, 0.02: 0.5375794753230287, 0.05: 0.66103748725741, 0.1: 0.677677393158055, 0.2: 0.6381846420903567, 0.5: 0.6933562344686449, 0.8: 0.7066508313539193\n",
        "'lr_accu_score': {0.01: 0.40662606127722406,  0.02: 0.4838439020752149,  0.05: 0.5741955338423957,  0.1: 0.6194701045579128,  0.2: 0.654058745603216,  0.5: 0.6913828387662623,  0.8: 0.707381691942262\n",
        "'lr_f_score': {0.01: 0.5630093201386023,  0.02: 0.6496235714672588,  0.05: 0.7346035246085204,  0.1: 0.7726509773752491,  0.2: 0.7988745810887372,  0.5: 0.8260014306151646,  0.8: 0.8386431438989356\n",
        "'rnn_accu_score': {0.01: 0.18844592100406055,  0.02: 0.2917606697369157,  0.05: 0.4628108711123079,  0.1: 0.4932697188102731,  0.2: 0.6063679137545109,  0.5: 0.6821371144569507,  0.8: 0.7138680796638042\n",
        "'rnn_f_score': {0.01: 0.47832707090056237,  0.02: 0.5329463666652351,  0.05: 0.6482972723821918,  0.1: 0.7044476124606547,  0.2: 0.7738778070298508,  0.5: 0.8228885758368552,  0.8: 0.8409160305343512\n",
        "'rnn_loss': {0.01: 2.167081516472868,  0.02: 2.033796920720889,  0.05: 1.7177877351124322,  0.1: 1.488854774147493,  0.2: 1.2858516557541964,  0.5: 1.1321481800344217,  0.8: 1.0799539804066554\n",
        "'rnn_preci': {0.01: 0.803968253968254,  0.02: 0.8225928998937222,  0.05: 0.8752524475389971,  0.1: 0.8937214495990254,  0.2: 0.9217743593257504,  0.5: 0.9396972299371437,  0.8: 0.946453042207199\n",
        " }"
      ],
      "execution_count": null,
      "outputs": []
    },
    {
      "cell_type": "code",
      "metadata": {
        "id": "4zJEZpSUg9_f",
        "colab": {
          "base_uri": "https://localhost:8080/",
          "height": 298
        },
        "outputId": "7f56f1dc-1bd3-4989-8c2a-2ab4afff9b34"
      },
      "source": [
        "# plotting\n",
        "col_pattern = 'preci'\n",
        "res_df = pd.DataFrame(res).dropna(axis='columns', how='all')\n",
        "res_df[[col for col in res_df.columns if col_pattern in col]].plot(title=f'{col_pattern} depending on amount of training data')"
      ],
      "execution_count": null,
      "outputs": [
        {
          "output_type": "execute_result",
          "data": {
            "text/plain": [
              "<matplotlib.axes._subplots.AxesSubplot at 0x7fb8dae78b70>"
            ]
          },
          "metadata": {
            "tags": []
          },
          "execution_count": 13
        },
        {
          "output_type": "display_data",
          "data": {
            "image/png": "[encoded data removed]",
            "text/plain": [
              "<Figure size 432x288 with 1 Axes>"
            ]
          },
          "metadata": {
            "tags": [],
            "needs_background": "light"
          }
        }
      ]
    },
    {
      "cell_type": "markdown",
      "metadata": {
        "id": "RVVv_iJyg9_f"
      },
      "source": [
        "Expérience 2 : performance titre vs abstract vs titre + abstract"
      ]
    },
    {
      "cell_type": "code",
      "metadata": {
        "id": "PaEiU13Fg9_g"
      },
      "source": [
        "df_sub = df[df.abstract != ''] # only keeping those with abstract\n",
        "X_1 = df_sub.title.tolist()\n",
        "X_2 = df_sub.abstract.tolist()\n",
        "X_3 = df_sub.concat.tolist()\n",
        "y = df_sub.topics\n",
        "y_bin = mb.fit_transform(y)"
      ],
      "execution_count": null,
      "outputs": []
    },
    {
      "cell_type": "code",
      "metadata": {
        "id": "h0vq6p4jg9_h"
      },
      "source": [
        "train1_texts, test1_texts, train2_texts, test2_texts, train3_texts, test3_texts, train_labels, test_labels = train_test_split(\n",
        "    X_1, X_2, X_3, y_bin, test_size=0.25)"
      ],
      "execution_count": null,
      "outputs": []
    },
    {
      "cell_type": "code",
      "metadata": {
        "id": "jD6x5I3og9_h"
      },
      "source": [
        "res2 = {'loss':{}, 'preci':{}, 'accu_score':{}, 'f_score':{} }\n",
        "\n",
        "# title\n",
        "# abstract full\n",
        "# both - 100 char\n",
        "# both - 200 char\n",
        "# both - 550 char # impossible avec BioBert\n",
        "for xtrain, xtest, name, maxlen in zip([train1_texts, train2_texts, train3_texts, train3_texts], \n",
        "            [test1_texts, test2_texts, test3_texts, test3_texts], \n",
        "            ['title', 'abstract', 'both - 100 char', 'both - 200 char'], \n",
        "            [100, 200, 100, 200]):\n",
        "    print(f'creating {name} dataloader')\n",
        "    train_loader = create_loader(xtrain, train_labels, shuffle=True, maxlen=maxlen, tokenizer=tokenizer, device=device) \n",
        "    test_loader = create_loader(xtest, test_labels, maxlen=maxlen, tokenizer=tokenizer, device=device) \n",
        "\n",
        "    bert_model = BioBertClassifier()\n",
        "    _ = fit(bert_model, 3, train_loader, lrbio=3e-06, lrdeci=5e-03, freezebio=False)\n",
        "    res2['loss'][name], res2['preci'][name], res2['accu_score'][name], res2['f_score'][name] = perf(bert_model, test_loader, seuil=2e-1)"
      ],
      "execution_count": null,
      "outputs": []
    },
    {
      "cell_type": "code",
      "metadata": {
        "id": "lEdFVj4lg9_i"
      },
      "source": [
        "# plotting\n",
        "res = pd.DataFrame(res).dropna(axis='columns', how='all')\n",
        "res[[col for col in res.columns if 'f_score' in col]].plot()"
      ],
      "execution_count": null,
      "outputs": []
    }
  ]
}