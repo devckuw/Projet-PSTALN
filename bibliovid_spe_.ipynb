{
  "nbformat": 4,
  "nbformat_minor": 0,
  "metadata": {
    "accelerator": "GPU",
    "colab": {
      "name": "bibliovid_spe_.ipynb",
      "provenance": [],
      "collapsed_sections": []
    },
    "kernelspec": {
      "display_name": "Python 3",
      "language": "python",
      "name": "python3"
    },
    "language_info": {
      "codemirror_mode": {
        "name": "ipython",
        "version": 3
      },
      "file_extension": ".py",
      "mimetype": "text/x-python",
      "name": "python",
      "nbconvert_exporter": "python",
      "pygments_lexer": "ipython3",
      "version": "3.8.5"
    },
    "widgets": {
      "application/vnd.jupyter.widget-state+json": {
        "a00d1884c1994ede88ade7e02daa9449": {
          "model_module": "@jupyter-widgets/controls",
          "model_name": "HBoxModel",
          "state": {
            "_dom_classes": [],
            "_model_module": "@jupyter-widgets/controls",
            "_model_module_version": "1.5.0",
            "_model_name": "HBoxModel",
            "_view_count": null,
            "_view_module": "@jupyter-widgets/controls",
            "_view_module_version": "1.5.0",
            "_view_name": "HBoxView",
            "box_style": "",
            "children": [
              "IPY_MODEL_cf9eace458764c0290daa6ebc750713b",
              "IPY_MODEL_bed983ecd3bc402cad0e5bd1ac860941"
            ],
            "layout": "IPY_MODEL_1fb7fcc8dcfc43a4a2104b48775e3941"
          }
        },
        "1fb7fcc8dcfc43a4a2104b48775e3941": {
          "model_module": "@jupyter-widgets/base",
          "model_name": "LayoutModel",
          "state": {
            "_model_module": "@jupyter-widgets/base",
            "_model_module_version": "1.2.0",
            "_model_name": "LayoutModel",
            "_view_count": null,
            "_view_module": "@jupyter-widgets/base",
            "_view_module_version": "1.2.0",
            "_view_name": "LayoutView",
            "align_content": null,
            "align_items": null,
            "align_self": null,
            "border": null,
            "bottom": null,
            "display": null,
            "flex": null,
            "flex_flow": null,
            "grid_area": null,
            "grid_auto_columns": null,
            "grid_auto_flow": null,
            "grid_auto_rows": null,
            "grid_column": null,
            "grid_gap": null,
            "grid_row": null,
            "grid_template_areas": null,
            "grid_template_columns": null,
            "grid_template_rows": null,
            "height": null,
            "justify_content": null,
            "justify_items": null,
            "left": null,
            "margin": null,
            "max_height": null,
            "max_width": null,
            "min_height": null,
            "min_width": null,
            "object_fit": null,
            "object_position": null,
            "order": null,
            "overflow": null,
            "overflow_x": null,
            "overflow_y": null,
            "padding": null,
            "right": null,
            "top": null,
            "visibility": null,
            "width": null
          }
        },
        "cf9eace458764c0290daa6ebc750713b": {
          "model_module": "@jupyter-widgets/controls",
          "model_name": "FloatProgressModel",
          "state": {
            "_dom_classes": [],
            "_model_module": "@jupyter-widgets/controls",
            "_model_module_version": "1.5.0",
            "_model_name": "FloatProgressModel",
            "_view_count": null,
            "_view_module": "@jupyter-widgets/controls",
            "_view_module_version": "1.5.0",
            "_view_name": "ProgressView",
            "bar_style": "success",
            "description": "Downloading: 100%",
            "description_tooltip": null,
            "layout": "IPY_MODEL_64f5dad4268841e0b2fecd77cd300d7d",
            "max": 213450,
            "min": 0,
            "orientation": "horizontal",
            "style": "IPY_MODEL_7bd1b17751c94d1b9f15b8a48cc3322e",
            "value": 213450
          }
        },
        "bed983ecd3bc402cad0e5bd1ac860941": {
          "model_module": "@jupyter-widgets/controls",
          "model_name": "HTMLModel",
          "state": {
            "_dom_classes": [],
            "_model_module": "@jupyter-widgets/controls",
            "_model_module_version": "1.5.0",
            "_model_name": "HTMLModel",
            "_view_count": null,
            "_view_module": "@jupyter-widgets/controls",
            "_view_module_version": "1.5.0",
            "_view_name": "HTMLView",
            "description": "",
            "description_tooltip": null,
            "layout": "IPY_MODEL_957aed5034e6464092aa8fb6c5b6ca8c",
            "placeholder": "​",
            "style": "IPY_MODEL_2df3458f11b641b492b8efa64a1336c0",
            "value": " 213k/213k [00:00&lt;00:00, 3.90MB/s]"
          }
        },
        "7bd1b17751c94d1b9f15b8a48cc3322e": {
          "model_module": "@jupyter-widgets/controls",
          "model_name": "ProgressStyleModel",
          "state": {
            "_model_module": "@jupyter-widgets/controls",
            "_model_module_version": "1.5.0",
            "_model_name": "ProgressStyleModel",
            "_view_count": null,
            "_view_module": "@jupyter-widgets/base",
            "_view_module_version": "1.2.0",
            "_view_name": "StyleView",
            "bar_color": null,
            "description_width": "initial"
          }
        },
        "64f5dad4268841e0b2fecd77cd300d7d": {
          "model_module": "@jupyter-widgets/base",
          "model_name": "LayoutModel",
          "state": {
            "_model_module": "@jupyter-widgets/base",
            "_model_module_version": "1.2.0",
            "_model_name": "LayoutModel",
            "_view_count": null,
            "_view_module": "@jupyter-widgets/base",
            "_view_module_version": "1.2.0",
            "_view_name": "LayoutView",
            "align_content": null,
            "align_items": null,
            "align_self": null,
            "border": null,
            "bottom": null,
            "display": null,
            "flex": null,
            "flex_flow": null,
            "grid_area": null,
            "grid_auto_columns": null,
            "grid_auto_flow": null,
            "grid_auto_rows": null,
            "grid_column": null,
            "grid_gap": null,
            "grid_row": null,
            "grid_template_areas": null,
            "grid_template_columns": null,
            "grid_template_rows": null,
            "height": null,
            "justify_content": null,
            "justify_items": null,
            "left": null,
            "margin": null,
            "max_height": null,
            "max_width": null,
            "min_height": null,
            "min_width": null,
            "object_fit": null,
            "object_position": null,
            "order": null,
            "overflow": null,
            "overflow_x": null,
            "overflow_y": null,
            "padding": null,
            "right": null,
            "top": null,
            "visibility": null,
            "width": null
          }
        },
        "2df3458f11b641b492b8efa64a1336c0": {
          "model_module": "@jupyter-widgets/controls",
          "model_name": "DescriptionStyleModel",
          "state": {
            "_model_module": "@jupyter-widgets/controls",
            "_model_module_version": "1.5.0",
            "_model_name": "DescriptionStyleModel",
            "_view_count": null,
            "_view_module": "@jupyter-widgets/base",
            "_view_module_version": "1.2.0",
            "_view_name": "StyleView",
            "description_width": ""
          }
        },
        "957aed5034e6464092aa8fb6c5b6ca8c": {
          "model_module": "@jupyter-widgets/base",
          "model_name": "LayoutModel",
          "state": {
            "_model_module": "@jupyter-widgets/base",
            "_model_module_version": "1.2.0",
            "_model_name": "LayoutModel",
            "_view_count": null,
            "_view_module": "@jupyter-widgets/base",
            "_view_module_version": "1.2.0",
            "_view_name": "LayoutView",
            "align_content": null,
            "align_items": null,
            "align_self": null,
            "border": null,
            "bottom": null,
            "display": null,
            "flex": null,
            "flex_flow": null,
            "grid_area": null,
            "grid_auto_columns": null,
            "grid_auto_flow": null,
            "grid_auto_rows": null,
            "grid_column": null,
            "grid_gap": null,
            "grid_row": null,
            "grid_template_areas": null,
            "grid_template_columns": null,
            "grid_template_rows": null,
            "height": null,
            "justify_content": null,
            "justify_items": null,
            "left": null,
            "margin": null,
            "max_height": null,
            "max_width": null,
            "min_height": null,
            "min_width": null,
            "object_fit": null,
            "object_position": null,
            "order": null,
            "overflow": null,
            "overflow_x": null,
            "overflow_y": null,
            "padding": null,
            "right": null,
            "top": null,
            "visibility": null,
            "width": null
          }
        },
        "e7ab082324434ef3bfb67db277e84672": {
          "model_module": "@jupyter-widgets/controls",
          "model_name": "HBoxModel",
          "state": {
            "_dom_classes": [],
            "_model_module": "@jupyter-widgets/controls",
            "_model_module_version": "1.5.0",
            "_model_name": "HBoxModel",
            "_view_count": null,
            "_view_module": "@jupyter-widgets/controls",
            "_view_module_version": "1.5.0",
            "_view_name": "HBoxView",
            "box_style": "",
            "children": [
              "IPY_MODEL_1c9af41c36404e7f81512d375056b91d",
              "IPY_MODEL_596aa41733914d43b70202ecdb0b6045"
            ],
            "layout": "IPY_MODEL_f6d289ce3f4e4d37933d4025f81caf4f"
          }
        },
        "f6d289ce3f4e4d37933d4025f81caf4f": {
          "model_module": "@jupyter-widgets/base",
          "model_name": "LayoutModel",
          "state": {
            "_model_module": "@jupyter-widgets/base",
            "_model_module_version": "1.2.0",
            "_model_name": "LayoutModel",
            "_view_count": null,
            "_view_module": "@jupyter-widgets/base",
            "_view_module_version": "1.2.0",
            "_view_name": "LayoutView",
            "align_content": null,
            "align_items": null,
            "align_self": null,
            "border": null,
            "bottom": null,
            "display": null,
            "flex": null,
            "flex_flow": null,
            "grid_area": null,
            "grid_auto_columns": null,
            "grid_auto_flow": null,
            "grid_auto_rows": null,
            "grid_column": null,
            "grid_gap": null,
            "grid_row": null,
            "grid_template_areas": null,
            "grid_template_columns": null,
            "grid_template_rows": null,
            "height": null,
            "justify_content": null,
            "justify_items": null,
            "left": null,
            "margin": null,
            "max_height": null,
            "max_width": null,
            "min_height": null,
            "min_width": null,
            "object_fit": null,
            "object_position": null,
            "order": null,
            "overflow": null,
            "overflow_x": null,
            "overflow_y": null,
            "padding": null,
            "right": null,
            "top": null,
            "visibility": null,
            "width": null
          }
        },
        "1c9af41c36404e7f81512d375056b91d": {
          "model_module": "@jupyter-widgets/controls",
          "model_name": "FloatProgressModel",
          "state": {
            "_dom_classes": [],
            "_model_module": "@jupyter-widgets/controls",
            "_model_module_version": "1.5.0",
            "_model_name": "FloatProgressModel",
            "_view_count": null,
            "_view_module": "@jupyter-widgets/controls",
            "_view_module_version": "1.5.0",
            "_view_name": "ProgressView",
            "bar_style": "success",
            "description": "Downloading: 100%",
            "description_tooltip": null,
            "layout": "IPY_MODEL_49c470931e3d4a289552914056b7cd5a",
            "max": 313,
            "min": 0,
            "orientation": "horizontal",
            "style": "IPY_MODEL_6e3440014e3b41cd8302f4494bca2700",
            "value": 313
          }
        },
        "596aa41733914d43b70202ecdb0b6045": {
          "model_module": "@jupyter-widgets/controls",
          "model_name": "HTMLModel",
          "state": {
            "_dom_classes": [],
            "_model_module": "@jupyter-widgets/controls",
            "_model_module_version": "1.5.0",
            "_model_name": "HTMLModel",
            "_view_count": null,
            "_view_module": "@jupyter-widgets/controls",
            "_view_module_version": "1.5.0",
            "_view_name": "HTMLView",
            "description": "",
            "description_tooltip": null,
            "layout": "IPY_MODEL_5856d09032624e41abeab56d6e4b38dd",
            "placeholder": "​",
            "style": "IPY_MODEL_5a32ab92a8dc44abb24b5ccafdd860c4",
            "value": " 313/313 [00:00&lt;00:00, 1.86kB/s]"
          }
        },
        "6e3440014e3b41cd8302f4494bca2700": {
          "model_module": "@jupyter-widgets/controls",
          "model_name": "ProgressStyleModel",
          "state": {
            "_model_module": "@jupyter-widgets/controls",
            "_model_module_version": "1.5.0",
            "_model_name": "ProgressStyleModel",
            "_view_count": null,
            "_view_module": "@jupyter-widgets/base",
            "_view_module_version": "1.2.0",
            "_view_name": "StyleView",
            "bar_color": null,
            "description_width": "initial"
          }
        },
        "49c470931e3d4a289552914056b7cd5a": {
          "model_module": "@jupyter-widgets/base",
          "model_name": "LayoutModel",
          "state": {
            "_model_module": "@jupyter-widgets/base",
            "_model_module_version": "1.2.0",
            "_model_name": "LayoutModel",
            "_view_count": null,
            "_view_module": "@jupyter-widgets/base",
            "_view_module_version": "1.2.0",
            "_view_name": "LayoutView",
            "align_content": null,
            "align_items": null,
            "align_self": null,
            "border": null,
            "bottom": null,
            "display": null,
            "flex": null,
            "flex_flow": null,
            "grid_area": null,
            "grid_auto_columns": null,
            "grid_auto_flow": null,
            "grid_auto_rows": null,
            "grid_column": null,
            "grid_gap": null,
            "grid_row": null,
            "grid_template_areas": null,
            "grid_template_columns": null,
            "grid_template_rows": null,
            "height": null,
            "justify_content": null,
            "justify_items": null,
            "left": null,
            "margin": null,
            "max_height": null,
            "max_width": null,
            "min_height": null,
            "min_width": null,
            "object_fit": null,
            "object_position": null,
            "order": null,
            "overflow": null,
            "overflow_x": null,
            "overflow_y": null,
            "padding": null,
            "right": null,
            "top": null,
            "visibility": null,
            "width": null
          }
        },
        "5a32ab92a8dc44abb24b5ccafdd860c4": {
          "model_module": "@jupyter-widgets/controls",
          "model_name": "DescriptionStyleModel",
          "state": {
            "_model_module": "@jupyter-widgets/controls",
            "_model_module_version": "1.5.0",
            "_model_name": "DescriptionStyleModel",
            "_view_count": null,
            "_view_module": "@jupyter-widgets/base",
            "_view_module_version": "1.2.0",
            "_view_name": "StyleView",
            "description_width": ""
          }
        },
        "5856d09032624e41abeab56d6e4b38dd": {
          "model_module": "@jupyter-widgets/base",
          "model_name": "LayoutModel",
          "state": {
            "_model_module": "@jupyter-widgets/base",
            "_model_module_version": "1.2.0",
            "_model_name": "LayoutModel",
            "_view_count": null,
            "_view_module": "@jupyter-widgets/base",
            "_view_module_version": "1.2.0",
            "_view_name": "LayoutView",
            "align_content": null,
            "align_items": null,
            "align_self": null,
            "border": null,
            "bottom": null,
            "display": null,
            "flex": null,
            "flex_flow": null,
            "grid_area": null,
            "grid_auto_columns": null,
            "grid_auto_flow": null,
            "grid_auto_rows": null,
            "grid_column": null,
            "grid_gap": null,
            "grid_row": null,
            "grid_template_areas": null,
            "grid_template_columns": null,
            "grid_template_rows": null,
            "height": null,
            "justify_content": null,
            "justify_items": null,
            "left": null,
            "margin": null,
            "max_height": null,
            "max_width": null,
            "min_height": null,
            "min_width": null,
            "object_fit": null,
            "object_position": null,
            "order": null,
            "overflow": null,
            "overflow_x": null,
            "overflow_y": null,
            "padding": null,
            "right": null,
            "top": null,
            "visibility": null,
            "width": null
          }
        },
        "6bda2a3134ea4466bd83a322773f8b19": {
          "model_module": "@jupyter-widgets/controls",
          "model_name": "HBoxModel",
          "state": {
            "_dom_classes": [],
            "_model_module": "@jupyter-widgets/controls",
            "_model_module_version": "1.5.0",
            "_model_name": "HBoxModel",
            "_view_count": null,
            "_view_module": "@jupyter-widgets/controls",
            "_view_module_version": "1.5.0",
            "_view_name": "HBoxView",
            "box_style": "",
            "children": [
              "IPY_MODEL_f54372b0d470438395fdbce865893b83",
              "IPY_MODEL_1cb068aba16641e0b41b9f46e7d5df06"
            ],
            "layout": "IPY_MODEL_e52d76c7d86f4f9aa52561abcce0b71f"
          }
        },
        "e52d76c7d86f4f9aa52561abcce0b71f": {
          "model_module": "@jupyter-widgets/base",
          "model_name": "LayoutModel",
          "state": {
            "_model_module": "@jupyter-widgets/base",
            "_model_module_version": "1.2.0",
            "_model_name": "LayoutModel",
            "_view_count": null,
            "_view_module": "@jupyter-widgets/base",
            "_view_module_version": "1.2.0",
            "_view_name": "LayoutView",
            "align_content": null,
            "align_items": null,
            "align_self": null,
            "border": null,
            "bottom": null,
            "display": null,
            "flex": null,
            "flex_flow": null,
            "grid_area": null,
            "grid_auto_columns": null,
            "grid_auto_flow": null,
            "grid_auto_rows": null,
            "grid_column": null,
            "grid_gap": null,
            "grid_row": null,
            "grid_template_areas": null,
            "grid_template_columns": null,
            "grid_template_rows": null,
            "height": null,
            "justify_content": null,
            "justify_items": null,
            "left": null,
            "margin": null,
            "max_height": null,
            "max_width": null,
            "min_height": null,
            "min_width": null,
            "object_fit": null,
            "object_position": null,
            "order": null,
            "overflow": null,
            "overflow_x": null,
            "overflow_y": null,
            "padding": null,
            "right": null,
            "top": null,
            "visibility": null,
            "width": null
          }
        },
        "f54372b0d470438395fdbce865893b83": {
          "model_module": "@jupyter-widgets/controls",
          "model_name": "FloatProgressModel",
          "state": {
            "_dom_classes": [],
            "_model_module": "@jupyter-widgets/controls",
            "_model_module_version": "1.5.0",
            "_model_name": "FloatProgressModel",
            "_view_count": null,
            "_view_module": "@jupyter-widgets/controls",
            "_view_module_version": "1.5.0",
            "_view_name": "ProgressView",
            "bar_style": "success",
            "description": "Downloading: 100%",
            "description_tooltip": null,
            "layout": "IPY_MODEL_a2791a21275e4766bea1f92d59d05a9a",
            "max": 435780550,
            "min": 0,
            "orientation": "horizontal",
            "style": "IPY_MODEL_5ab160d05fd74bb98d2b31591912d4c9",
            "value": 435780550
          }
        },
        "1cb068aba16641e0b41b9f46e7d5df06": {
          "model_module": "@jupyter-widgets/controls",
          "model_name": "HTMLModel",
          "state": {
            "_dom_classes": [],
            "_model_module": "@jupyter-widgets/controls",
            "_model_module_version": "1.5.0",
            "_model_name": "HTMLModel",
            "_view_count": null,
            "_view_module": "@jupyter-widgets/controls",
            "_view_module_version": "1.5.0",
            "_view_name": "HTMLView",
            "description": "",
            "description_tooltip": null,
            "layout": "IPY_MODEL_e7efedf6fb3e4909857bd7701e77fbde",
            "placeholder": "​",
            "style": "IPY_MODEL_f2fee1653c044172a746717f46699a78",
            "value": " 436M/436M [00:20&lt;00:00, 20.8MB/s]"
          }
        },
        "5ab160d05fd74bb98d2b31591912d4c9": {
          "model_module": "@jupyter-widgets/controls",
          "model_name": "ProgressStyleModel",
          "state": {
            "_model_module": "@jupyter-widgets/controls",
            "_model_module_version": "1.5.0",
            "_model_name": "ProgressStyleModel",
            "_view_count": null,
            "_view_module": "@jupyter-widgets/base",
            "_view_module_version": "1.2.0",
            "_view_name": "StyleView",
            "bar_color": null,
            "description_width": "initial"
          }
        },
        "a2791a21275e4766bea1f92d59d05a9a": {
          "model_module": "@jupyter-widgets/base",
          "model_name": "LayoutModel",
          "state": {
            "_model_module": "@jupyter-widgets/base",
            "_model_module_version": "1.2.0",
            "_model_name": "LayoutModel",
            "_view_count": null,
            "_view_module": "@jupyter-widgets/base",
            "_view_module_version": "1.2.0",
            "_view_name": "LayoutView",
            "align_content": null,
            "align_items": null,
            "align_self": null,
            "border": null,
            "bottom": null,
            "display": null,
            "flex": null,
            "flex_flow": null,
            "grid_area": null,
            "grid_auto_columns": null,
            "grid_auto_flow": null,
            "grid_auto_rows": null,
            "grid_column": null,
            "grid_gap": null,
            "grid_row": null,
            "grid_template_areas": null,
            "grid_template_columns": null,
            "grid_template_rows": null,
            "height": null,
            "justify_content": null,
            "justify_items": null,
            "left": null,
            "margin": null,
            "max_height": null,
            "max_width": null,
            "min_height": null,
            "min_width": null,
            "object_fit": null,
            "object_position": null,
            "order": null,
            "overflow": null,
            "overflow_x": null,
            "overflow_y": null,
            "padding": null,
            "right": null,
            "top": null,
            "visibility": null,
            "width": null
          }
        },
        "f2fee1653c044172a746717f46699a78": {
          "model_module": "@jupyter-widgets/controls",
          "model_name": "DescriptionStyleModel",
          "state": {
            "_model_module": "@jupyter-widgets/controls",
            "_model_module_version": "1.5.0",
            "_model_name": "DescriptionStyleModel",
            "_view_count": null,
            "_view_module": "@jupyter-widgets/base",
            "_view_module_version": "1.2.0",
            "_view_name": "StyleView",
            "description_width": ""
          }
        },
        "e7efedf6fb3e4909857bd7701e77fbde": {
          "model_module": "@jupyter-widgets/base",
          "model_name": "LayoutModel",
          "state": {
            "_model_module": "@jupyter-widgets/base",
            "_model_module_version": "1.2.0",
            "_model_name": "LayoutModel",
            "_view_count": null,
            "_view_module": "@jupyter-widgets/base",
            "_view_module_version": "1.2.0",
            "_view_name": "LayoutView",
            "align_content": null,
            "align_items": null,
            "align_self": null,
            "border": null,
            "bottom": null,
            "display": null,
            "flex": null,
            "flex_flow": null,
            "grid_area": null,
            "grid_auto_columns": null,
            "grid_auto_flow": null,
            "grid_auto_rows": null,
            "grid_column": null,
            "grid_gap": null,
            "grid_row": null,
            "grid_template_areas": null,
            "grid_template_columns": null,
            "grid_template_rows": null,
            "height": null,
            "justify_content": null,
            "justify_items": null,
            "left": null,
            "margin": null,
            "max_height": null,
            "max_width": null,
            "min_height": null,
            "min_width": null,
            "object_fit": null,
            "object_position": null,
            "order": null,
            "overflow": null,
            "overflow_x": null,
            "overflow_y": null,
            "padding": null,
            "right": null,
            "top": null,
            "visibility": null,
            "width": null
          }
        }
      }
    }
  },
  "cells": [
    {
      "cell_type": "code",
      "metadata": {
        "colab": {
          "base_uri": "https://localhost:8080/"
        },
        "id": "L1F_1VDX9kN0",
        "outputId": "16a6dae9-3ad4-4eaf-fd38-a9e3c67cffb1"
      },
      "source": [
        "import os\n",
        "\n",
        "from google.colab import drive\n",
        "drive.mount('drive')\n",
        "\n",
        "!mkdir -p drive -v\n",
        "#!google-drive-ocamlfuse drive\n",
        "\n",
        "cwd = os.getcwd()\n",
        "\n",
        "#### Changez le chemin ci-dessous vers votre repertoire dans votre googledrive\n",
        "##############################################################################\n",
        "\n",
        "monchemin = 'drive/My Drive/Colab Notebooks/TAL'\n",
        "\n",
        "dir_path  = os.path.join(cwd, monchemin)\n",
        "dirs = os.listdir(dir_path)\n",
        "os.chdir(dir_path)"
      ],
      "execution_count": 2,
      "outputs": [
        {
          "output_type": "stream",
          "text": [
            "Mounted at drive\n"
          ],
          "name": "stdout"
        }
      ]
    },
    {
      "cell_type": "markdown",
      "metadata": {
        "id": "JuhnOPZS9xPe"
      },
      "source": [
        "# Recupération des données bibliovid"
      ]
    },
    {
      "cell_type": "code",
      "metadata": {
        "id": "jFm77a2n9xPp"
      },
      "source": [
        "import json"
      ],
      "execution_count": 3,
      "outputs": []
    },
    {
      "cell_type": "code",
      "metadata": {
        "id": "TWL0hM4U9xPs"
      },
      "source": [
        "with open('bibliovid.json') as json_data:\n",
        "    data_dict = json.load(json_data)"
      ],
      "execution_count": 4,
      "outputs": []
    },
    {
      "cell_type": "code",
      "metadata": {
        "colab": {
          "base_uri": "https://localhost:8080/"
        },
        "id": "_4Zl7Jyd9xPt",
        "scrolled": true,
        "outputId": "2c316457-e32e-4b2f-f1fb-2b432e4ef57a"
      },
      "source": [
        "print(\"Nombres d'article:\",len(data_dict))\n",
        "print(\"Avec ces informations pour chacun:\")\n",
        "for i in data_dict:\n",
        "    for cle, val in i.items():\n",
        "        print(cle)\n",
        "    break"
      ],
      "execution_count": null,
      "outputs": [
        {
          "output_type": "stream",
          "text": [
            "Nombres d'article: 682\n",
            "Avec ces informations pour chacun:\n",
            "id\n",
            "slug\n",
            "title\n",
            "has_other_authors\n",
            "impact_factor\n",
            "goals_plain\n",
            "verbose_date\n",
            "authors\n",
            "document_link\n",
            "specialties\n",
            "category\n",
            "journal\n",
            "link\n",
            "results\n",
            "synthesis\n",
            "strength_of_evidence_details\n",
            "goals\n",
            "methods\n",
            "pubmed_id\n",
            "doi\n",
            "abstract\n",
            "topics\n",
            "author_list\n",
            "publication_date\n"
          ],
          "name": "stdout"
        }
      ]
    },
    {
      "cell_type": "code",
      "metadata": {
        "colab": {
          "base_uri": "https://localhost:8080/"
        },
        "id": "6-badmRpvOso",
        "outputId": "8cb86a58-121a-4e98-86d0-4ca055fc8929"
      },
      "source": [
        "print('Un exemple d\\'articles:')\n",
        "print(data_dict[1])"
      ],
      "execution_count": null,
      "outputs": [
        {
          "output_type": "stream",
          "text": [
            "Un exemple d'articles:\n",
            "{'id': 756, 'slug': 'optimal-covid-19-epidemic-control-until-vaccine-deployment', 'title': 'Optimal COVID-19 epidemic control until vaccine deployment', 'has_other_authors': True, 'impact_factor': {'id': 4, 'name': 'Indéterminé', 'posts_count': 96, 'color': 'gray', 'order': 4}, 'goals_plain': 'L\\'objectif de cette étude est de déterminer des stratégies permettant le contrôle d\\'une épidémie limitant au maximum le nombre de morts dûs à cette épidémie, ainsi que le coût associé à cette politique de contrôle. En particulier, l\\'article prend en compte l\\'augmentation de la mortalité associée à une saturation du système de santé. Différentes stratégies \"réalistes\" sont également considérées, comme une politique de contrôle mise à jour à intervalles réguliers, une politique de contrôle constante, ou une alternance entre période de contrôle maximal (type confinement) et minimal.', 'verbose_date': '22.07.2020', 'authors': 'Djidjou-Demasse R', 'document_link': 'https://www.medrxiv.org/content/10.1101/2020.04.02.20049189v3.full.pdf', 'specialties': [{'id': 12, 'name': 'Infectiologie'}], 'category': {'id': 8, 'name': 'Modélisation', 'icon': 'icon-all'}, 'journal': {'id': 85, 'name': 'Pre-prints'}, 'link': 'https://www.medrxiv.org/content/10.1101/2020.04.02.20049189v3.full.pdf', 'results': \"Les auteurs montrent qu'une stratégie d’atténuation de l'épidémie jusqu'à l'obtention d'un vaccin existe, et que de telles stratégies permettent de diminuer grandement le nombre de morts sur cette période. Il est a noter que la stratégie optimale (en tout cas avec les paramètres choisis) semble être de conserver le nombre d'infectés sévères à un niveau très faible (un centième de la capacité des unités de soins intensifs), puis de relâcher le confinement juste avant le déploiement du vaccin. Les auteurs montrent également que ces résultats sont relativement stables. Ainsi, le fait de mettre à jour la stratégie de confinement à intervalles réguliers en fonction des données de la période précédente est suffisant pour obtenir un contrôle efficace du nombre de morts liés à la pandémie.\", 'synthesis': \"Cet article détermine les méthodes de contrôle optimales d'une épidémie sur une période de temps fixée (en attente d'un vaccin). Le but est de contrôler l'épidémie en minimisant le nombre de décès causés, directement et indirectement, par la saturation du système de santé ainsi que le coût associé à la stratégie de contrôle.\", 'strength_of_evidence_details': \"C'est un résultat très intéressant d'optimisation, les auteurs tiennent compte de la saturation du système médical en cas d'épidémie et du nombre de décès qui y sont liés.  Le modèle utilisé par les auteurs est assez complexe, avec un grand nombre de paramètres. Il est à noter qu'ici le temps T auquel le vaccin sera déployé est considéré comme connu, ce qui a un impact non-négligeable sur la solution optimale (le confinement est relâché un certain temps avant T, car les nouveaux contaminés mourront après T. Il aurait été également intéressant d'étudier l'effet du paramètre mesurant le coût relatif du confinement par rapport au nombre de morts.\", 'goals': 'L\\'objectif de cette étude est de déterminer des stratégies permettant le contrôle d\\'une épidémie limitant au maximum le nombre de morts dûs à cette épidémie, ainsi que le coût associé à cette politique de contrôle. En particulier, l\\'article prend en compte l\\'augmentation de la mortalité associée à une saturation du système de santé. Différentes stratégies \"réalistes\" sont également considérées, comme une politique de contrôle mise à jour à intervalles réguliers, une politique de contrôle constante, ou une alternance entre période de contrôle maximal (type confinement) et minimal.', 'methods': \"Les auteurs considèrent un modèle relativement complexe type SEAIR avec différentiation entre forme sévère et modérée. Les individus peuvent être Susceptibles (S) d'être contaminés, puis deviennent Exposés (E) en cas de contamination. Après un temps de latence, ces individus deviennent porteurs Asymptomatiques (A), période pendant laquelle ils sont contaminants, puis Infectés (I) et symptomatiques, et enfin Rétablis (R). Une fraction des individus contaminés développent une forme sévère de la maladie. Si ces individus sont suffisamment peu nombreux pour être tous traités, leur taux de mortalité reste assez bas. En revanche, si celui-ci est trop haut, leur taux de mortalité augmente beaucoup, ainsi que celui de tous les individus malades pour d'autres raisons, dû à la saturation du système de santé. Les auteurs utilisent des méthodes classiques d'équations différentielles et d'optimisation pour déterminer la stratégie de contrôle de l'épidémie (par le taux d'infection) optimale, qui minimise à la fois le nombre total de morts, la durée et l'intensité de la politique de contrôle. Grâce à des méthodes d'analyse numérique, ils peuvent simuler la valeur de ces optima et l'évolution de l'épidémie sous ces stratégies optimales.\", 'topics': ['Modélisation', 'Infectiologie'], 'author_list': [{'id': 702, 'name': 'Djidjou-Demasse R'}], 'publication_date': '2020-07-22'}\n"
          ],
          "name": "stdout"
        }
      ]
    },
    {
      "cell_type": "code",
      "metadata": {
        "colab": {
          "base_uri": "https://localhost:8080/"
        },
        "id": "MSrA9w5rvOso",
        "outputId": "7b3b7ca3-c3a5-4459-adfe-eaa4779f40fe"
      },
      "source": [
        "print('Comment sont représentés les spécialités')\n",
        "print(data_dict[28]['specialties'])"
      ],
      "execution_count": null,
      "outputs": [
        {
          "output_type": "stream",
          "text": [
            "Comment sont représentés les spécialités\n",
            "[{'id': 21, 'name': 'Confinement/Déconfinement'}]\n"
          ],
          "name": "stdout"
        }
      ]
    },
    {
      "cell_type": "code",
      "metadata": {
        "colab": {
          "base_uri": "https://localhost:8080/"
        },
        "id": "4BA71_igvOsp",
        "outputId": "af6f6958-ea97-42dc-9f09-6da5e3715569"
      },
      "source": [
        "print('Un exemple d\\'abstract')\n",
        "print(data_dict[0]['abstract'])"
      ],
      "execution_count": null,
      "outputs": [
        {
          "output_type": "stream",
          "text": [
            "Un exemple d'abstract\n",
            "Obesity is a risk factor for pneumonia and acute respiratory distress syndrome.\n",
            "To determine whether obesity is associated with intubation or death, inflammation, cardiac injury, or fibrinolysis in coronavirus disease 2019 (COVID-19).\n",
            "Retrospective cohort study.\n",
            "A quaternary academic medical center and community hospital in New York City.\n",
            "2466 adults hospitalized with laboratory-confirmed severe acute respiratory syndrome coronavirus 2 infection over a 45-day period with at least 47 days of in-hospital observation.\n",
            "Body mass index (BMI), admission biomarkers of inflammation (C-reactive protein [CRP] level and erythrocyte sedimentation rate [ESR]), cardiac injury (troponin level), and fibrinolysis (D-dimer level). The primary end point was a composite of intubation or death in time-to-event analysis.\n",
            "Over a median hospital length of stay of 7 days (interquartile range, 3 to 14 days), 533 patients (22%) were intubated, 627 (25%) died, and 59 (2%) remained hospitalized. Compared with overweight patients, patients with obesity had higher risk for intubation or death, with the highest risk among those with class 3 obesity (hazard ratio, 1.6 [95% CI, 1.1 to 2.1]). This association was primarily observed among patients younger than 65 years and not in older patients (\n",
            "Body mass index was missing for 28% of patients. The primary analyses were conducted with multiple imputation for missing BMI. Upper bounding factor analysis suggested that the results are robust to possible selection bias.\n",
            "Obesity is associated with increased risk for intubation or death from COVID-19 in adults younger than 65 years, but not in adults aged 65 years or older.\n",
            "National Institutes of Health.\n"
          ],
          "name": "stdout"
        }
      ]
    },
    {
      "cell_type": "code",
      "metadata": {
        "id": "KGXoT-CU9xP1"
      },
      "source": [
        "specialties = {} # dictionnaire id -> specialité\n",
        "nb_per_spe = {}  # nombres d'articles par spécialité"
      ],
      "execution_count": 5,
      "outputs": []
    },
    {
      "cell_type": "code",
      "metadata": {
        "id": "phN4MTQB9xP2"
      },
      "source": [
        "ind_spe = 0\n",
        "for article in data_dict:\n",
        "    for spe in article['specialties']:\n",
        "        if spe['name'] not in specialties.keys():\n",
        "            specialties[spe['name']] = ind_spe\n",
        "            nb_per_spe[spe['name']] = 0\n",
        "            ind_spe += 1\n",
        "        nb_per_spe[spe['name']] += 1"
      ],
      "execution_count": 6,
      "outputs": []
    },
    {
      "cell_type": "code",
      "metadata": {
        "colab": {
          "base_uri": "https://localhost:8080/"
        },
        "id": "T6NOC-v_9xP4",
        "outputId": "e5a26dcb-5094-4644-8563-5a5eda884784"
      },
      "source": [
        "LABELS = list(specialties.keys())\n",
        "LABELS"
      ],
      "execution_count": 7,
      "outputs": [
        {
          "output_type": "execute_result",
          "data": {
            "text/plain": [
              "['Anesthésie-Réanimation',\n",
              " 'Infectiologie',\n",
              " 'Transversale',\n",
              " 'Immunité',\n",
              " 'Virologie',\n",
              " 'Confinement/Déconfinement',\n",
              " 'Pédiatrie',\n",
              " 'Pneumologie',\n",
              " 'Gynécologie Obstétrique',\n",
              " 'Gériatrie',\n",
              " 'Cardiologie et maladies métaboliques',\n",
              " 'Hygiène',\n",
              " 'Hépato-gastro-entérologie',\n",
              " 'Neurologie',\n",
              " 'Radiologie',\n",
              " 'Dermatologie',\n",
              " 'Hématologie',\n",
              " 'Psychiatrie',\n",
              " 'Néphrologie']"
            ]
          },
          "metadata": {
            "tags": []
          },
          "execution_count": 7
        }
      ]
    },
    {
      "cell_type": "code",
      "metadata": {
        "colab": {
          "base_uri": "https://localhost:8080/",
          "height": 729
        },
        "id": "U1CnLhOrvOsq",
        "outputId": "3df0dab1-f30c-4075-9caf-bc48d1ccf679"
      },
      "source": [
        "import matplotlib.pyplot as plt\n",
        "import numpy as np\n",
        "fig = plt.figure(figsize=(15,10))\n",
        "plt.bar(np.arange(19), nb_per_spe.values())\n",
        "plt.title('Nombre d\\'articles par spécialité',size='xx-large')\n",
        "plt.ylabel('Nombre d\\'article',size='x-large')\n",
        "plt.xticks(np.arange(19), nb_per_spe.keys(), rotation='vertical',size='xx-large')\n",
        "plt.tight_layout()\n",
        "fig.savefig('nbre_par_spe.png')\n",
        "plt.show()"
      ],
      "execution_count": 8,
      "outputs": [
        {
          "output_type": "display_data",
          "data": {
            "image/png": "[encoded data removed]",
            "text/plain": [
              "<Figure size 1080x720 with 1 Axes>"
            ]
          },
          "metadata": {
            "tags": [],
            "needs_background": "light"
          }
        }
      ]
    },
    {
      "cell_type": "markdown",
      "metadata": {
        "id": "H4Y0KOvMvOsr"
      },
      "source": [
        "On remarque que certaines spécialités sont très peu représentés (Dermatologie, Gériatrie, Néphrologie), ce qui risque de poser problèmes pour des modèles entrainés depuis 0.\n",
        "\n",
        "Au contraire, nous avons beaucoup d'exemples pour la spécialité \"Transversale\", et ce n'est sûrement pas très pertinent car cette spécialité va finalement en englober plusieurs et cela risque de \"brouiller\" nos classifieurs. On pourrait par exemple mettre la spécialité Transversale si on a déjà prédit 2 spécialité pour l'article."
      ]
    },
    {
      "cell_type": "markdown",
      "metadata": {
        "id": "I6thvQQN9xP8"
      },
      "source": [
        "# Préparation des données"
      ]
    },
    {
      "cell_type": "markdown",
      "metadata": {
        "id": "uDuBli4-vOsr"
      },
      "source": [
        "On va récupérer les données qui nous intéresse."
      ]
    },
    {
      "cell_type": "code",
      "metadata": {
        "id": "avWhnkn3vOsr"
      },
      "source": [
        "import utils\n",
        "texts, Y = utils.get_data(data_dict, get_abstract = False)"
      ],
      "execution_count": 9,
      "outputs": []
    },
    {
      "cell_type": "code",
      "metadata": {
        "colab": {
          "base_uri": "https://localhost:8080/"
        },
        "id": "ZTUpxJr5vOsr",
        "outputId": "98ad39f1-26d5-4174-ad18-410032e581fb"
      },
      "source": [
        "print(\"y shape:\",Y.shape)"
      ],
      "execution_count": 10,
      "outputs": [
        {
          "output_type": "stream",
          "text": [
            "y shape: (682, 19)\n"
          ],
          "name": "stdout"
        }
      ]
    },
    {
      "cell_type": "markdown",
      "metadata": {
        "id": "UPTNT7WLvOss"
      },
      "source": [
        "Sur les 682 articles que l'on a, on en a 207 qui n'ont pas d'abstract directement dans bibliovid, nous les avons donc récupérer de litcovid. On va tenter dans un premier temps de prédire la classe seulement avec le titre afin que toutes les données fassent à peu près la même longueur.\n",
        "\n",
        "Nous allons utiliser les représentations CountVectorizer et TfidVectorizer."
      ]
    },
    {
      "cell_type": "code",
      "metadata": {
        "colab": {
          "base_uri": "https://localhost:8080/"
        },
        "id": "oOqp-h6SvOss",
        "outputId": "0dc9959c-d69c-428a-cfd0-48a2579fe036"
      },
      "source": [
        "from sklearn.feature_extraction.text import CountVectorizer, TfidfVectorizer\n",
        "vect = CountVectorizer(stop_words=\"english\", max_features=2000, min_df=1)  #max_df\n",
        "vect.fit(texts)\n",
        "vect2 = TfidfVectorizer(stop_words=\"english\", max_features=2000, min_df=1)  #max_df\n",
        "vect2.fit(texts)"
      ],
      "execution_count": 11,
      "outputs": [
        {
          "output_type": "execute_result",
          "data": {
            "text/plain": [
              "TfidfVectorizer(analyzer='word', binary=False, decode_error='strict',\n",
              "                dtype=<class 'numpy.float64'>, encoding='utf-8',\n",
              "                input='content', lowercase=True, max_df=1.0, max_features=2000,\n",
              "                min_df=1, ngram_range=(1, 1), norm='l2', preprocessor=None,\n",
              "                smooth_idf=True, stop_words='english', strip_accents=None,\n",
              "                sublinear_tf=False, token_pattern='(?u)\\\\b\\\\w\\\\w+\\\\b',\n",
              "                tokenizer=None, use_idf=True, vocabulary=None)"
            ]
          },
          "metadata": {
            "tags": []
          },
          "execution_count": 11
        }
      ]
    },
    {
      "cell_type": "code",
      "metadata": {
        "colab": {
          "base_uri": "https://localhost:8080/"
        },
        "id": "QvgXW2-4vOst",
        "outputId": "56338ff7-f654-4b23-f545-ccb1e86b0c16"
      },
      "source": [
        "print(\"TfidVectorizer\")\n",
        "print(\"Vocabulary size: {}\".format(len(vect2.vocabulary_)))\n",
        "print(\"Vocabulary content:\\n {}\".format(vect2.vocabulary_))"
      ],
      "execution_count": 12,
      "outputs": [
        {
          "output_type": "stream",
          "text": [
            "TfidVectorizer\n",
            "Vocabulary size: 1792\n",
            "Vocabulary content:\n",
            " {'body': 220, 'mass': 978, 'index': 809, 'risk': 1411, 'intubation': 868, 'death': 420, 'sars': 1429, 'cov': 391, 'infection': 821, 'retrospective': 1399, 'cohort': 307, 'study': 1566, 'optimal': 1120, 'covid': 393, '19': 21, 'epidemic': 559, 'control': 359, 'vaccine': 1725, 'deployment': 439, 'contact': 348, 'rate': 1319, 'equilibrium': 565, 'view': 1750, 'hydroxychloroquine': 744, 'treatment': 1673, 'prophylaxis': 1278, 'non': 1092, 'human': 739, 'primates': 1254, 'infectivity': 824, 'profile': 1266, 'correction': 378, 'mrna': 1039, 'preliminary': 1241, 'report': 1376, 'pathophysiology': 1155, 'transmission': 1665, 'diagnosis': 463, 'coronavirus': 376, 'disease': 483, '2019': 25, 'review': 1404, 'introductions': 866, 'early': 520, 'spread': 1529, 'france': 671, '24': 32, 'january': 888, '23': 31, 'march': 972, '2020': 27, 'opensafely': 1118, 'factors': 623, 'associated': 178, '17': 20, 'million': 1014, 'patients': 1157, 'modelling': 1024, 'designing': 447, 'multi': 1041, 'layered': 912, 'surveillance': 1584, 'approach': 156, 'detect': 448, 'potential': 1221, 'resurgence': 1397, 'estimating': 573, 'overdispersion': 1132, 'using': 1718, 'outbreak': 1127, 'sizes': 1506, 'outside': 1131, 'china': 282, 'expected': 597, 'impact': 789, 'reopening': 1374, 'schools': 1439, 'lockdown': 941, 'île': 1791, 'safely': 1425, 'reopen': 1373, 'colleges': 314, 'universities': 1710, 'experiences': 600, 'taiwan': 1607, 'estimation': 574, 'fatality': 631, 'real': 1328, 'time': 1641, 'antibody': 142, 'screening': 1445, 'blood': 219, 'donors': 502, 'multisystem': 1047, 'inflammatory': 827, 'syndrome': 1600, 'children': 281, 'new': 1084, 'york': 1786, 'state': 1541, 'adolescents': 87, 'convergent': 368, 'responses': 1392, 'convalescent': 366, 'individuals': 815, 'outcomes': 1130, '737': 55, 'treated': 1671, 'azithromycin': 192, 'regimens': 1355, 'marseille': 975, 'analysis': 126, 'differences': 469, 'shedding': 1483, 'duration': 513, 'sputum': 1531, 'nasopharyngeal': 1057, 'swab': 1593, 'specimens': 1526, 'adult': 89, 'inpatients': 842, 'inhalational': 833, 'volatile': 1760, 'based': 195, 'sedation': 1453, 'pneumonia': 1194, 'ards': 160, 'immunity': 776, 'social': 1514, 'distancing': 490, 'sir': 1504, 'model': 1022, 'key': 896, 'questions': 1311, 'exit': 594, 'strategies': 1557, 'dynamics': 516, 'measures': 986, 'driven': 509, 'network': 1075, 'structure': 1564, 'summer': 1571, 'vacation': 1723, 'effects': 528, 'metropolitan': 1008, 'people': 1163, 'going': 692, 'provinces': 1291, 'practical': 1225, 'considerations': 346, 'measuring': 987, 'effective': 526, 'reproductive': 1378, 'number': 1101, 'rt': 1421, 'characterization': 274, 'response': 1391, 'severe': 1479, 'illness': 770, 'determinants': 453, 'severity': 1480, 'cancer': 235, 'household': 737, 'test': 1619, 'sensitivity': 1458, 'secondary': 1449, 'frequency': 673, 'turnaround': 1686, 'dexamethasone': 459, 'clinical': 293, 'presentation': 1244, 'pregnant': 1240, 'women': 1776, 'systematic': 1602, 'meta': 1004, 'posterior': 1216, 'oropharyngeal': 1125, 'saliva': 1427, 'detection': 451, 'national': 1058, 'french': 672, 'survey': 1585, 'symptoms': 1598, 'aged': 99, '70': 52, 'association': 179, 'angiotensin': 134, 'converting': 370, 'enzyme': 554, 'inhibitor': 834, 'receptor': 1333, 'blocker': 216, 'use': 1716, 'mortality': 1035, 'personal': 1173, 'protective': 1287, 'equipment': 566, 'healthcare': 714, 'professionals': 1265, 'wuhan': 1782, 'cross': 402, 'sectional': 1451, 'role': 1414, 'directionality': 479, 'heterogeneity': 721, 'correlations': 382, 'pandemic': 1142, 'balancing': 193, 'policy': 1199, 'intervention': 862, 'icu': 759, 'sustainability': 1591, 'feasibility': 636, 'physiological': 1184, 'prone': 1276, 'positioning': 1210, 'intubated': 867, 'acute': 75, 'respiratory': 1390, 'failure': 626, 'pron': 1275, 'prospective': 1281, 'seroconversion': 1467, 'passengers': 1151, 'quarantined': 1310, 'disembarking': 485, 'cruise': 403, 'ship': 1487, 'case': 246, 'series': 1465, 'tocilizumab': 1645, 'cytokine': 410, 'release': 1366, 'hospitalized': 733, 'survival': 1586, 'genomewide': 685, 'seroprevalence': 1471, 'anti': 140, 'igg': 765, 'antibodies': 141, 'geneva': 683, 'switzerland': 1596, 'serocov': 1468, 'pop': 1207, 'population': 1208, 'age': 98, 'dependent': 438, 'epidemics': 560, 'surgical': 1582, 'complications': 328, 'italy': 885, 'rna': 1413, 'fecal': 638, 'confirmed': 340, 'effect': 525, 'large': 909, 'scale': 1433, 'contagion': 350, 'policies': 1198, 'forecasting': 666, 'local': 937, 'progression': 1271, 'medical': 995, 'emergency': 539, 'calls': 233, 'example': 588, 'paris': 1147, 'area': 161, 'face': 617, 'masks': 977, 'create': 397, 'false': 627, 'sense': 1457, 'security': 1452, 'dilemma': 475, 'characteristics': 273, 'admitted': 86, 'hospital': 729, 'uk': 1691, 'pulmonary': 1301, 'post': 1215, 'mortem': 1036, 'findings': 654, 'cases': 247, 'northern': 1095, 'centre': 262, 'descriptive': 446, 'benefit': 200, 'remdesivir': 1369, 'rhesus': 1406, 'macaques': 960, 'infected': 820, '58': 50, 'pediatric': 1161, 'temporally': 1616, 'efficacy': 529, 'chloroquine': 284, 'derivatives': 443, 'comparative': 322, 'big': 204, 'data': 415, 'world': 1780, 'pharmaceutical': 1178, 'interventions': 863, 'europe': 578, 'mathematical': 982, 'spatiotemporal': 1522, 'spreading': 1530, 'covid19': 394, 'monitoring': 1030, 'predicting': 1231, 'deconfinement': 425, 'multiscale': 1046, 'hypertension': 750, 'antihypertensive': 148, 'observational': 1107, 'group': 695, 'testing': 1620, 'strategy': 1558, 'epidemiologic': 561, 'plasma': 1189, 'therapy': 1627, 'improvement': 798, 'life': 925, 'threatening': 1629, 'randomized': 1317, 'trial': 1677, 'myocarditis': 1050, 'emerging': 540, 'following': 664, 'critically': 401, 'ill': 769, 'kawasaki': 891, 'like': 927, 'serodiagnostics': 1469, 'related': 1361, 'narrative': 1055, 'postexposure': 1217, 'deaths': 421, 'demand': 433, 'services': 1474, 'neurologic': 1078, 'manifestations': 971, 'albacovid': 108, 'registry': 1359, 'chemotherapy': 276, 'anticancer': 143, 'treatments': 1674, 'heparin': 718, 'ct': 404, 'chest': 277, '4410': 45, 'physical': 1183, 'eye': 614, 'protection': 1286, 'prevent': 1249, 'person': 1172, 'anosmia': 138, 'dysgeusia': 519, 'matched': 980, 'novel': 1097, 'ethnic': 577, 'socioeconomic': 1518, 'biobank': 206, 'undergoing': 1699, 'surgery': 1581, 'perioperative': 1169, 'international': 856, 'ccc19': 256, 'course': 389, '1000': 4, 'seir': 1454, 'living': 935, 'features': 637, '20': 24, '133': 14, 'isaric': 878, 'characterisation': 271, 'protocol': 1289, 'containment': 354, 'routine': 1418, 'venous': 1741, 'thromboembolism': 1634, 'inadequate': 801, 'hypercoagulable': 748, '10': 3, 'days': 418, 'hospitalization': 731, 'black': 214, 'white': 1772, 'chilblain': 279, 'acral': 70, 'skin': 1508, 'lesions': 919, 'really': 1329, 'indicative': 812, 'literature': 933, 'assessment': 176, 'receiving': 1332, 'thromboprophylaxis': 1636, 'incidence': 802, 'dimer': 476, 'predictive': 1234, 'stochasticity': 1552, 'correlation': 381, 'immune': 775, 'self': 1455, 'reported': 1377, 'depression': 440, 'convalescence': 365, 'scope': 1442, 'quality': 1306, 'inclusivity': 803, 'guidelines': 700, 'produced': 1263, 'rapid': 1318, 'isolate': 880, 'theoretical': 1623, 'framework': 670, 'tracing': 1657, 'interpretable': 858, 'prediction': 1232, 'rheumatic': 1407, 'brescia': 227, 'lombardy': 942, 'admission': 84, 'critical': 400, '5279': 47, 'city': 287, 'california': 232, 'washington': 1766, 'individual': 814, 'variation': 1733, 'susceptibility': 1587, 'exposure': 607, 'lowers': 952, 'herd': 720, 'threshold': 1630, 'susceptible': 1588, 'supply': 1575, 'limits': 930, 'climate': 291, 'quarantine': 1309, 'versus': 1747, 'active': 73, 'contacts': 349, 'mitigation': 1019, 'lifestyle': 926, 'mechanisms': 991, 'community': 320, '387': 40, '109': 7, 'adults': 90, 'biases': 203, 'remedies': 1370, 'reduce': 1344, 'mixing': 1020, 'reveals': 1402, 'influence': 828, 'safety': 1426, 'tolerability': 1646, 'immunogenicity': 780, 'recombinant': 1337, 'adenovirus': 80, 'type': 1688, 'vectored': 1739, 'dose': 503, 'escalation': 569, 'open': 1117, 'label': 904, 'randomised': 1316, 'macrolide': 961, 'multinational': 1044, 'internet': 857, 'search': 1446, 'investigate': 872, 'symptom': 1597, 'epidemiology': 563, 'solid': 1519, 'organ': 1124, 'transplant': 1666, 'recipients': 1334, 'initial': 837, 'epicenter': 557, 'neuroimaging': 1077, 'signal': 1495, 'thromboembolic': 1633, 'strong': 1562, 'prognostic': 1270, 'marker': 973, 'poor': 1206, 'patient': 1156, 'outcome': 1129, 'heart': 715, 'mis': 1015, 'context': 357, 'global': 688, 'arterial': 165, 'thrombosis': 1637, 'fatal': 630, 'results': 1396, 'single': 1503, 'center': 259, 'clinicopathologic': 296, 'artificial': 169, 'intelligence': 848, 'enabled': 545, 'corticosteroids': 384, 'tnf': 1644, 'antagonists': 139, 'adverse': 92, 'bowel': 223, 'diseases': 484, 'arrhythmic': 163, 'hour': 736, 'qt': 1304, 'interval': 861, 'variability': 1731, 'poisoning': 1197, 'comprehensive': 329, 'experimental': 601, 'toxicology': 1654, 'diazepam': 467, 'neurological': 1079, 'neuro': 1076, 'invasive': 870, 'modeling': 1023, 'influenza': 830, 'vaccination': 1724, 'public': 1297, 'health': 713, 'limited': 929, 'capability': 239, 'posttraumatic': 1220, 'stress': 1559, 'care': 245, 'workers': 1778, 'corona': 374, 'virus': 1753, 'reduction': 1347, 'hospitalizations': 732, 'myocardial': 1049, 'infarction': 819, 'era': 567, 'oxford': 1135, 'royal': 1420, 'college': 313, 'general': 680, 'practitioners': 1228, 'research': 1382, 'primary': 1253, 'experience': 598, 'infections': 822, 'swiss': 1595, 'nonintubated': 1093, 'hypoxemic': 755, 'tracking': 1658, 'predict': 1230, 'fibrinolysis': 646, 'shutdown': 1492, 'correlates': 380, 'events': 583, 'management': 968, 'kidney': 897, 'injury': 839, 'excess': 589, 'year': 1784, 'according': 64, 'underlying': 1700, 'conditions': 338, 'negative': 1066, 'reverse': 1403, 'transcriptase': 1661, 'polymerase': 1201, 'chain': 267, 'reaction': 1323, 'tests': 1621, 'low': 950, 'domestic': 499, 'cats': 249, 'incubation': 807, 'period': 1167, 'publicly': 1298, 'application': 155, 'italian': 884, 'epicentre': 558, 'development': 458, 'validation': 1729, 'score': 1443, 'occurrence': 1110, 'young': 1787, 'dc': 419, 'region': 1356, 'immunodeficiency': 778, '33': 38, 'prognosis': 1269, 'gastrointestinal': 678, 'liver': 934, 'involvement': 874, 'triple': 1680, 'combination': 315, 'interferon': 853, 'beta': 201, '1b': 22, 'lopinavir': 948, 'ritonavir': 1412, 'ribavirin': 1410, 'phase': 1181, 'canadian': 234, 'intensive': 849, 'units': 1708, 'longitudinal': 946, 'hematologic': 717, 'immunologic': 783, 'variations': 1734, 'abdominal': 59, 'imaging': 774, 'observations': 1108, 'hyperinflammatory': 749, 'shock': 1488, 'significance': 1497, 'prevalence': 1248, 'loss': 949, 'smell': 1511, 'taste': 1611, 'viral': 1751, 'asymptomatic': 181, 'perinatal': 1166, 'depressive': 441, 'anxiety': 153, 'prolongation': 1273, 'torsades': 1651, 'pointes': 1195, 'sudden': 1570, 'short': 1489, 'courses': 390, 'used': 1717, 'studies': 1565, 'current': 407, 'smoking': 1512, 'nicotine': 1088, 'therapeutic': 1624, 'option': 1122, 'possible': 1214, 'airborne': 105, 'diffusion': 472, 'air': 104, 'particulate': 1148, 'matter': 983, 'pm': 1193, 'comparison': 325, 'male': 966, 'female': 640, 'reason': 1330, 'different': 470, 'sex': 1481, 'mild': 1011, 'moderate': 1026, 'value': 1730, 'leukocytosis': 921, 'lymphopenia': 959, 'pregnancies': 1238, 'anticoagulation': 146, 'cardiac': 242, 'drug': 510, 'reactions': 1324, 'pharmacovigilance': 1180, 'centers': 260, 'pcr': 1160, 'london': 943, 'concurrent': 336, 'haematological': 702, 'malignancies': 967, 'hepatic': 719, 'implications': 793, 'physiology': 1185, 'chronic': 286, 'evaluation': 582, 'ii': 767, 'predictor': 1235, 'corticosteroid': 383, 'persons': 1175, 'mers': 1002, 'reduced': 1345, 'unit': 1706, 'admissions': 85, 'autopsy': 188, 'shield': 1486, 'androgen': 128, 'deprivation': 442, 'therapies': 1626, 'prostate': 1283, '4532': 46, 'lupus': 956, 'anticoagulant': 144, 'abnormal': 60, 'coagulation': 304, 'recognizing': 1336, 'proposed': 1279, 'guideline': 699, 'prevention': 1251, 'psychological': 1296, 'outbreaks': 1128, 'olfactory': 1113, 'gustatory': 701, 'dysfunction': 517, 'formalin': 667, 'fixed': 657, 'paraffin': 1145, 'embedded': 537, 'tissue': 1643, 'resection': 1383, 'tongue': 1648, 'squamous': 1532, 'cell': 257, 'carcinoma': 241, 'inhibitors': 835, 'blockers': 217, 'positive': 1211, 'high': 722, 'multicenter': 1042, 'scales': 1434, 'cutaneous': 409, 'mainly': 964, 'controlled': 360, 'deep': 429, 'learning': 915, 'fusion': 676, 'multicentre': 1043, 'contain': 352, 'evidence': 584, 'markers': 974, 'eosinopenia': 555, 'elevated': 535, 'reactive': 1326, 'protein': 1288, 'facilitate': 618, 'triage': 1676, 'fever': 644, 'clinic': 292, 'neonatal': 1067, 'late': 910, 'onset': 1115, 'mitigating': 1018, 'digital': 474, 'package': 1139, 'concomitant': 335, 'systemic': 1604, 'presenting': 1245, 'ophthalmoparesis': 1119, 'cranial': 395, 'nerve': 1071, 'palsy': 1141, 'socio': 1517, 'demographic': 434, 'problems': 1260, 'chinese': 283, 'evaluating': 581, 'serological': 1470, 'status': 1545, 'indirect': 813, 'immunofluorescent': 779, 'assay': 171, 'pre': 1229, 'existing': 593, 'united': 1707, 'states': 1543, 'epidemiological': 562, '420': 44, 'european': 579, 'transfusion': 1662, '107': 6, 'discharged': 481, 'hospitals': 734, 'renin': 1372, 'aldosterone': 110, 'cerebrospinal': 264, 'fluid': 659, 'stroke': 1561, 'departments': 437, 'second': 1448, 'trimester': 1679, 'miscarriage': 1016, 'woman': 1775, 'hypolipidemia': 752, 'confirmation': 339, 'cumulative': 406, 'thrombotic': 1638, 'updated': 1712, 'periods': 1168, 'decreased': 427, 'cardiovascular': 244, 'renal': 1371, 'fatty': 632, 'acid': 68, 'binding': 205, 'diabetes': 460, 'load': 936, 'serum': 1472, 'biomakers': 210, 'appear': 154, 'vulnerable': 1762, 'objective': 1105, 'ageusia': 102, '72': 53, 'specific': 1523, '168': 19, 'elevations': 536, 'biomarkers': 212, 'correlate': 379, 'changes': 270, 'patterns': 1158, 'shape': 1482, 'pooling': 1205, 'samples': 1428, 'fdg': 635, 'pet': 1177, 'highly': 724, 'suspicious': 1590, 'long': 944, 'term': 1617, 'coexistence': 306, 'burden': 230, 'exposed': 606, 'factor': 622, 'containing': 353, 'maternal': 981, 'interleukin': 855, 'limb': 928, 'ischemia': 879, 'understanding': 1701, 'axis': 191, '015': 1, 'hubei': 738, 'province': 1290, 'rads': 1315, 'categorical': 248, 'scheme': 1437, 'suspected': 1589, 'definition': 430, '391': 41, '1286': 13, 'close': 297, 'shenzhen': 1485, 'psychiatric': 1295, 'service': 1473, 'immunopsychiatry': 786, 'positivity': 1212, 'vascular': 1735, 'neutralizing': 1082, 'recovered': 1341, 'residents': 1384, 'homeless': 727, 'shelter': 1484, 'boston': 222, 'vaginal': 1728, 'delivery': 432, 'shortage': 1490, 'comparing': 324, 'scientific': 1440, 'methods': 1007, 'respirator': 1388, 'reuse': 1401, 'overseas': 1133, 'department': 436, 'mayotte': 984, 'modified': 1027, 'deterministic': 456, 'stochastic': 1551, 'temperature': 1614, 'humidity': 741, 'daily': 412, '166': 18, 'countries': 386, 'mortal': 1034, 'inpatient': 841, 'coagulopathy': 305, 'caucasian': 250, 'aerodynamic': 93, 'serial': 1464, 'ocular': 1111, 'tropism': 1681, 'umifenovir': 1695, 'improved': 797, 'aerosol': 94, 'filtration': 653, 'efficiency': 530, 'common': 319, 'fabrics': 616, 'cloth': 300, 'does': 496, 'invade': 869, 'brain': 224, 'translational': 1663, 'lessons': 920, 'animal': 135, 'models': 1025, 'month': 1032, 'integrated': 846, 'fibrinolytic': 647, 'abnormalities': 61, 'distress': 493, 'versatility': 1746, 'thrombolytic': 1635, 'drugs': 511, 'treat': 1670, 'african': 97, 'controls': 362, 'south': 1520, 'africa': 96, 'egypt': 532, 'algeria': 111, 'nigeria': 1090, 'senegal': 1456, 'kenyascien': 892, 'eculizumab': 524, 'asl': 170, 'napoli': 1054, 'nord': 1094, 'procalcitonin': 1262, 'infant': 817, 'direct': 478, 'oral': 1123, 'levels': 922, 'striking': 1560, 'increase': 805, 'antiviral': 151, 'agents': 100, 'cremona': 398, 'online': 1114, 'information': 831, 'isolation': 881, 'intention': 851, 'presymptomatic': 1247, 'skilled': 1507, 'nursing': 1103, 'facility': 621, 'imported': 795, 'embolism': 538, 'angiography': 133, 'relationship': 1363, 'exogenous': 595, 'estrogen': 575, 'decontamination': 426, 'steam': 1547, 'mask': 976, 'fighting': 650, 'supports': 1578, 'med': 992, 'characteristic': 272, 'distinguishing': 492, 'vs': 1761, 'doses': 504, 'diphosphate': 477, 'adjunctive': 81, 'unexpected': 1704, 'pressure': 1246, 'septic': 1461, 'neutralization': 1081, 'spike': 1528, 'pseudotyped': 1293, 'ace2': 67, 'ig': 764, 'entry': 552, 'expressed': 608, 'nasal': 1056, 'epithelial': 564, 'cells': 258, 'innate': 840, 'genes': 682, 'assays': 172, 'associations': 180, 'netherlands': 1074, 'wide': 1773, 'wearing': 1769, 'auxiliary': 189, 'diagnostic': 464, 'extracorporeal': 610, 'membrane': 998, 'oxygenation': 1137, 'compromise': 330, '32': 37, 'disorders': 487, 'pilot': 1186, '116': 10, 'anticoagulated': 145, 'sévère': 1606, 'parameters': 1146, 'assess': 173, 'comorbidities': 321, '5700': 49, 'description': 445, 'specificity': 1524, 'analyses': 125, 'ambient': 119, 'size': 1505, 'iran': 877, 'cluster': 302, 'closed': 298, '121': 12, 'usage': 1715, 'veterans': 1749, 'connecting': 343, 'clusters': 303, 'investigation': 873, 'cause': 251, 'ketosis': 895, 'ketoacidosis': 894, 'hypercoagulability': 747, 'guidance': 698, 'antivirals': 152, 'staffs': 1537, 'adjustment': 83, 'compared': 323, 'curtail': 408, 'performance': 1165, 'clinically': 294, 'nicotinic': 1089, 'hypothesis': 754, 'preventive': 1252, 'peripheral': 1170, 'lymphocyte': 958, 'subsets': 1567, 'cytokines': 411, 'candidate': 236, 'middle': 1010, 'east': 521, 'uncontrolled': 1698, 'zhejiang': 1789, 'cerebrovascular': 265, 'increased': 806, 'pooled': 1204, 'published': 1299, 'scoring': 1444, 'systems': 1605, 'pregnancy': 1239, 'arbidol': 158, 'combined': 316, 'lpv': 953, 'antithrombotic': 150, 'follow': 662, 'vaccinia': 1727, 'ankara': 137, 'vector': 1738, 'sepsis': 1460, 'hypotheses': 753, 'dynamic': 515, 'arteriosclerosis': 166, 'obliterans': 1106, 'lower': 951, 'extremities': 611, 'older': 1112, 'geriatric': 687, 'stay': 1546, 'dedicated': 428, 'length': 917, 'exploratory': 603, 'manifestation': 970, 'successful': 1569, 'induced': 816, 'refractory': 1352, 'cardiogenic': 243, 'plus': 1192, 'vasoplegic': 1737, 'pvad': 1303, 'ecmo': 522, 'miller': 1013, 'fisher': 655, 'polyneuritis': 1202, 'cranialis': 396, 'signals': 1496, 'profiles': 1267, 'swabs': 1594, '353': 39, 'received': 1331, 'simultaneously': 1501, 'wards': 1764, 'hygiene': 745, 'secretions': 1450, 'prolonged': 1274, 'untreated': 1711, 'wastewater': 1767, 'australia': 185, 'proof': 1277, 'concept': 332, 'mainland': 963, 'suppressed': 1579, 'mediated': 994, 'laboratory': 907, '2510': 33, 'temporal': 1615, 'lung': 954, 'tool': 1649, 'nomogram': 1091, 'guangdong': 696, 'decline': 424, 'coronary': 375, 'austria': 186, 'causes': 253, 'collateral': 311, 'damage': 413, 'relative': 1365, 'count': 385, 'flow': 658, 'cannula': 238, 'good': 693, 'mental': 1000, 'sequential': 1463, 'neonate': 1068, 'mother': 1037, 'relationships': 1364, 'inflammation': 825, 'ile': 768, 'nationwide': 1059, 'worsening': 1781, 'glycosylated': 691, 'haemoglobin': 705, 'simulation': 1500, 'multivariate': 1048, 'regression': 1360, 'central': 261, 'nervous': 1072, 'exchange': 590, 'followed': 663, 'intravenous': 864, 'immunogloblin': 781, 'media': 993, 'amiodarone': 122, '062': 2, 'copd': 371, 'history': 725, 'nt': 1100, 'probnp': 1261, 'preventing': 1250, 'infectious': 823, 'contaminated': 355, 'fluids': 660, 'staff': 1536, 'imperfect': 791, 'storm': 1555, 'durable': 512, 'lvad': 957, 'support': 1576, 'icelandic': 758, 'keratoconjunctivitis': 893, 'estimates': 572, 'numbers': 1102, 'optimizing': 1121, 'dosing': 505, 'integrative': 847, 'repurposing': 1379, 'biochemical': 207, 'biomarker': 211, 'airway': 106, 'consensus': 345, 'society': 1516, 'anesthesia': 129, 'difficult': 471, 'collaborative': 310, 'neonates': 1069, 'born': 221, 'mothers': 1038, 'digestive': 473, 'anal': 124, 'inactivation': 800, 'recommended': 1340, 'hand': 707, 'rub': 1422, 'formulations': 669, 'alcohols': 109, 'hypertensive': 751, 'controversies': 364, 'pathogenesis': 1153, 'neuropsychiatric': 1080, 'faers': 625, 'database': 416, 'classification': 289, 'fetuses': 643, 'immunological': 784, 'available': 190, 'commercial': 317, 'measure': 985, 'antigen': 147, 'pollution': 1200, 'glucocorticoids': 690, 'familial': 628, 'protecting': 1285, 'labor': 906, 'personnel': 1174, 'stage': 1538, 'controlling': 361, 'rolling': 1415, '120': 11, 'consecutive': 344, 'workforce': 1779, 'environmental': 553, 'oxygen': 1136, 'requirement': 1380, 'routinely': 1419, 'collected': 312, 'emulate': 543, 'target': 1608, 'vitro': 1757, 'activity': 74, 'doxycycline': 507, 'neutrophil': 1083, 'ratio': 1320, 'independent': 808, 'immunochromatographic': 777, 'tracheostomy': 1656, 'monotherapy': 1031, 'superior': 1572, 'treating': 1672, 'statins': 1544, 'estimated': 571, 'total': 1652, 'projected': 1272, 'plausibility': 1191, 'rho': 1409, 'kinase': 898, 'demonstrating': 435, 'youngsters': 1788, '16': 17, 'years': 1785, 'scenarios': 1436, 'lock': 940, 'assessing': 175, 'uncertainty': 1697, 'predictions': 1233, 'exploring': 604, 'thrombocytopenia': 1632, 'unanswered': 1696, 'disinfection': 486, 'n95': 1051, 'respirators': 1389, 'ionized': 876, 'hydrogen': 743, 'peroxide': 1171, 'xpert': 1783, 'ai': 103, 'powered': 1223, 'radiography': 1313, 'images': 773, 'alps': 117, 'tract': 1659, 'toronto': 1650, 'ontario': 1116, '1061': 5, 'predictors': 1236, 'caused': 252, 'hospitalised': 730, 'immunotherapy': 788, 'members': 997, 'assisted': 177, 'seattle': 1447, 'seven': 1478, 'primer': 1255, 'probe': 1259, 'sets': 1475, 'kit': 901, 'compassionate': 326, 'replication': 1375, 'activation': 72, 'lungs': 955, 'ex': 585, 'vivo': 1759, 'throat': 1631, 'washings': 1765, 'timing': 1642, 'initiation': 838, 'obesity': 1104, 'requiring': 1381, 'mechanical': 988, 'ventilation': 1743, 'trials': 1678, 'tumour': 1684, 'necrosis': 1062, 'urgently': 1713, 'needed': 1064, 'family': 629, 'diagnosed': 462, '14': 15, 'day': 417, 'ferrets': 642, 'dogs': 497, 'domesticated': 500, 'animals': 136, 'wave': 1768, 'transmissibility': 1664, 'scenario': 1435, 'planning': 1188, 'illnesses': 771, 'synchronous': 1599, 'vaso': 1736, 'occlusive': 1109, 'crisis': 399, 'sickle': 1494, 'antiphospholipid': 149, 'madrid': 962, 'spain': 1521, 'resource': 1386, 'allocation': 115, 'resuscitation': 1398, 'postresuscitation': 1219, 'infants': 818, 'practice': 1227, 'method': 1006, 'bedside': 198, 'postpyloric': 1218, 'tube': 1683, 'placement': 1187, 'interactions': 852, 'qtc': 1305, 'atazanavir': 182, 'inhibits': 836, 'pro': 1258, 'production': 1264, 'locally': 938, 'informed': 832, 'capacity': 240, 'needs': 1065, 'challenges': 269, 'recommendations': 1339, 'detected': 450, 'thoracic': 1628, 'significant': 1498, 'accurate': 65, 'exacerbation': 586, 'psoriasis': 1294, 'oseltamivir': 1126, 'immunoglobulin': 782, 'deteriorating': 452, 'contagiousness': 351, 'dysfunctions': 518, 'forms': 668, 'nosocomial': 1096, 'ward': 1763, 'setting': 1476, 'hong': 728, 'kong': 903, 'effectiveness': 527, 'transplantation': 1667, 'mesenchymal': 1003, 'stem': 1548, 'improves': 799, 'surrounding': 1583, 'regions': 1358, 'vitamin': 1756, 'supplementation': 1574, 'generalized': 681, 'pustular': 1302, 'figurate': 652, 'erythema': 568, 'newly': 1087, 'delineated': 431, 'linked': 931, 'focus': 661, 'congenital': 341, 'troponin': 1682, 'ally': 116, 'fight': 649, 'harmful': 709, 'discontinuing': 482, 'ace': 66, 'arbs': 159, 'school': 1438, 'closures': 299, 'net': 1073, 'variance': 1732, 'referred': 1350, 'structural': 1563, 'acc': 63, 'scai': 1432, 'statement': 1542, 'fibrosis': 648, 'baseline': 196, '1591': 16, 'icus': 760, 'causing': 254, 'difference': 468, 'cov2': 392, 'ncov': 1061, 'home': 726, 'interim': 854, 'puerperium': 1300, 'figo': 651, 'allied': 113, 'partners': 1149, 'blockchain': 215, 'technology': 1612, 'favipiravir': 633, 'pharmacokinetics': 1179, 'concerns': 334, 'paediatric': 1140, 'provisional': 1292, 'ibd': 756, 'porto': 1209, 'espghan': 570, 'exhaled': 592, 'breath': 226, 'donations': 501, 'fda': 634, 'approved': 157, 'ivermectin': 886, 'meteorological': 1005, 'meningitis': 999, 'encephalitis': 547, 'barrier': 194, 'enclosure': 548, 'endotracheal': 551, '85': 57, 'breastfeeding': 225, 'ad': 76, 'indications': 811, 'neonatology': 1070, 'endorsed': 550, 'union': 1705, 'societies': 1515, 'siltuximab': 1499, 'ventilatory': 1745, 'surface': 1580, 'contamination': 356, 'rooms': 1417, 'molecular': 1028, 'weight': 1771, 'relieving': 1368, 'exported': 605, 'country': 387, 'impairment': 790, '115': 9, 'elderly': 534, 'week': 1770, 'detectable': 449, 'genome': 684, 'ultrasound': 1693, 'identification': 761, 'grading': 694, 'conditioning': 337, 'restaurant': 1393, 'guangzhou': 697, 'coronaviruses': 377, 'utilities': 1719, 'instant': 845, 'chongqing': 285, '273': 35, 'expression': 609, 'indicates': 810, 'mechanism': 990, 'headaches': 712, 'frontline': 674, 'happe': 708, 'vivadiagtm': 1758, 'igm': 766, 'referring': 1351, 'room': 1416, 'result': 1395, 'stability': 1534, 'issues': 883, 'contributes': 358, 'alleviate': 112, 'improve': 796, 'absence': 62, 'ppe': 1224, 'tilorone': 1640, 'broad': 228, 'spectrum': 1527, 'invented': 871, 'usa': 1714, 'commercialized': 318, 'russia': 1423, 'mobility': 1021, 'mitigate': 1017, 'singapore': 1502, 'coincidence': 309, 'universal': 1709, 'bcg': 197, 'morbidity': 1033, 'expanded': 596, 'umbilical': 1694, 'cord': 372, 'uc': 1690, 'mscs': 1040, 'managing': 969, 'king': 900, 'county': 388, 'step': 1549, 'loop': 947, 'isothermal': 882, 'amplification': 123, 'lamp': 908, 'potentially': 1222, 'reliable': 1367, 'throughput': 1639, 'distribution': 494, 'radiographic': 1312, 'quantifying': 1307, 'gautret': 679, 'et': 576, 'al': 107, 'resolution': 1385, 'computed': 331, 'tomography': 1647, 'ages': 101, 'uv': 1722, 'sterilization': 1550, 'idle': 763, 'biosafety': 213, 'cabinets': 231, 'diagnostics': 465, 'therapeutics': 1625, 'controversial': 363, 'article': 168, 'possibility': 1213, 'faecal': 624, 'genomic': 686, 'phylogenetic': 1182, '68': 51, 'assessed': 174, 'regional': 1357, '54': 48, 'immunologists': 785, '113': 8, 'deceased': 422, 'training': 1660, 'fit': 656, 'reusable': 1400, 'elastomeric': 533, 'half': 706, 'disposable': 488, 'vertical': 1748, 'sras': 1533, 'newborn': 1085, 'microbiological': 1009, '80': 56, 'determined': 455, 'culture': 405, 'discharge': 480, 'turbulent': 1685, 'gas': 677, 'clouds': 301, 'pathogen': 1152, 'emissions': 541, 'reducing': 1346, 'adjusted': 82, 'diamond': 466, 'princess': 1256, 'shows': 1491, 'synergistic': 1601, 'challenge': 268, 'rheumatologists': 1408, 'convert': 369, 'classic': 288, 'lianhuaqingwen': 923, 'exerts': 591, 'th17': 1622, 'jak2': 887, 'fedratinib': 639, 'hcv': 711, 'protease': 1284, 'danoprevir': 414, 'naive': 1052, 'experienced': 599, 'meplazumab': 1001, 'treats': 1675, 'labelled': 905, 'add': 78, 'ambulatory': 120, 'referral': 1349, '31st': 36, '1st': 23, 'snapshot': 1513, 'identifying': 762, 'locations': 939, 'undetected': 1702, 'importation': 794, 'perspective': 1176, 'perform': 1164, 'fibreoptic': 645, 'tracheal': 1655, 'insights': 844, 'nanomedicine': 1053, 'ultrasonography': 1692, 'novelcorona': 1098, '2020epidemic': 28, 'domain': 498, 'rbd': 1322, 'implication': 792, 'attachment': 184, 'kinetics': 899, 'clearance': 290, 'recruitability': 1343, 'milder': 1012, 'better': 202, 'hypercapnic': 746, 'mechanically': 989, 'ventilated': 1742, 'rational': 1321, 'harms': 710, 'exaggerated': 587, 'turned': 1687, 'arouses': 162, 'concern': 333, 'regarding': 1353, 'present': 1243, 'standard': 1539, 'presence': 1242, 'newborns': 1086, 'utilizing': 1721, 'biologics': 209, 'interrupted': 859, 'par': 1143, 'le': 914, 'chez': 278, 'les': 918, 'femmes': 641, 'enceintes': 546, 'état': 1790, 'des': 444, 'connaissances': 342, 'proposition': 1280, 'prise': 1257, 'en': 544, 'charge': 275, 'resources': 1387, 'economic': 523, 'dying': 514, 'relation': 1362, 'toughest': 1653, 'allocating': 114, 'ventilators': 1744, 'emotional': 542, 'profiling': 1268, 'humoral': 742, 'diagnose': 461, 'rhabdomyolysis': 1405, 'complication': 327, 'added': 79, '73': 54, 'art': 164, 'endoribonuclease': 549, 'targets': 1609, 'polyuridine': 1203, 'sequences': 1462, 'evade': 580, 'activating': 71, 'host': 735, 'sensors': 1459, 'terminal': 1618, 'recommendation': 1338, 'joint': 890, 'task': 1610, 'force': 665, 'anesthesiology': 130, 'supporting': 1577, 'clinicians': 295, 'haemodialysis': 704, 'centres': 263, 'expert': 602, 'blocking': 218, 'drive': 508, 'safe': 1424, 'efficient': 531, 'massive': 979, 'withdrawn': 1774, '3c': 42, '3clpro': 43, 'virtual': 1752, 'velpatasvir': 1740, 'ledipasvir': 916, 'candidates': 237, 'slow': 1509, 'exuberant': 613, 'plasmacytosis': 1190, 'bronchoalveolar': 229, 'lavage': 911, 'anesthetists': 132, 'intensivists': 850, 'know': 902, 'amid': 121, 'doubt': 506, 'multiple': 1045, 'introduction': 865, 'overview': 1134, 'stop': 1554, 'biologic': 208, 'natural': 1060, 'small': 1510, 'molecules': 1029, 'lipid': 932, 'reference': 1348, 'seriousness': 1466, 'distinguishes': 491, 'acquired': 69, 'paucisymptomatic': 1159, 'settings': 1477, '21': 29, 'inwashington': 875, 'radiologic': 1314, 'interrupting': 860, 'superspreading': 1573, 'advances': 91, 'prospects': 1282, 'developing': 457, 'vaccines': 1726, 'immunotherapeutics': 787, 'insight': 843, 'pediatricians': 1162, 'corner': 373, 'stable': 1535, 'artery': 167, 'ldl': 913, 'inflammatories': 826, 'travelers': 1669, 'need': 1063, 'longer': 945, 'starts': 1540, 'points': 1196, '260': 34, '000': 0, 'heilongjiang': 716, 'utility': 1720, 'determinations': 454, 'recognition': 1335, 'jiangsu': 889, '919': 58, 'adamantanes': 77, 'ibuprofen': 757, 'say': 1431, 'doctors': 495, 'scientists': 1441, 'lidocaine': 924, 'extubation': 612, 'pathogenic': 1154, 'fulminant': 675, 'saved': 1430, 'glucocorticoid': 689, 'substantial': 1568, 'undocumented': 1703, 'facilitates': 619, 'dissemination': 489, 'predisposition': 1237, 'npis': 1099, '2143': 30, 'adoption': 88, 'income': 804, 'affect': 95, 'eyes': 615, 'humans': 740, 'image': 772, 'visual': 1755, 'quantitative': 1308, 'haematology': 703, 'considercytokine': 347, 'stormsyndromes': 1556, 'andimmunosuppression': 127, 'facilities': 620, 'highest': 723, 'teicoplanin': 1613, 'alternative': 118, 'word': 1777, 'caution': 255, 'si': 1493, 'vis': 1754, 'pacem': 1138, 'para': 1144, 'bellum': 199, 'systematicreview': 1603, 'sustained': 1592, 'regimen': 1354, 'eosinophil': 556, 'readily': 1327, 'convalescentcovid': 367, 'mellitus': 996, 'atincreased': 183, 'cohortstudy': 308, 'reactivation': 1325, 'typesof': 1689, 'influences': 829, 'decision': 423, 'makers': 965, 'authorities': 187, 'anesthetic': 131, 'parturients': 1150, 'cesarean': 266, 'stool': 1553, 'specimen': 1525, 'child': 280, 'travel': 1668, 'restrictions': 1394, '2019novel': 26, 'practicalconsiderations': 1226, 'recovery': 1342}\n"
          ],
          "name": "stdout"
        }
      ]
    },
    {
      "cell_type": "code",
      "metadata": {
        "id": "x9oQyaUovOst"
      },
      "source": [
        "bag_of_words = vect.transform(texts)\n",
        "bag_of_words2 = vect2.transform(texts)"
      ],
      "execution_count": 13,
      "outputs": []
    },
    {
      "cell_type": "markdown",
      "metadata": {
        "id": "6jE3RVMA9xQC"
      },
      "source": [
        "## Séparation test / train"
      ]
    },
    {
      "cell_type": "code",
      "metadata": {
        "id": "olYmptgf9xQD"
      },
      "source": [
        "from sklearn.model_selection import train_test_split\n",
        "\n",
        "X_train, X_test, y_train, y_test = train_test_split(bag_of_words2, Y, test_size=0.2, random_state=42)\n",
        "X_train, X_valid, y_train, y_valid = train_test_split(X_train, y_train, test_size=0.1, random_state=42)"
      ],
      "execution_count": 14,
      "outputs": []
    },
    {
      "cell_type": "code",
      "metadata": {
        "colab": {
          "base_uri": "https://localhost:8080/"
        },
        "id": "1_iZdGlD9xQD",
        "outputId": "15b07257-b264-41d3-b904-68dff21a2ee5"
      },
      "source": [
        "print(X_train.shape, y_train.shape)\n",
        "print(X_valid.shape, y_valid.shape)\n",
        "print(X_test.shape, y_test.shape)"
      ],
      "execution_count": null,
      "outputs": [
        {
          "output_type": "stream",
          "text": [
            "(490, 1792) (490, 19)\n",
            "(55, 1792) (55, 19)\n",
            "(137, 1792) (137, 19)\n"
          ],
          "name": "stdout"
        }
      ]
    },
    {
      "cell_type": "markdown",
      "metadata": {
        "id": "AWsJwQLO-q8T"
      },
      "source": [
        "# Multi-Label Classifiers"
      ]
    },
    {
      "cell_type": "markdown",
      "metadata": {
        "id": "bc0q5D5A-xrU"
      },
      "source": [
        "### Knn\n",
        "On va d'abord tester avec les modèles sk-learn qui nous permettent de traiter les problèmes multi-label. Ci-dessous les modèles sont entrainés seulement avec les titres des articles avec une représentation TFid. Nous avons tester aussi avec les abstract et/ ou la représentation CountVectorizer mais c'était moins bon (voir résultats dans rapport)."
      ]
    },
    {
      "cell_type": "code",
      "metadata": {
        "id": "6xn1otyK9mA6"
      },
      "source": [
        "from sklearn.neighbors import KNeighborsClassifier\n",
        "from sklearn.multiclass import OneVsRestClassifier\n",
        "from sklearn.metrics import multilabel_confusion_matrix"
      ],
      "execution_count": null,
      "outputs": []
    },
    {
      "cell_type": "code",
      "metadata": {
        "colab": {
          "base_uri": "https://localhost:8080/"
        },
        "id": "2Q0uF7l9vOsu",
        "outputId": "3e122e93-f833-45ec-f82b-679215916285"
      },
      "source": [
        "k_range = list(range(1,15))\n",
        "weight_options = [\"uniform\", \"distance\"]\n",
        "\n",
        "param_grid = dict(n_neighbors = k_range, weights = weight_options)\n",
        "knn = KNeighborsClassifier()\n",
        "\n",
        "grid = GridSearchCV(knn, param_grid, cv = 3, scoring = 'f1_micro')\n",
        "grid.fit(X_train,y_train)\n",
        "\n",
        "print (grid.best_score_)\n",
        "print (grid.best_params_)\n",
        "print (grid.best_estimator_)"
      ],
      "execution_count": null,
      "outputs": [
        {
          "output_type": "stream",
          "text": [
            "0.4530529128535257\n",
            "{'n_neighbors': 4, 'weights': 'distance'}\n",
            "KNeighborsClassifier(algorithm='auto', leaf_size=30, metric='minkowski',\n",
            "                     metric_params=None, n_jobs=None, n_neighbors=4, p=2,\n",
            "                     weights='distance')\n"
          ],
          "name": "stdout"
        }
      ]
    },
    {
      "cell_type": "code",
      "metadata": {
        "colab": {
          "base_uri": "https://localhost:8080/"
        },
        "id": "4Cu_51jYvOsv",
        "outputId": "280934de-3b0e-45d6-ed34-e9d81c9e98cc"
      },
      "source": [
        "from sklearn.metrics import f1_score\n",
        "import pandas as pd\n",
        "\n",
        "best_knn = grid.best_estimator_\n",
        "y_pred = best_knn.predict(X_test)\n",
        "score = f1_score(y_test,y_pred , average='micro',zero_division=0)\n",
        "score"
      ],
      "execution_count": null,
      "outputs": [
        {
          "output_type": "execute_result",
          "data": {
            "text/plain": [
              "0.47230320699708456"
            ]
          },
          "metadata": {
            "tags": []
          },
          "execution_count": 129
        }
      ]
    },
    {
      "cell_type": "code",
      "metadata": {
        "colab": {
          "base_uri": "https://localhost:8080/"
        },
        "id": "srxgW3tvSPk-",
        "outputId": "894ed686-4cd1-4660-c4f4-295e8cd962e3"
      },
      "source": [
        "KNN = {'f1-micro':score, 'f1-macro':f1_score(y_test,y_pred , average='macro',zero_division=0),'f1-weighted': f1_score(y_test,y_pred , average='weighted',zero_division=0),'f1-samples':f1_score(y_test,y_pred , average='samples',zero_division=0)}\n",
        "KNN"
      ],
      "execution_count": null,
      "outputs": [
        {
          "output_type": "execute_result",
          "data": {
            "text/plain": [
              "{'f1-macro': 0.3651784324114907,\n",
              " 'f1-micro': 0.47230320699708456,\n",
              " 'f1-samples': 0.4233576642335766,\n",
              " 'f1-weighted': 0.460829595665916}"
            ]
          },
          "metadata": {
            "tags": []
          },
          "execution_count": 130
        }
      ]
    },
    {
      "cell_type": "markdown",
      "metadata": {
        "id": "e0Dv3act9xQG"
      },
      "source": [
        "### Random Forest"
      ]
    },
    {
      "cell_type": "code",
      "metadata": {
        "id": "z-WnLdKL9xQG"
      },
      "source": [
        "from sklearn.ensemble import RandomForestClassifier"
      ],
      "execution_count": null,
      "outputs": []
    },
    {
      "cell_type": "code",
      "metadata": {
        "colab": {
          "base_uri": "https://localhost:8080/"
        },
        "id": "UA3-cp849xQH",
        "outputId": "371fbd27-7541-40c4-a417-e63de296413c"
      },
      "source": [
        "forestClf = RandomForestClassifier()\n",
        "forestClf.fit(X_train,y_train)\n",
        "forestPredictions = forestClf.predict(X_test)\n",
        "print(f1_score(y_test,forestPredictions , average='samples',zero_division=0))"
      ],
      "execution_count": null,
      "outputs": [
        {
          "output_type": "stream",
          "text": [
            "0.3581508515815085\n"
          ],
          "name": "stdout"
        }
      ]
    },
    {
      "cell_type": "code",
      "metadata": {
        "colab": {
          "base_uri": "https://localhost:8080/"
        },
        "id": "PjwjAB0JVYhA",
        "outputId": "37afab34-b623-49ad-9238-d3b13cc030cb"
      },
      "source": [
        "RandomForest= {'f1-micro':score, 'f1-macro':f1_score(y_test,y_pred , average='macro',zero_division=0),'f1-weighted': f1_score(y_test,y_pred , average='weighted',zero_division=0),'f1-samples':f1_score(y_test,y_pred , average='samples',zero_division=0)}\n",
        "RandomForest"
      ],
      "execution_count": null,
      "outputs": [
        {
          "output_type": "execute_result",
          "data": {
            "text/plain": [
              "{'f1-macro': 0.17046623714922368,\n",
              " 'f1-micro': 0.4153284671532846,\n",
              " 'f1-samples': 0.4153284671532846,\n",
              " 'f1-weighted': 0.34355182231069625}"
            ]
          },
          "metadata": {
            "tags": []
          },
          "execution_count": 134
        }
      ]
    },
    {
      "cell_type": "code",
      "metadata": {
        "colab": {
          "base_uri": "https://localhost:8080/",
          "height": 112
        },
        "id": "Pk2mdesOVqMU",
        "outputId": "908679ff-d8ac-428b-ea9d-627edbec4ccb"
      },
      "source": [
        "scores_tfid = pd.DataFrame(index=['KNN', 'Random Forest'], columns=['f1-micro', 'f1-macro','f1-weighted','f1-samples'])\n",
        "scores_tfid.loc['KNN'] = pd.Series(KNN)\n",
        "scores_tfid.loc['Random Forest'] = pd.Series(RandomForest)\n",
        "scores_tfid"
      ],
      "execution_count": null,
      "outputs": [
        {
          "output_type": "execute_result",
          "data": {
            "text/html": [
              "<div>\n",
              "<style scoped>\n",
              "    .dataframe tbody tr th:only-of-type {\n",
              "        vertical-align: middle;\n",
              "    }\n",
              "\n",
              "    .dataframe tbody tr th {\n",
              "        vertical-align: top;\n",
              "    }\n",
              "\n",
              "    .dataframe thead th {\n",
              "        text-align: right;\n",
              "    }\n",
              "</style>\n",
              "<table border=\"1\" class=\"dataframe\">\n",
              "  <thead>\n",
              "    <tr style=\"text-align: right;\">\n",
              "      <th></th>\n",
              "      <th>f1-micro</th>\n",
              "      <th>f1-macro</th>\n",
              "      <th>f1-weighted</th>\n",
              "      <th>f1-samples</th>\n",
              "    </tr>\n",
              "  </thead>\n",
              "  <tbody>\n",
              "    <tr>\n",
              "      <th>KNN</th>\n",
              "      <td>0.472303</td>\n",
              "      <td>0.365178</td>\n",
              "      <td>0.46083</td>\n",
              "      <td>0.423358</td>\n",
              "    </tr>\n",
              "    <tr>\n",
              "      <th>Random Forest</th>\n",
              "      <td>0.415328</td>\n",
              "      <td>0.170466</td>\n",
              "      <td>0.343552</td>\n",
              "      <td>0.415328</td>\n",
              "    </tr>\n",
              "  </tbody>\n",
              "</table>\n",
              "</div>"
            ],
            "text/plain": [
              "               f1-micro  f1-macro f1-weighted f1-samples\n",
              "KNN            0.472303  0.365178     0.46083   0.423358\n",
              "Random Forest  0.415328  0.170466    0.343552   0.415328"
            ]
          },
          "metadata": {
            "tags": []
          },
          "execution_count": 137
        }
      ]
    },
    {
      "cell_type": "markdown",
      "metadata": {
        "id": "VzBXuk-edbs_"
      },
      "source": [
        "#### GridSearch MLP, Random Forest, Knn\n",
        "\n",
        "Quelques tests avec d'autres classifieurs multi-labels."
      ]
    },
    {
      "cell_type": "code",
      "metadata": {
        "id": "BPAID3MEmgkf"
      },
      "source": [
        "pip install scikit-multilearn --upgrade"
      ],
      "execution_count": null,
      "outputs": []
    },
    {
      "cell_type": "code",
      "metadata": {
        "id": "r-onssS_MHtt"
      },
      "source": [
        "import numpy as np\n",
        "import pandas as pd\n",
        "from sklearn.tree import DecisionTreeClassifier\n",
        "from sklearn.neighbors import KNeighborsClassifier\n",
        "from sklearn.ensemble import RandomForestClassifier\n",
        "from sklearn.neural_network import MLPClassifier\n",
        "from skmultilearn.adapt import MLkNN\n",
        "from sklearn.ensemble import BaggingClassifier\n",
        "from sklearn.ensemble import GradientBoostingClassifier\n",
        "from sklearn.multiclass import OneVsRestClassifier\n",
        "from sklearn.naive_bayes import MultinomialNB\n",
        "from sklearn.svm import LinearSVC\n",
        "from sklearn.model_selection import GridSearchCV\n",
        "from sklearn.metrics import f1_score, make_scorer\n",
        "from IPython.display import display"
      ],
      "execution_count": 21,
      "outputs": []
    },
    {
      "cell_type": "code",
      "metadata": {
        "colab": {
          "base_uri": "https://localhost:8080/",
          "height": 405
        },
        "id": "6TCxAfcfL9Ya",
        "outputId": "900370b9-ad53-4641-d413-0f8e711cee2d"
      },
      "source": [
        "#grid\n",
        "names = [\"Arbre de décision\", \"Forêt\", \"Knn\", \"MLP\", \"Bagging\", \"boosting\", \"Lin SVC\"]#, \"MLknn\"]\n",
        "classifiers = [\n",
        "DecisionTreeClassifier(),\n",
        "RandomForestClassifier(),\n",
        "KNeighborsClassifier( metric='minkowski'),\n",
        "MLPClassifier(max_iter=10000),\n",
        "OneVsRestClassifier(BaggingClassifier(n_jobs=-1)),\n",
        "OneVsRestClassifier(GradientBoostingClassifier()),\n",
        "OneVsRestClassifier(LinearSVC(), n_jobs=-1),\n",
        "# MLkNN()\n",
        "]\n",
        "parameters = [{\"criterion\":(\"gini\", \"entropy\")},\n",
        "              {\"criterion\":(\"gini\", \"entropy\"), \"n_estimators\":(100, 150, 200)}, \n",
        "              {\"n_neighbors\":(1, 5), \"p\":(1,2), \"weights\":(\"uniform\", \"distance\")},\n",
        "              {\"alpha\":(0.00001, 0.0001, 0.001)},\n",
        "              {}, \n",
        "              {},\n",
        "              {}\n",
        "          # {\"k\":(1, 10, 20)},\n",
        "          ]\n",
        "#boucle\n",
        "bparam = []\n",
        "bscore_train = []\n",
        "bscore_test = []\n",
        "auc_score = []\n",
        "\n",
        "for name, clf, param in zip(names, classifiers, parameters):\n",
        "    classif = GridSearchCV(clf, param, cv = 3,\n",
        "                       scoring=make_scorer(f1_score, average='micro'))\n",
        "\n",
        "    #score\n",
        "    classif.fit(X_train, y_train)\n",
        "    bparam.append(classif.best_params_)\n",
        "    bscore_train.append(classif.best_score_) \n",
        "    bscore_test.append(classif.score(X_test, y_test)) \n",
        "\n",
        "#dataframe\n",
        "classifier_names = pd.Series(names)\n",
        "best_param = pd.Series(bparam)\n",
        "best_score_train = pd.Series(bscore_train)\n",
        "best_score_test = pd.Series(bscore_test)\n",
        "df = pd.DataFrame({ 'Classifieurs': classifier_names, \n",
        "                 'Meilleur paramètre': best_param, \n",
        "                 'Meilleur score': best_score_train,\n",
        "                 'F1-score (généralisation)': best_score_test,\n",
        "                 })\n",
        "display(df)"
      ],
      "execution_count": null,
      "outputs": [
        {
          "output_type": "stream",
          "text": [
            "/usr/local/lib/python3.6/dist-packages/sklearn/multiclass.py:75: UserWarning: Label not 15 is present in all training examples.\n",
            "  str(classes[c]))\n",
            "/usr/local/lib/python3.6/dist-packages/sklearn/multiclass.py:75: UserWarning: Label not 15 is present in all training examples.\n",
            "  str(classes[c]))\n",
            "/usr/local/lib/python3.6/dist-packages/sklearn/multiclass.py:75: UserWarning: Label not 15 is present in all training examples.\n",
            "  str(classes[c]))\n"
          ],
          "name": "stderr"
        },
        {
          "output_type": "display_data",
          "data": {
            "text/html": [
              "<div>\n",
              "<style scoped>\n",
              "    .dataframe tbody tr th:only-of-type {\n",
              "        vertical-align: middle;\n",
              "    }\n",
              "\n",
              "    .dataframe tbody tr th {\n",
              "        vertical-align: top;\n",
              "    }\n",
              "\n",
              "    .dataframe thead th {\n",
              "        text-align: right;\n",
              "    }\n",
              "</style>\n",
              "<table border=\"1\" class=\"dataframe\">\n",
              "  <thead>\n",
              "    <tr style=\"text-align: right;\">\n",
              "      <th></th>\n",
              "      <th>Classifieurs</th>\n",
              "      <th>Meilleur paramètre</th>\n",
              "      <th>Meilleur score</th>\n",
              "      <th>F1-score (généralisation)</th>\n",
              "    </tr>\n",
              "  </thead>\n",
              "  <tbody>\n",
              "    <tr>\n",
              "      <th>0</th>\n",
              "      <td>Arbre de décision</td>\n",
              "      <td>{'criterion': 'gini'}</td>\n",
              "      <td>0.401894</td>\n",
              "      <td>0.422392</td>\n",
              "    </tr>\n",
              "    <tr>\n",
              "      <th>1</th>\n",
              "      <td>Forêt</td>\n",
              "      <td>{'criterion': 'gini', 'n_estimators': 200}</td>\n",
              "      <td>0.362304</td>\n",
              "      <td>0.391304</td>\n",
              "    </tr>\n",
              "    <tr>\n",
              "      <th>2</th>\n",
              "      <td>Knn</td>\n",
              "      <td>{'n_neighbors': 1, 'p': 2, 'weights': 'uniform'}</td>\n",
              "      <td>0.418332</td>\n",
              "      <td>0.444444</td>\n",
              "    </tr>\n",
              "    <tr>\n",
              "      <th>3</th>\n",
              "      <td>MLP</td>\n",
              "      <td>{'alpha': 0.0001}</td>\n",
              "      <td>0.431186</td>\n",
              "      <td>0.408408</td>\n",
              "    </tr>\n",
              "    <tr>\n",
              "      <th>4</th>\n",
              "      <td>Bagging</td>\n",
              "      <td>{}</td>\n",
              "      <td>0.395103</td>\n",
              "      <td>0.376238</td>\n",
              "    </tr>\n",
              "    <tr>\n",
              "      <th>5</th>\n",
              "      <td>boosting</td>\n",
              "      <td>{}</td>\n",
              "      <td>0.422717</td>\n",
              "      <td>0.357827</td>\n",
              "    </tr>\n",
              "    <tr>\n",
              "      <th>6</th>\n",
              "      <td>MNB</td>\n",
              "      <td>{}</td>\n",
              "      <td>0.172625</td>\n",
              "      <td>0.179592</td>\n",
              "    </tr>\n",
              "    <tr>\n",
              "      <th>7</th>\n",
              "      <td>Lin SVC</td>\n",
              "      <td>{}</td>\n",
              "      <td>0.396065</td>\n",
              "      <td>0.380952</td>\n",
              "    </tr>\n",
              "  </tbody>\n",
              "</table>\n",
              "</div>"
            ],
            "text/plain": [
              "        Classifieurs  ... F1-score (généralisation)\n",
              "0  Arbre de décision  ...                  0.422392\n",
              "1              Forêt  ...                  0.391304\n",
              "2                Knn  ...                  0.444444\n",
              "3                MLP  ...                  0.408408\n",
              "4            Bagging  ...                  0.376238\n",
              "5           boosting  ...                  0.357827\n",
              "6                MNB  ...                  0.179592\n",
              "7            Lin SVC  ...                  0.380952\n",
              "\n",
              "[8 rows x 4 columns]"
            ]
          },
          "metadata": {
            "tags": []
          }
        }
      ]
    },
    {
      "cell_type": "markdown",
      "metadata": {
        "id": "AkAyyfu39xQI"
      },
      "source": [
        "#### Prédictions des classes une par une : stratégie one vs rest\n",
        "\n",
        "On fait une régréssion logistique binaire pour tous les labels pour prédire si oui ou non on aura ce label pour ce texte. (inspiré de https://towardsdatascience.com/journey-to-the-center-of-multi-label-classification-384c40229bff)\n",
        "\n",
        "On suppose donc ici qu'il n'y a pas de corrélation entre les labels."
      ]
    },
    {
      "cell_type": "code",
      "metadata": {
        "id": "_ogZ4byf9xQJ"
      },
      "source": [
        "from sklearn.linear_model import LogisticRegression\n",
        "from sklearn.naive_bayes import MultinomialNB\n",
        "from sklearn.pipeline import Pipeline\n",
        "from sklearn.metrics import accuracy_score\n",
        "from sklearn.multiclass import OneVsRestClassifier\n",
        "\n",
        "LogReg_pipeline = Pipeline([\n",
        "                ('clf', OneVsRestClassifier(LogisticRegression(solver='sag'), n_jobs=-1)),\n",
        "            ])\n"
      ],
      "execution_count": null,
      "outputs": []
    },
    {
      "cell_type": "code",
      "metadata": {
        "id": "Y0Awri8y9xQJ",
        "outputId": "496b4b5b-d669-4442-c81a-ac04de691560"
      },
      "source": [
        "print(\"One Vs Rest avec Regression logistique\")\n",
        "dict_res = {}\n",
        "for label in range(len(LABELS)):\n",
        "    \n",
        "    # ENtrainement avec RL\n",
        "    LogReg_pipeline.fit(X_train, y_train[:,label])\n",
        "\n",
        "    # Accuracy sur les données test\n",
        "    prediction = LogReg_pipeline.predict(X_test)\n",
        "    acc = accuracy_score(y_test[:,label], prediction)\n",
        "    dict_res[LABELS[label][:11]] = {'Accuracy': float(\"{:0.2f}\".format(acc)),'Data train nb': np.shape(np.where(y_train[:,label]==1))[1] ,'Nb of true labeled in test': np.shape(np.where(y_test[:,label]==1))[1] }\n",
        "\n",
        "res_one_vs_rest = pd.DataFrame().from_dict(dict_res, orient='index')\n",
        "res_one_vs_rest"
      ],
      "execution_count": null,
      "outputs": [
        {
          "output_type": "stream",
          "text": [
            "One Vs Rest avec Regression logistique\n"
          ],
          "name": "stdout"
        },
        {
          "output_type": "execute_result",
          "data": {
            "text/html": [
              "<div>\n",
              "<style scoped>\n",
              "    .dataframe tbody tr th:only-of-type {\n",
              "        vertical-align: middle;\n",
              "    }\n",
              "\n",
              "    .dataframe tbody tr th {\n",
              "        vertical-align: top;\n",
              "    }\n",
              "\n",
              "    .dataframe thead th {\n",
              "        text-align: right;\n",
              "    }\n",
              "</style>\n",
              "<table border=\"1\" class=\"dataframe\">\n",
              "  <thead>\n",
              "    <tr style=\"text-align: right;\">\n",
              "      <th></th>\n",
              "      <th>Accuracy</th>\n",
              "      <th>Data train nb</th>\n",
              "      <th>Nb of true labeled in test</th>\n",
              "    </tr>\n",
              "  </thead>\n",
              "  <tbody>\n",
              "    <tr>\n",
              "      <th>Anesthésie-</th>\n",
              "      <td>0.84</td>\n",
              "      <td>65</td>\n",
              "      <td>22</td>\n",
              "    </tr>\n",
              "    <tr>\n",
              "      <th>Infectiolog</th>\n",
              "      <td>0.68</td>\n",
              "      <td>150</td>\n",
              "      <td>43</td>\n",
              "    </tr>\n",
              "    <tr>\n",
              "      <th>Transversal</th>\n",
              "      <td>0.60</td>\n",
              "      <td>208</td>\n",
              "      <td>61</td>\n",
              "    </tr>\n",
              "    <tr>\n",
              "      <th>Immunité</th>\n",
              "      <td>0.96</td>\n",
              "      <td>9</td>\n",
              "      <td>6</td>\n",
              "    </tr>\n",
              "    <tr>\n",
              "      <th>Virologie</th>\n",
              "      <td>0.89</td>\n",
              "      <td>49</td>\n",
              "      <td>15</td>\n",
              "    </tr>\n",
              "    <tr>\n",
              "      <th>Confinement</th>\n",
              "      <td>0.96</td>\n",
              "      <td>11</td>\n",
              "      <td>5</td>\n",
              "    </tr>\n",
              "    <tr>\n",
              "      <th>Pédiatrie</th>\n",
              "      <td>0.91</td>\n",
              "      <td>24</td>\n",
              "      <td>12</td>\n",
              "    </tr>\n",
              "    <tr>\n",
              "      <th>Pneumologie</th>\n",
              "      <td>0.91</td>\n",
              "      <td>41</td>\n",
              "      <td>12</td>\n",
              "    </tr>\n",
              "    <tr>\n",
              "      <th>Gynécologie</th>\n",
              "      <td>0.99</td>\n",
              "      <td>20</td>\n",
              "      <td>2</td>\n",
              "    </tr>\n",
              "    <tr>\n",
              "      <th>Gériatrie</th>\n",
              "      <td>0.99</td>\n",
              "      <td>3</td>\n",
              "      <td>1</td>\n",
              "    </tr>\n",
              "    <tr>\n",
              "      <th>Cardiologie</th>\n",
              "      <td>0.90</td>\n",
              "      <td>46</td>\n",
              "      <td>14</td>\n",
              "    </tr>\n",
              "    <tr>\n",
              "      <th>Hygiène</th>\n",
              "      <td>0.96</td>\n",
              "      <td>33</td>\n",
              "      <td>5</td>\n",
              "    </tr>\n",
              "    <tr>\n",
              "      <th>Hépato-gast</th>\n",
              "      <td>0.98</td>\n",
              "      <td>8</td>\n",
              "      <td>3</td>\n",
              "    </tr>\n",
              "    <tr>\n",
              "      <th>Neurologie</th>\n",
              "      <td>0.97</td>\n",
              "      <td>11</td>\n",
              "      <td>4</td>\n",
              "    </tr>\n",
              "    <tr>\n",
              "      <th>Radiologie</th>\n",
              "      <td>0.97</td>\n",
              "      <td>25</td>\n",
              "      <td>4</td>\n",
              "    </tr>\n",
              "    <tr>\n",
              "      <th>Dermatologi</th>\n",
              "      <td>0.99</td>\n",
              "      <td>1</td>\n",
              "      <td>1</td>\n",
              "    </tr>\n",
              "    <tr>\n",
              "      <th>Hématologie</th>\n",
              "      <td>1.00</td>\n",
              "      <td>6</td>\n",
              "      <td>0</td>\n",
              "    </tr>\n",
              "    <tr>\n",
              "      <th>Psychiatrie</th>\n",
              "      <td>0.98</td>\n",
              "      <td>17</td>\n",
              "      <td>3</td>\n",
              "    </tr>\n",
              "    <tr>\n",
              "      <th>Néphrologie</th>\n",
              "      <td>0.99</td>\n",
              "      <td>3</td>\n",
              "      <td>1</td>\n",
              "    </tr>\n",
              "  </tbody>\n",
              "</table>\n",
              "</div>"
            ],
            "text/plain": [
              "             Accuracy  Data train nb  Nb of true labeled in test\n",
              "Anesthésie-      0.84             65                          22\n",
              "Infectiolog      0.68            150                          43\n",
              "Transversal      0.60            208                          61\n",
              "Immunité         0.96              9                           6\n",
              "Virologie        0.89             49                          15\n",
              "Confinement      0.96             11                           5\n",
              "Pédiatrie        0.91             24                          12\n",
              "Pneumologie      0.91             41                          12\n",
              "Gynécologie      0.99             20                           2\n",
              "Gériatrie        0.99              3                           1\n",
              "Cardiologie      0.90             46                          14\n",
              "Hygiène          0.96             33                           5\n",
              "Hépato-gast      0.98              8                           3\n",
              "Neurologie       0.97             11                           4\n",
              "Radiologie       0.97             25                           4\n",
              "Dermatologi      0.99              1                           1\n",
              "Hématologie      1.00              6                           0\n",
              "Psychiatrie      0.98             17                           3\n",
              "Néphrologie      0.99              3                           1"
            ]
          },
          "metadata": {
            "tags": []
          },
          "execution_count": 52
        }
      ]
    },
    {
      "cell_type": "markdown",
      "metadata": {
        "id": "Sj__2-zyJZOd"
      },
      "source": [
        "Nous obtenons donc 19 classifieurs (1 pour chaque spécialité) expert sur sa spécialité, mais finalement ça ne parait pas pertinent car il y a des spécialités où il y a trop peu de données, le classifieur ne peut pas apprendre grand chose de cette manière. Nous n'irons donc pas plus loin pour cette approche.\n",
        "\n",
        "Nous nous demandons si la spécialité 'Transversale' ne pose pas problème étant donnée que ce n'est pas une spécialité et qu'elle n'aura pas vraiment de mots spécifiques mais plutôt un ensemble de mots d'un peu toute les spécialités et même des mots d'autres discipline.\n",
        "\n",
        "Nous allons donc voir ce qu'il se passe si on enlève cette spécialité.\n",
        "\n",
        "## Petit Test de performance sans la spécialité transversale\n",
        "\n",
        "Il nous faut donc re-transformer les données:"
      ]
    },
    {
      "cell_type": "code",
      "metadata": {
        "colab": {
          "base_uri": "https://localhost:8080/"
        },
        "id": "kyeA-2geJ-rn",
        "outputId": "be081314-23d0-438e-ef7e-1cbc91dd765a"
      },
      "source": [
        "Y_tronque = np.delete(Y, 2, axis=1)\n",
        "LABELS_tronque = np.delete(LABELS, 2)\n",
        "cptr = 0\n",
        "Y_modif = np.array(Y)\n",
        "for i in range(len(Y_modif)):\n",
        "  if Y_modif[i][2] == 1. and np.sum(Y_modif[i]) < 2:\n",
        "    Y_modif[i][2] = 0.\n",
        "    cptr += 1\n",
        "print(cptr, \" exemples modifiés\")"
      ],
      "execution_count": 15,
      "outputs": [
        {
          "output_type": "stream",
          "text": [
            "175  exemples modifiés\n"
          ],
          "name": "stdout"
        }
      ]
    },
    {
      "cell_type": "code",
      "metadata": {
        "colab": {
          "base_uri": "https://localhost:8080/"
        },
        "id": "l6rUO-gyKL9Y",
        "outputId": "b90f5771-1ed6-4c69-9a53-a887975a8731"
      },
      "source": [
        "print(\"y shape sans transversale:\",Y_tronque.shape)\n",
        "print(\"y shape avec transversale modifiée:\",Y_modif.shape)\n",
        "X_train, X_test, y_train_modif, y_test_modif = train_test_split(bag_of_words2, Y_tronque, test_size=0.2, random_state=42)#, stratify=y)\n",
        "X_train, X_valid, y_train_modif, y_valid_modif = train_test_split(X_train, y_train_modif, test_size=0.1, random_state=42)"
      ],
      "execution_count": 17,
      "outputs": [
        {
          "output_type": "stream",
          "text": [
            "y shape sans transversale: (682, 18)\n",
            "y shape avec transversale modifiée: (682, 19)\n"
          ],
          "name": "stdout"
        }
      ]
    },
    {
      "cell_type": "code",
      "metadata": {
        "colab": {
          "base_uri": "https://localhost:8080/"
        },
        "id": "1MVj8gLhK8tF",
        "outputId": "d76cc6f8-84c2-4267-aa62-abe9f38875d0"
      },
      "source": [
        "k_range = list(range(1,15))\n",
        "weight_options = [\"uniform\", \"distance\"]\n",
        "param_grid = dict(n_neighbors = k_range, weights = weight_options)\n",
        "knn = KNeighborsClassifier()\n",
        "grid = GridSearchCV(knn, param_grid, cv = 3, scoring = 'f1_micro')\n",
        "grid.fit(X_train,y_train_modif)\n",
        "best_knn = grid.best_estimator_\n",
        "y_pred = best_knn.predict(X_test)\n",
        "score = f1_score(y_pred,y_test_modif , average='micro',zero_division=0)\n",
        "score"
      ],
      "execution_count": 23,
      "outputs": [
        {
          "output_type": "execute_result",
          "data": {
            "text/plain": [
              "0.40143369175627236"
            ]
          },
          "metadata": {
            "tags": []
          },
          "execution_count": 23
        }
      ]
    },
    {
      "cell_type": "markdown",
      "metadata": {
        "id": "2-9R-w5rM3NE"
      },
      "source": [
        "Nous avions 0.47 en f1-micro pour KNN avec la spécialité Transversale, nous perdons en performances (0.40) en enlevant cette spécialité finalement. (nous avons regardé dans des tests non présentés dans ce notebook les performances avec Random Forest et même les classifieurs binaires et dans tous les cas nous perdons en performances)."
      ]
    },
    {
      "cell_type": "markdown",
      "metadata": {
        "id": "VpOr2Ns7vOsx"
      },
      "source": [
        "## Conclusion\n",
        "\n",
        "Les classifieurs \"classiques\" multilabels ne nous permettent pas d'avoir de bons résultats au vu du manque de certaines données. Nous allons maintenant tester et nous concentrer sur des méthodes deep, comme par exemple le modèle BioBert déjà pré-entrainé sur des données médicales qui permet (il parait), de bons résultats même avec très peu de données."
      ]
    },
    {
      "cell_type": "markdown",
      "metadata": {
        "id": "I8qIeiI2Is3j"
      },
      "source": [
        "# BioBert et RNN\n",
        "## Construction des Data loaders"
      ]
    },
    {
      "cell_type": "code",
      "metadata": {
        "colab": {
          "base_uri": "https://localhost:8080/"
        },
        "id": "8l1D9XEJNeoB",
        "outputId": "59db11f2-d6e6-4e6e-aaf9-81d5b449326c"
      },
      "source": [
        "import numpy as np\n",
        "import keras\n",
        "\n",
        "titre_abstract, spe = [],[] \n",
        "\n",
        "for article in data_dict:\n",
        "    t = article['title'] \n",
        "    if 'abstract' in article.keys():\n",
        "        t += ' '\n",
        "        t += str(article['abstract'])\n",
        "    titre_abstract.append(t[:512])\n",
        "    temp = []\n",
        "    for s in article['specialties']:\n",
        "      temp.append(s['name'])\n",
        "    spe.append(temp)\n",
        "  \n",
        "print(len(titre_abstract))\n",
        "print(len(spe))\n",
        "print(spe[:5])"
      ],
      "execution_count": null,
      "outputs": [
        {
          "output_type": "stream",
          "text": [
            "682\n",
            "682\n",
            "[['Anesthésie-Réanimation', 'Infectiologie'], ['Infectiologie'], ['Infectiologie'], ['Transversale', 'Infectiologie'], ['Infectiologie']]\n"
          ],
          "name": "stdout"
        }
      ]
    },
    {
      "cell_type": "code",
      "metadata": {
        "id": "bX8nMJdWRDI1"
      },
      "source": [
        "from sklearn.feature_extraction.text import TfidfVectorizer\n",
        "\n",
        "from sklearn.model_selection import train_test_split\n",
        "from sklearn.preprocessing import MultiLabelBinarizer\n",
        "\n",
        "mlb = MultiLabelBinarizer()\n",
        "y_bin = mlb.fit_transform(spe)\n",
        "classes = mlb.classes_\n",
        "classes\n",
        "\n",
        "train_texts, test_texts, y_train, y_test, train_labels, test_labels = train_test_split(titre_abstract, spe, y_bin, test_size=0.25, random_state=42)\n",
        "train_texts, valid_texts, y_train, y_valid, train_labels, valid_labels = train_test_split(train_texts, y_train, train_labels, test_size=0.2, random_state=42)"
      ],
      "execution_count": null,
      "outputs": []
    },
    {
      "cell_type": "code",
      "metadata": {
        "colab": {
          "base_uri": "https://localhost:8080/",
          "height": 66,
          "referenced_widgets": [
            "a00d1884c1994ede88ade7e02daa9449",
            "1fb7fcc8dcfc43a4a2104b48775e3941",
            "cf9eace458764c0290daa6ebc750713b",
            "bed983ecd3bc402cad0e5bd1ac860941",
            "7bd1b17751c94d1b9f15b8a48cc3322e",
            "64f5dad4268841e0b2fecd77cd300d7d",
            "2df3458f11b641b492b8efa64a1336c0",
            "957aed5034e6464092aa8fb6c5b6ca8c"
          ]
        },
        "id": "jRkNpOenTxZl",
        "outputId": "34e9455c-2dcc-4ad0-8350-86579426ac76"
      },
      "source": [
        "!pip -q install transformers\n",
        "from transformers import BertTokenizer\n",
        "\n",
        "tokenizer = BertTokenizer.from_pretrained('dmis-lab/biobert-base-cased-v1.1')\n",
        "\n",
        "def bert_text_to_ids(sentence):\n",
        "  return torch.tensor(tokenizer.encode(sentence, add_special_tokens=True))\n"
      ],
      "execution_count": null,
      "outputs": [
        {
          "output_type": "display_data",
          "data": {
            "application/vnd.jupyter.widget-view+json": {
              "model_id": "a00d1884c1994ede88ade7e02daa9449",
              "version_major": 2,
              "version_minor": 0
            },
            "text/plain": [
              "HBox(children=(FloatProgress(value=0.0, description='Downloading', max=213450.0, style=ProgressStyle(descripti…"
            ]
          },
          "metadata": {
            "tags": []
          }
        },
        {
          "output_type": "stream",
          "text": [
            "\n"
          ],
          "name": "stdout"
        }
      ]
    },
    {
      "cell_type": "code",
      "metadata": {
        "colab": {
          "base_uri": "https://localhost:8080/",
          "height": 265
        },
        "id": "QBS2AGZmWMwB",
        "outputId": "7e679ded-33c6-4bfa-d7b5-13144cd93eac"
      },
      "source": [
        "from matplotlib import pyplot as plt\n",
        "plt.hist([len(text.split()) for text in train_texts])\n",
        "plt.show()"
      ],
      "execution_count": null,
      "outputs": [
        {
          "output_type": "display_data",
          "data": {
            "image/png": "[encoded data removed]",
            "text/plain": [
              "<Figure size 432x288 with 1 Axes>"
            ]
          },
          "metadata": {
            "tags": [],
            "needs_background": "light"
          }
        }
      ]
    },
    {
      "cell_type": "code",
      "metadata": {
        "id": "GCXWCIn7T6Si"
      },
      "source": [
        "import collections\n",
        "import torch\n",
        "label_vocab = collections.defaultdict(lambda: len(label_vocab))\n",
        "MAXLEN = 80\n",
        "batch_size = 32\n",
        "hidden_size = 128\n",
        "embed_size = 128\n",
        "DEVICE = torch.device('cuda')\n",
        "\n",
        "def prepare_texts(texts, labels):\n",
        "  X = torch.LongTensor(len(texts), MAXLEN).fill_(tokenizer.pad_token_id)\n",
        "  for i, text in enumerate(texts):\n",
        "    indexed_tokens = bert_text_to_ids(text)\n",
        "    length = min([MAXLEN, len(indexed_tokens)])\n",
        "    X[i,:length] = indexed_tokens[:length]\n",
        "  \n",
        "  Y = torch.tensor(labels).long()\n",
        "  return X.to(DEVICE), Y.to(DEVICE)\n",
        "\n",
        "X_train, y_train = prepare_texts(train_texts, train_labels)\n",
        "X_valid, y_valid = prepare_texts(valid_texts, valid_labels)\n",
        "X_test, y_test = prepare_texts(test_texts, test_labels)"
      ],
      "execution_count": null,
      "outputs": []
    },
    {
      "cell_type": "code",
      "metadata": {
        "colab": {
          "base_uri": "https://localhost:8080/"
        },
        "id": "H_9yKJk-SHYT",
        "outputId": "c6c1be60-bb97-4de6-d1bf-eba97906bbf7"
      },
      "source": [
        "print(X_train.shape, X_test.shape, X_valid.shape)\n",
        "print(y_train.shape, y_test.shape, y_valid.shape)"
      ],
      "execution_count": null,
      "outputs": [
        {
          "output_type": "stream",
          "text": [
            "torch.Size([408, 80]) torch.Size([171, 80]) torch.Size([103, 80])\n",
            "torch.Size([408, 19]) torch.Size([171, 19]) torch.Size([103, 19])\n"
          ],
          "name": "stdout"
        }
      ]
    },
    {
      "cell_type": "code",
      "metadata": {
        "id": "j3VgLQ4RHGVs"
      },
      "source": [
        "from torch.utils.data import TensorDataset, DataLoader\n",
        "\n",
        "train_set = TensorDataset(X_train, y_train)\n",
        "valid_set = TensorDataset(X_valid, y_valid)\n",
        "test_set = TensorDataset(X_test, y_test)\n",
        "\n",
        "train_loader = DataLoader(train_set, batch_size=batch_size, shuffle=True)\n",
        "valid_loader = DataLoader(valid_set, batch_size=batch_size)\n",
        "test_loader = DataLoader(test_set, batch_size=batch_size)"
      ],
      "execution_count": null,
      "outputs": []
    },
    {
      "cell_type": "markdown",
      "metadata": {
        "id": "7lAVwCxrF2Az"
      },
      "source": [
        "# RNN Classifier"
      ]
    },
    {
      "cell_type": "markdown",
      "metadata": {
        "id": "T6pbQbQZWyNT"
      },
      "source": [
        "## class RNN classifier "
      ]
    },
    {
      "cell_type": "code",
      "metadata": {
        "id": "5hknjRs-XDeH"
      },
      "source": [
        "import torch\n",
        "import torch.nn as nn\n",
        "import torch.optim as optim\n",
        "import torch.nn.functional as F\n",
        "\n",
        "from tqdm import tqdm\n",
        "from sklearn.metrics import f1_score\n",
        "from sklearn.metrics import accuracy_score"
      ],
      "execution_count": null,
      "outputs": []
    },
    {
      "cell_type": "code",
      "metadata": {
        "colab": {
          "base_uri": "https://localhost:8080/"
        },
        "id": "vPXCXnKyWxqA",
        "outputId": "a89a3d8f-13a8-4dea-cec1-ac88a7b9a574"
      },
      "source": [
        "class RNNClassifier(nn.Module):\n",
        "  def __init__(self):\n",
        "    super().__init__()\n",
        "    self.embed = nn.Embedding(tokenizer.vocab_size, embed_size, padding_idx=tokenizer.pad_token_id)\n",
        "    self.rnn = nn.GRU(embed_size, hidden_size, num_layers=1, bidirectional=True, batch_first=True)\n",
        "    self.dropout = nn.Dropout(0.3)\n",
        "    self.decision = nn.Linear(1 * 2 * hidden_size, len(LABELS))\n",
        "    self.to(DEVICE)\n",
        "  \n",
        "  def forward(self, x):\n",
        "    embed = self.embed(x)\n",
        "    output, hidden = self.rnn(embed) \n",
        "    drop = self.dropout(hidden.transpose(0, 1).reshape(x.shape[0], -1))\n",
        "    return torch.softmax(self.decision(drop),1)\n",
        "\n",
        "rnn_model = RNNClassifier()\n",
        "with torch.no_grad():\n",
        "  print(rnn_model(X_train[:3]).shape)"
      ],
      "execution_count": null,
      "outputs": [
        {
          "output_type": "stream",
          "text": [
            "torch.Size([3, 19])\n"
          ],
          "name": "stdout"
        }
      ]
    },
    {
      "cell_type": "markdown",
      "metadata": {
        "id": "vWt9kKLEMTLa"
      },
      "source": [
        "## Performance et entraînement RNN classifier "
      ]
    },
    {
      "cell_type": "markdown",
      "metadata": {
        "id": "GXUxcTwYYC2F"
      },
      "source": [
        "Reprise du notebook sur litcovid pour les fonctions de performances et de fit en multi label"
      ]
    },
    {
      "cell_type": "code",
      "metadata": {
        "id": "iVgPedGDg9_R"
      },
      "source": [
        "def CrossEntropyLossOneHot(y_score=None, y=None):\n",
        "    \"\"\"CrossEntropy pour la multi classification\n",
        "    \"\"\"\n",
        "    log_y_score = torch.log(y_score)\n",
        "    cost = -torch.sum(y * log_y_score)\n",
        "    return cost\n",
        "\n",
        "def perf(model, loader, seuil:float=2e-1):\n",
        "    \"\"\"Evaluation en multi-label, le seuil désigne le niveau a partir duquel on considère une classe comme 'prédite'\n",
        "    \"\"\"\n",
        "    criterion = CrossEntropyLossOneHot\n",
        "    model.eval()\n",
        "    total_loss = num = num_comp = correct = 0\n",
        "    total_pred = true_y = None # concaténation des batchs\n",
        "    for x, y in loader:\n",
        "        with torch.no_grad():\n",
        "            y_scores = model(x)\n",
        "            loss = criterion(y_scores, y)\n",
        "            y_pred = multi_hot(y_scores, seuil)\n",
        "            if total_pred == None: # concat\n",
        "                total_pred = y_pred\n",
        "                true_y = y\n",
        "            else:\n",
        "                total_pred = torch.cat((total_pred,y_pred), dim=0)\n",
        "                true_y = torch.cat((true_y,y), dim=0)\n",
        "            correct += torch.sum(y_pred == y).item()\n",
        "            total_loss += loss.item()\n",
        "            num_comp += len(y) * len(LABELS)\n",
        "            num += len(y)\n",
        "\n",
        "    f_score = f1_score(true_y.cpu(), total_pred.cpu(), average='micro')\n",
        "    accu_score = accuracy_score(true_y.cpu(), total_pred.cpu())\n",
        "    return total_loss / num, correct / num_comp, accu_score, f_score"
      ],
      "execution_count": null,
      "outputs": []
    },
    {
      "cell_type": "code",
      "metadata": {
        "id": "akRJ0rS_wby0"
      },
      "source": [
        "def multi_hot(y_pred, seuil=2e-1):\n",
        "    \"\"\"binarize prediction using threshold\n",
        "    \"\"\"\n",
        "    res = torch.zeros(y_pred.shape[0], y_pred.shape[1])#.int()\n",
        "    res[torch.arange(y_pred.shape[0]), torch.argmax(y_pred, dim=1)] = 1\n",
        "    for i in range(y_pred.shape[0]):\n",
        "        for j in range(y_pred.shape[1]):\n",
        "            if y_pred[i,j] > seuil:\n",
        "                res[i,j] = 1\n",
        "    return res.to(DEVICE)"
      ],
      "execution_count": null,
      "outputs": []
    },
    {
      "cell_type": "code",
      "metadata": {
        "id": "RE6sVWreg9_T"
      },
      "source": [
        "def fit_rnn(model, train_loader, epochs, lr=1e-3, seuil=2e-1): \n",
        "    criterion = CrossEntropyLossOneHot\n",
        "    optimizer = optim.Adam(model.parameters(), lr=lr)\n",
        "\n",
        "    history  = {\n",
        "        'train_losses' : [],\n",
        "        'val_losses' : [],\n",
        "        'preci' : [],\n",
        "        'all_good_preci' : [],\n",
        "        'f_micro' : [],\n",
        "    }\n",
        "\n",
        "    for epoch in range(epochs):\n",
        "        model.train()\n",
        "        total_loss = num = 0\n",
        "        for x, y in tqdm(train_loader):\n",
        "            optimizer.zero_grad()\n",
        "            y_scores = model(x)\n",
        "            loss = criterion(y_scores, y)\n",
        "            loss.backward()\n",
        "            optimizer.step()\n",
        "            total_loss += loss.item()\n",
        "            num += len(y)\n",
        "\n",
        "        valloss, preci, accu_score, f_mesure = perf(model, valid_loader, seuil)\n",
        "        history['train_losses'].append(total_loss / num)\n",
        "        history['val_losses'].append(valloss)\n",
        "        history['preci'].append(preci)\n",
        "        history['all_good_preci'].append(accu_score)\n",
        "        history['f_micro'].append(f_mesure)\n",
        "\n",
        "        print(f'\\nepoch : {epoch}\\t - train loss : {total_loss / num}\\t - val loss : {valloss}\\t - precision :{preci}\\t - all good precision : {accu_score}\\t - f-score micro : {f_mesure}')\n",
        "\n",
        "    return history"
      ],
      "execution_count": null,
      "outputs": []
    },
    {
      "cell_type": "code",
      "metadata": {
        "id": "VhjdLumhYPDc"
      },
      "source": [
        "history_rnnclassif = fit_rnn(rnn_model, train_loader, 10)"
      ],
      "execution_count": null,
      "outputs": []
    },
    {
      "cell_type": "markdown",
      "metadata": {
        "id": "pddSeSScxtxF"
      },
      "source": [
        "## Tests pour la paramétrisation"
      ]
    },
    {
      "cell_type": "code",
      "metadata": {
        "id": "NbrgCUR6xtxI"
      },
      "source": [
        "def print_history_test(hist:dict, losses:bool=True, preci:bool=True, all_good_preci:bool=True, f_micro:bool=True):\n",
        "    \n",
        "    nb_epoch = len(hist['train_losses'])\n",
        "    x = np.arange(0,nb_epoch)\n",
        "    plt.figure()\n",
        "    if losses:\n",
        "      plt.subplot(131)\n",
        "      plt.plot(x,hist['train_losses'], label='train')\n",
        "      plt.plot(x,hist['val_losses'], label='val')\n",
        "      plt.xlabel('Epoch')\n",
        "      plt.ylabel('Losses')\n",
        "      plt.legend()\n",
        "    \n",
        "    if [f_micro]:\n",
        "      plt.subplot(133)\n",
        "      plt.plot(x,hist['f_micro'])\n",
        "      plt.xlabel('Epoch')\n",
        "      plt.ylabel('f_score mean')\n",
        "      plt.show()\n"
      ],
      "execution_count": null,
      "outputs": []
    },
    {
      "cell_type": "code",
      "metadata": {
        "id": "OBM60NiHxtxL"
      },
      "source": [
        "lr_tab = np.array([ 1e-05, 1e-06, 1e-07, 1e-08, 1e-09, 1e-10, 1e-11, 1e-12, 1e-13])\n",
        "seuil_tab = np.arange(0.,0.5,0.01)\n",
        "\n",
        "max = 0.\n",
        "lr_max = 0.\n",
        "seuil_max = 0.\n",
        "\n",
        "for seuil in seuil_tab:\n",
        "  for lr in lr_tab:\n",
        "    history = fit_rnn(rnn_model, train_loader, 3, lr=lr, seuil=seuil)\n",
        "    titre = 'seuil : ' + str(seuil) + ' , lr : ' + str(lr)\n",
        "    print(titre)\n",
        "    # print_history_test(history)\n",
        "    f_score = np.mean(history['f_micro'])\n",
        "    if max < f_score:\n",
        "      history_temp = history\n",
        "      max = f_score\n",
        "      lr_max = lr\n",
        "      seuil_max = seuil\n",
        "\n",
        "print(\"\\n\\n___________________________\\n\\n\")\n",
        "print(\"Meilleur f_score :\", max, \" avec un seuil de\", seuil_max, \" et un learning rate de\", lr_max)\n",
        "print_history_test(history_temp)\n"
      ],
      "execution_count": null,
      "outputs": []
    },
    {
      "cell_type": "markdown",
      "metadata": {
        "id": "e5kyggjo8JeK"
      },
      "source": [
        "On obtient le meilleur f1-score (0.3766) avec:\n",
        "* lr=1e-05\n",
        "* seuil = 0.11"
      ]
    },
    {
      "cell_type": "markdown",
      "metadata": {
        "id": "DLHXWOETajAs"
      },
      "source": [
        "# BioBert Finetuning"
      ]
    },
    {
      "cell_type": "code",
      "metadata": {
        "id": "xW9xPv9TZAAp"
      },
      "source": [
        "!pip install pandas==0.23\n",
        "!pip install transformers==3.0.0"
      ],
      "execution_count": null,
      "outputs": []
    },
    {
      "cell_type": "code",
      "metadata": {
        "id": "BQF61D9Rh-Yx"
      },
      "source": [
        "from transformers import BertModel\n",
        "\n",
        "import torch\n",
        "import torch.nn as nn\n",
        "import torch.optim as optim\n",
        "\n",
        "from tqdm import tqdm\n",
        "from sklearn.metrics import f1_score\n",
        "from sklearn.metrics import accuracy_score"
      ],
      "execution_count": null,
      "outputs": []
    },
    {
      "cell_type": "markdown",
      "metadata": {
        "id": "mWmocYQAM7co"
      },
      "source": [
        "Importation du model Bert pré-entraîné et freeze d'un certains nombre de couches."
      ]
    },
    {
      "cell_type": "code",
      "metadata": {
        "colab": {
          "base_uri": "https://localhost:8080/",
          "height": 116,
          "referenced_widgets": [
            "e7ab082324434ef3bfb67db277e84672",
            "f6d289ce3f4e4d37933d4025f81caf4f",
            "1c9af41c36404e7f81512d375056b91d",
            "596aa41733914d43b70202ecdb0b6045",
            "6e3440014e3b41cd8302f4494bca2700",
            "49c470931e3d4a289552914056b7cd5a",
            "5a32ab92a8dc44abb24b5ccafdd860c4",
            "5856d09032624e41abeab56d6e4b38dd",
            "6bda2a3134ea4466bd83a322773f8b19",
            "e52d76c7d86f4f9aa52561abcce0b71f",
            "f54372b0d470438395fdbce865893b83",
            "1cb068aba16641e0b41b9f46e7d5df06",
            "5ab160d05fd74bb98d2b31591912d4c9",
            "a2791a21275e4766bea1f92d59d05a9a",
            "f2fee1653c044172a746717f46699a78",
            "e7efedf6fb3e4909857bd7701e77fbde"
          ]
        },
        "id": "FsRAiqbOw-Rm",
        "outputId": "3e5da20d-6c2d-41b5-af5d-cb29f37f1634"
      },
      "source": [
        "bert = BertModel.from_pretrained('dmis-lab/biobert-base-cased-v1.1')\n",
        "\n",
        "\n",
        "#freeze des 6 premières couches \n",
        "modules = [bert.embeddings, *bert.encoder.layer[:6]] \n",
        "for module in modules:\n",
        "    for param in module.parameters():\n",
        "        param.requires_grad = False"
      ],
      "execution_count": null,
      "outputs": [
        {
          "output_type": "display_data",
          "data": {
            "application/vnd.jupyter.widget-view+json": {
              "model_id": "e7ab082324434ef3bfb67db277e84672",
              "version_major": 2,
              "version_minor": 0
            },
            "text/plain": [
              "HBox(children=(FloatProgress(value=0.0, description='Downloading', max=313.0, style=ProgressStyle(description_…"
            ]
          },
          "metadata": {
            "tags": []
          }
        },
        {
          "output_type": "stream",
          "text": [
            "\n"
          ],
          "name": "stdout"
        },
        {
          "output_type": "display_data",
          "data": {
            "application/vnd.jupyter.widget-view+json": {
              "model_id": "6bda2a3134ea4466bd83a322773f8b19",
              "version_major": 2,
              "version_minor": 0
            },
            "text/plain": [
              "HBox(children=(FloatProgress(value=0.0, description='Downloading', max=435780550.0, style=ProgressStyle(descri…"
            ]
          },
          "metadata": {
            "tags": []
          }
        },
        {
          "output_type": "stream",
          "text": [
            "\n"
          ],
          "name": "stdout"
        }
      ]
    },
    {
      "cell_type": "markdown",
      "metadata": {
        "id": "XL_sSTUWNTlI"
      },
      "source": [
        "Définission de notre nouvelle architecture constituée du model Bert précédent suivi d'une couche linéaire, d'une couche relu, d'un dropout à 0.1, d'une couche linéaire, et pour finir on applique un softmax. (Plusieurs modèles ont été testés.)"
      ]
    },
    {
      "cell_type": "code",
      "metadata": {
        "colab": {
          "base_uri": "https://localhost:8080/"
        },
        "id": "INsrR_QY9XeO",
        "outputId": "5a3ecf34-18d6-4670-b8de-230d8f9ede58"
      },
      "source": [
        "class BioBertClassifier(nn.Module):\n",
        "  def __init__(self):\n",
        "    super().__init__()\n",
        "    self.bert = bert\n",
        "    ### ajout de qq couches supplémentaires\n",
        "    self.dropout = nn.Dropout(0.1)\n",
        "    self.relu = nn.ReLU()\n",
        "    self.lin1 = nn.Linear(self.bert.config.hidden_size,512)\n",
        "    self.lin2 = nn.Linear(512, len(LABELS))\n",
        "    self.softmax = nn.Softmax(dim=1)\n",
        "\n",
        "    self.to(DEVICE)\n",
        "\n",
        "  def forward(self, x):\n",
        "    _,output = self.bert(x, attention_mask = (x != tokenizer.pad_token_id).long())\n",
        "    x = self.lin1(output)\n",
        "    x = self.relu(x)\n",
        "    x = self.dropout(x)\n",
        "    x = self.lin2(x)\n",
        "    return self.softmax(x)\n",
        "\n",
        "bert_model = BioBertClassifier()\n",
        "with torch.no_grad():\n",
        "  print(bert_model(X_train[:3]).shape)"
      ],
      "execution_count": null,
      "outputs": [
        {
          "output_type": "stream",
          "text": [
            "torch.Size([3, 19])\n"
          ],
          "name": "stdout"
        }
      ]
    },
    {
      "cell_type": "markdown",
      "metadata": {
        "id": "njQXmuwkvUYt"
      },
      "source": [
        "Reprise des fonctions fit et perf du Notebook sur l'étude de litcovid."
      ]
    },
    {
      "cell_type": "code",
      "metadata": {
        "id": "MQFkT0aC-nay"
      },
      "source": [
        "def multi_hot(y_pred, seuil=2e-1):\n",
        "    \"\"\"binarize prediction using threshold\n",
        "    \"\"\"\n",
        "    res = torch.zeros(y_pred.shape[0], y_pred.shape[1])#.int()\n",
        "    res[torch.arange(y_pred.shape[0]), torch.argmax(y_pred, dim=1)] = 1\n",
        "    for i in range(y_pred.shape[0]):\n",
        "        for j in range(y_pred.shape[1]):\n",
        "            if y_pred[i,j] > seuil:\n",
        "                res[i,j] = 1\n",
        "    return res.to(DEVICE)\n",
        "\n",
        "def CrossEntropyLossOneHot(y_score=None, y=None):\n",
        "    \"\"\"CrossEntropy pour la multi classification\n",
        "    \"\"\"\n",
        "    log_y_score = torch.log(y_score)\n",
        "    cost = -torch.sum(y * log_y_score)\n",
        "    return cost\n",
        "\n",
        "def perf(model, loader, seuil:float=2e-1):\n",
        "    \"\"\"Evaluation en multi-label, le seuil désigne le niveau a partir duquel on considère une classe comme 'prédite'\n",
        "    \"\"\"\n",
        "    criterion = CrossEntropyLossOneHot\n",
        "    model.eval()\n",
        "    total_loss = num = num_comp = correct = 0\n",
        "    total_pred = true_y = None # concaténation des batchs\n",
        "    for x, y in loader:\n",
        "        with torch.no_grad():\n",
        "            y_scores = model(x)\n",
        "            loss = criterion(y_scores, y)\n",
        "            y_pred = multi_hot(y_scores, seuil)\n",
        "            if total_pred == None: # concat\n",
        "                total_pred = y_pred\n",
        "                true_y = y\n",
        "            else:\n",
        "                total_pred = torch.cat((total_pred,y_pred), dim=0)\n",
        "                true_y = torch.cat((true_y,y), dim=0)\n",
        "            correct += torch.sum(y_pred == y).item()\n",
        "            total_loss += loss.item()\n",
        "            num_comp += len(y) * len(LABELS)\n",
        "            num += len(y)\n",
        "\n",
        "    f_score = f1_score(true_y.cpu(), total_pred.cpu(), average='micro')\n",
        "    accu_score = accuracy_score(true_y.cpu(), total_pred.cpu())\n",
        "    return total_loss / num, correct / num_comp, accu_score, f_score"
      ],
      "execution_count": null,
      "outputs": []
    },
    {
      "cell_type": "code",
      "metadata": {
        "id": "9ZA_I5dswNTs"
      },
      "source": [
        "def fit(model, epochs, train_loader, \n",
        "          lrbio:float=1e-4, lrdeci:float=1e-02, \n",
        "          freezebio:bool=True, \n",
        "          seuil:float=2e-1):\n",
        "    criterion = CrossEntropyLossOneHot\n",
        "\n",
        "    #freeze biobert layers\n",
        "    if freezebio :\n",
        "      for parameter in model.parameters():\n",
        "          parameter.requires_grad = False\n",
        "      for name, param in model.named_parameters():\n",
        "          if 'decision' in name:\n",
        "              param.requires_grad = True\n",
        "      optimizer = optim.Adam(model.parameters(), lr=lrdeci)\n",
        "\n",
        "    #different lr pour bio et decision\n",
        "    else :\n",
        "      my_list = ['decision.weight', 'decision.bias']\n",
        "      params = list(map(lambda x: x[1],list(filter(lambda kv: kv[0] in my_list, model.named_parameters()))))\n",
        "      base_params = list(map(lambda x: x[1],list(filter(lambda kv: kv[0] not in my_list, model.named_parameters()))))\n",
        "      optimizer = optim.Adam([{'params': base_params}, {'params': params, 'lr': lrdeci}], lr=lrbio)\n",
        "      \n",
        "    history  = {\n",
        "        'train_losses' : [],\n",
        "        'val_losses' : [],\n",
        "        'preci' : [],\n",
        "        'all_good_preci' : [],\n",
        "        'f_micro' : [],\n",
        "    }\n",
        "\n",
        "    for epoch in range(epochs):\n",
        "        model.train()\n",
        "        total_loss = num = 0\n",
        "        for x, y in tqdm(train_loader):\n",
        "            optimizer.zero_grad()\n",
        "            y_scores = model(x)\n",
        "            loss = criterion(y_scores, y)\n",
        "            loss.backward()\n",
        "            optimizer.step()\n",
        "            total_loss += loss.item()\n",
        "            num += len(y)\n",
        "\n",
        "        valloss, preci, accu_score, f_mesure = perf(model, valid_loader, seuil)\n",
        "        history['train_losses'].append(total_loss / num)\n",
        "        history['val_losses'].append(valloss)\n",
        "        history['preci'].append(preci)\n",
        "        history['all_good_preci'].append(accu_score)\n",
        "        history['f_micro'].append(f_mesure)\n",
        "\n",
        "        print(f'\\nepoch : {epoch}\\t - train loss : {total_loss / num}\\t - val loss : {valloss}\\t - precision :{preci}\\t - all good precision : {accu_score}\\t - f-score micro : {f_mesure}')\n",
        "\n",
        "    return history"
      ],
      "execution_count": null,
      "outputs": []
    },
    {
      "cell_type": "markdown",
      "metadata": {
        "id": "eQzjKsJY6s10"
      },
      "source": [
        "## Tests pour la paramétrisation de l'entraînement"
      ]
    },
    {
      "cell_type": "code",
      "metadata": {
        "id": "MCpmSL438n0v"
      },
      "source": [
        "def print_history_test(hist:dict, losses:bool=True, preci:bool=True, all_good_preci:bool=True, f_micro:bool=True):\n",
        "    \n",
        "    nb_epoch = len(hist['train_losses'])\n",
        "    x = np.arange(0,nb_epoch)\n",
        "    plt.figure()\n",
        "    if losses:\n",
        "      plt.subplot(131)\n",
        "      plt.plot(x,hist['train_losses'], label='train')\n",
        "      plt.plot(x,hist['val_losses'], label='val')\n",
        "      plt.xlabel('Epoch')\n",
        "      plt.ylabel('Losses')\n",
        "      plt.legend()\n",
        "    \n",
        "    if [f_micro]:\n",
        "      plt.subplot(133)\n",
        "      plt.plot(x,hist['f_micro'])\n",
        "      plt.xlabel('Epoch')\n",
        "      plt.ylabel('f_score mean')\n",
        "      plt.show()\n"
      ],
      "execution_count": null,
      "outputs": []
    },
    {
      "cell_type": "code",
      "metadata": {
        "id": "pTN2whwk6_Al"
      },
      "source": [
        "lrbio_tab = np.array([ 1e-04, 1e-05, 1e-06, 1e-07, 1e-08])\n",
        "lrdeci_tab = np.array([ 1e-05, 1e-06, 1e-07, 1e-08, 1e-09])\n",
        "seuil_tab = np.arange(0.,0.5,0.02)\n",
        "print(len(seuil_tab))\n",
        "max = 0.\n",
        "lrbio_max = 0.\n",
        "lrdeci_max = 0.\n",
        "seuil_max = 0.\n",
        "\n",
        "for seuil in seuil_tab:\n",
        "  for lrbio in lrbio_tab:\n",
        "    for lrdeci in lrdeci_tab:\n",
        "      history = fit(bert_model, 3, train_loader, lrbio=3e-06, lrdeci=1e-07, freezebio=False, seuil=seuil)\n",
        "      titre = 'seuil : ' + str(seuil) + ' , lrbio : ' + str(lrbio) + ' , lrdeci : ' + str(lrdeci)\n",
        "      print(titre)\n",
        "      # print_history_test(history)\n",
        "      f_score = np.mean(history['f_micro'])\n",
        "      if max < f_score:\n",
        "        history_temp = history\n",
        "        max = f_score\n",
        "        lrbio_max = lrbio\n",
        "        lrdeci_max = lrdeci\n",
        "        seuil_max = seuil\n",
        "\n",
        "\n",
        "print(\"Meilleur f_score : \", max, \"avec seuil = \", seuil_max, \", lrbio = \", lrbio_max, \" et lrdeci = \", lrdeci_max)\n",
        "print_history_test(history_temp)\n"
      ],
      "execution_count": null,
      "outputs": []
    },
    {
      "cell_type": "markdown",
      "metadata": {
        "id": "Y6IW93UnwXia"
      },
      "source": [
        "=> Avec ce test, meilleure performance (f1_score=0.599) avec :</br>\n",
        "- seuil : 0.24 </br>\n",
        "- lrbio : 1e-4 </br>\n",
        "- lrdeci : 1e-09"
      ]
    },
    {
      "cell_type": "markdown",
      "metadata": {
        "id": "Z5f-98gxylxA"
      },
      "source": [
        "# Comparaison RNNClassifier et Fine tuning BioBert"
      ]
    },
    {
      "cell_type": "markdown",
      "metadata": {
        "id": "iK_Zi66168h-"
      },
      "source": [
        "## Entraînement"
      ]
    },
    {
      "cell_type": "markdown",
      "metadata": {
        "id": "lJbU61UjyydA"
      },
      "source": [
        "Reprise de la fonction 'print_history' du Notebook sur l'étude des données Litcovid"
      ]
    },
    {
      "cell_type": "code",
      "metadata": {
        "id": "0szuJxDCl_vk"
      },
      "source": [
        "def print_history(hist:dict, losses:bool=True, preci:bool=True, all_good_preci:bool=True, f_micro:bool=True):\n",
        "    \"\"\"\n",
        "    Génération des graphes d'entrainement avec les données extraites lors du fit (losses, etc). Possibilité de ne générer que certains des graphes.\n",
        "\n",
        "    hist: dict\n",
        "        résultat de la fonction fit\n",
        "    \"\"\"\n",
        "    nb_epoch = len(hist['train_losses'])\n",
        "    x = np.arange(0,nb_epoch)\n",
        "    if losses:\n",
        "      plt.plot(x,hist['train_losses'], label='train')\n",
        "      plt.plot(x,hist['val_losses'], label='val')\n",
        "      plt.xlabel('Epoch')\n",
        "      plt.ylabel('Losses')\n",
        "      plt.legend()\n",
        "      plt.show()\n",
        "    \n",
        "    for (cond, name, label) in (zip([preci, all_good_preci, f_micro],\n",
        "                          ['preci', 'all_good_preci', 'f_micro'],\n",
        "                          ['Precision pour chaque label séparement', 'Precision pour l\\'ensemble des labels', 'F-score micro'])):\n",
        "        if cond:\n",
        "            plt.plot(x,hist[name])\n",
        "            plt.xlabel('Epoch')\n",
        "            plt.ylabel(label)\n",
        "            # plt.legend()\n",
        "            plt.show()\n",
        "\n",
        "\n",
        "  \n",
        "# print_history(history)"
      ],
      "execution_count": null,
      "outputs": []
    },
    {
      "cell_type": "code",
      "metadata": {
        "colab": {
          "base_uri": "https://localhost:8080/",
          "height": 1000
        },
        "id": "6pwY2cnutXw7",
        "outputId": "1d418536-7941-46cf-9137-56c709812681"
      },
      "source": [
        "##RNN Classifier :\n",
        "seuil = 0.11\n",
        "lr = 1e-5\n",
        "history_rnnclassif = fit_rnn(rnn_model, train_loader, 10, lr=lr, seuil=seuil)\n",
        "\n",
        "##Fine tuning BioBERT :\n",
        "seuil = 0.24\n",
        "lr_bio = 1e-04\n",
        "lr_deci = 1e-09\n",
        "\n",
        "history_bert = fit(bert_model, 10, train_loader, lrbio=lr_bio, lrdeci=lr_deci, freezebio=False, seuil=seuil)\n",
        "\n",
        "\n",
        "print(\"\\n\\n___________________________\\n\\n\")\n",
        "print(\"\\n\\nComparaison générale\\n\\n\")\n",
        "print('* * * RNNClassifier * * * ')\n",
        "print(\" f-score : \", history_rnnclassif['f_micro'][9])\n",
        "print_history(history_rnnclassif)\n",
        "print('\\n\\n* * * Fine tuning Bert * * *')\n",
        "print(\" f-score : \", history_bert['f_micro'][9])\n",
        "print_history(history_bert)\n"
      ],
      "execution_count": null,
      "outputs": [
        {
          "output_type": "stream",
          "text": [
            "100%|██████████| 13/13 [00:00<00:00, 91.12it/s]\n",
            "100%|██████████| 13/13 [00:00<00:00, 103.66it/s]"
          ],
          "name": "stderr"
        },
        {
          "output_type": "stream",
          "text": [
            "\n",
            "epoch : 0\t - train loss : 1.777312157200832\t - val loss : 3.763303219693378\t - precision :0.86152273888605\t - all good precision : 0.10679611650485436\t - f-score micro : 0.34698795180722897\n"
          ],
          "name": "stdout"
        },
        {
          "output_type": "stream",
          "text": [
            "\n",
            "100%|██████████| 13/13 [00:00<00:00, 104.38it/s]"
          ],
          "name": "stderr"
        },
        {
          "output_type": "stream",
          "text": [
            "\n",
            "epoch : 1\t - train loss : 1.7771306505390243\t - val loss : 3.7615070713376535\t - precision :0.8630556974961676\t - all good precision : 0.10679611650485436\t - f-score micro : 0.3526570048309179\n"
          ],
          "name": "stdout"
        },
        {
          "output_type": "stream",
          "text": [
            "\n",
            "100%|██████████| 13/13 [00:00<00:00, 101.53it/s]"
          ],
          "name": "stderr"
        },
        {
          "output_type": "stream",
          "text": [
            "\n",
            "epoch : 2\t - train loss : 1.7588333055084826\t - val loss : 3.7606741155235515\t - precision :0.8635666836995401\t - all good precision : 0.11650485436893204\t - f-score micro : 0.3535108958837772\n"
          ],
          "name": "stdout"
        },
        {
          "output_type": "stream",
          "text": [
            "\n",
            "100%|██████████| 13/13 [00:00<00:00, 104.87it/s]"
          ],
          "name": "stderr"
        },
        {
          "output_type": "stream",
          "text": [
            "\n",
            "epoch : 3\t - train loss : 1.742662644853779\t - val loss : 3.760977661725387\t - precision :0.8650996423096576\t - all good precision : 0.11650485436893204\t - f-score micro : 0.3497536945812808\n"
          ],
          "name": "stdout"
        },
        {
          "output_type": "stream",
          "text": [
            "\n",
            "100%|██████████| 13/13 [00:00<00:00, 107.09it/s]"
          ],
          "name": "stderr"
        },
        {
          "output_type": "stream",
          "text": [
            "\n",
            "epoch : 4\t - train loss : 1.727203976874258\t - val loss : 3.7623041023328465\t - precision :0.8666326009197751\t - all good precision : 0.11650485436893204\t - f-score micro : 0.35555555555555557\n"
          ],
          "name": "stdout"
        },
        {
          "output_type": "stream",
          "text": [
            "\n",
            "100%|██████████| 13/13 [00:00<00:00, 94.34it/s]"
          ],
          "name": "stderr"
        },
        {
          "output_type": "stream",
          "text": [
            "\n",
            "epoch : 5\t - train loss : 1.7353933278252096\t - val loss : 3.7643730385789596\t - precision :0.8686765457332652\t - all good precision : 0.11650485436893204\t - f-score micro : 0.3558897243107769\n"
          ],
          "name": "stdout"
        },
        {
          "output_type": "stream",
          "text": [
            "\n",
            "100%|██████████| 13/13 [00:00<00:00, 105.18it/s]"
          ],
          "name": "stderr"
        },
        {
          "output_type": "stream",
          "text": [
            "\n",
            "epoch : 6\t - train loss : 1.7131745488035912\t - val loss : 3.7671435087629894\t - precision :0.8702095043433827\t - all good precision : 0.11650485436893204\t - f-score micro : 0.3553299492385787\n"
          ],
          "name": "stdout"
        },
        {
          "output_type": "stream",
          "text": [
            "\n",
            "100%|██████████| 13/13 [00:00<00:00, 102.51it/s]"
          ],
          "name": "stderr"
        },
        {
          "output_type": "stream",
          "text": [
            "\n",
            "epoch : 7\t - train loss : 1.7196849187215169\t - val loss : 3.7696408392156213\t - precision :0.8702095043433827\t - all good precision : 0.11650485436893204\t - f-score micro : 0.3553299492385787\n"
          ],
          "name": "stdout"
        },
        {
          "output_type": "stream",
          "text": [
            "\n",
            "100%|██████████| 13/13 [00:00<00:00, 107.02it/s]"
          ],
          "name": "stderr"
        },
        {
          "output_type": "stream",
          "text": [
            "\n",
            "epoch : 8\t - train loss : 1.7054100597605986\t - val loss : 3.7727800387780643\t - precision :0.8717424629535002\t - all good precision : 0.1262135922330097\t - f-score micro : 0.35805626598465473\n"
          ],
          "name": "stdout"
        },
        {
          "output_type": "stream",
          "text": [
            "\n",
            "  0%|          | 0/13 [00:00<?, ?it/s]"
          ],
          "name": "stderr"
        },
        {
          "output_type": "stream",
          "text": [
            "\n",
            "epoch : 9\t - train loss : 1.6894552847918343\t - val loss : 3.7754258831727854\t - precision :0.8712314767501278\t - all good precision : 0.13592233009708737\t - f-score micro : 0.3538461538461538\n"
          ],
          "name": "stdout"
        },
        {
          "output_type": "stream",
          "text": [
            "100%|██████████| 13/13 [00:03<00:00,  3.38it/s]\n",
            "  0%|          | 0/13 [00:00<?, ?it/s]"
          ],
          "name": "stderr"
        },
        {
          "output_type": "stream",
          "text": [
            "\n",
            "epoch : 0\t - train loss : 3.860508208181344\t - val loss : 3.787848963320834\t - precision :0.9059785385794583\t - all good precision : 0.21359223300970873\t - f-score micro : 0.2868217054263566\n"
          ],
          "name": "stdout"
        },
        {
          "output_type": "stream",
          "text": [
            "100%|██████████| 13/13 [00:03<00:00,  3.30it/s]\n",
            "  0%|          | 0/13 [00:00<?, ?it/s]"
          ],
          "name": "stderr"
        },
        {
          "output_type": "stream",
          "text": [
            "\n",
            "epoch : 1\t - train loss : 3.4544777963675704\t - val loss : 3.711191510691226\t - precision :0.9080224833929484\t - all good precision : 0.22330097087378642\t - f-score micro : 0.3129770992366412\n"
          ],
          "name": "stdout"
        },
        {
          "output_type": "stream",
          "text": [
            "100%|██████████| 13/13 [00:04<00:00,  3.25it/s]\n",
            "  0%|          | 0/13 [00:00<?, ?it/s]"
          ],
          "name": "stderr"
        },
        {
          "output_type": "stream",
          "text": [
            "\n",
            "epoch : 2\t - train loss : 3.2227298325183344\t - val loss : 3.618230245645764\t - precision :0.9064895247828308\t - all good precision : 0.21359223300970873\t - f-score micro : 0.34408602150537637\n"
          ],
          "name": "stdout"
        },
        {
          "output_type": "stream",
          "text": [
            "100%|██████████| 13/13 [00:04<00:00,  3.25it/s]\n",
            "  0%|          | 0/13 [00:00<?, ?it/s]"
          ],
          "name": "stderr"
        },
        {
          "output_type": "stream",
          "text": [
            "\n",
            "epoch : 3\t - train loss : 2.9534549713134766\t - val loss : 3.512668517029401\t - precision :0.9039345937659683\t - all good precision : 0.17475728155339806\t - f-score micro : 0.3380281690140845\n"
          ],
          "name": "stdout"
        },
        {
          "output_type": "stream",
          "text": [
            "100%|██████████| 13/13 [00:04<00:00,  3.19it/s]\n",
            "  0%|          | 0/13 [00:00<?, ?it/s]"
          ],
          "name": "stderr"
        },
        {
          "output_type": "stream",
          "text": [
            "\n",
            "epoch : 4\t - train loss : 2.631520897734399\t - val loss : 3.238971043558954\t - precision :0.9187531936637711\t - all good precision : 0.2815533980582524\t - f-score micro : 0.42181818181818187\n"
          ],
          "name": "stdout"
        },
        {
          "output_type": "stream",
          "text": [
            "100%|██████████| 13/13 [00:04<00:00,  3.14it/s]\n",
            "  0%|          | 0/13 [00:00<?, ?it/s]"
          ],
          "name": "stderr"
        },
        {
          "output_type": "stream",
          "text": [
            "\n",
            "epoch : 5\t - train loss : 2.27738608565985\t - val loss : 3.0551765219679154\t - precision :0.9279509453244762\t - all good precision : 0.3592233009708738\t - f-score micro : 0.5052631578947369\n"
          ],
          "name": "stdout"
        },
        {
          "output_type": "stream",
          "text": [
            "100%|██████████| 13/13 [00:04<00:00,  3.09it/s]\n",
            "  0%|          | 0/13 [00:00<?, ?it/s]"
          ],
          "name": "stderr"
        },
        {
          "output_type": "stream",
          "text": [
            "\n",
            "epoch : 6\t - train loss : 1.9616287175346823\t - val loss : 2.9738393246548847\t - precision :0.9340827797649464\t - all good precision : 0.36893203883495146\t - f-score micro : 0.5536332179930795\n"
          ],
          "name": "stdout"
        },
        {
          "output_type": "stream",
          "text": [
            "100%|██████████| 13/13 [00:04<00:00,  3.03it/s]\n",
            "  0%|          | 0/13 [00:00<?, ?it/s]"
          ],
          "name": "stderr"
        },
        {
          "output_type": "stream",
          "text": [
            "\n",
            "epoch : 7\t - train loss : 1.7183805727491193\t - val loss : 2.8120592172863415\t - precision :0.9335717935615738\t - all good precision : 0.34951456310679613\t - f-score micro : 0.5547945205479453\n"
          ],
          "name": "stdout"
        },
        {
          "output_type": "stream",
          "text": [
            "100%|██████████| 13/13 [00:04<00:00,  2.99it/s]\n",
            "  0%|          | 0/13 [00:00<?, ?it/s]"
          ],
          "name": "stderr"
        },
        {
          "output_type": "stream",
          "text": [
            "\n",
            "epoch : 8\t - train loss : 1.5849528780170516\t - val loss : 3.043532751138928\t - precision :0.9294839039345938\t - all good precision : 0.34951456310679613\t - f-score micro : 0.5369127516778522\n"
          ],
          "name": "stdout"
        },
        {
          "output_type": "stream",
          "text": [
            "100%|██████████| 13/13 [00:04<00:00,  2.97it/s]\n"
          ],
          "name": "stderr"
        },
        {
          "output_type": "stream",
          "text": [
            "\n",
            "epoch : 9\t - train loss : 1.460316774891872\t - val loss : 3.2530644240888575\t - precision :0.9279509453244762\t - all good precision : 0.2815533980582524\t - f-score micro : 0.5346534653465346\n",
            "\n",
            "\n",
            "___________________________\n",
            "\n",
            "\n",
            "\n",
            "\n",
            "Comparaison générale\n",
            "\n",
            "\n",
            "* * * RNNClassifier * * * \n",
            " f-score :  0.3538461538461538\n"
          ],
          "name": "stdout"
        },
        {
          "output_type": "display_data",
          "data": {
            "image/png": "[encoded data removed]",
            "text/plain": [
              "<Figure size 432x288 with 1 Axes>"
            ]
          },
          "metadata": {
            "tags": [],
            "needs_background": "light"
          }
        },
        {
          "output_type": "display_data",
          "data": {
            "image/png": "[encoded data removed]",
            "text/plain": [
              "<Figure size 432x288 with 1 Axes>"
            ]
          },
          "metadata": {
            "tags": [],
            "needs_background": "light"
          }
        },
        {
          "output_type": "display_data",
          "data": {
            "image/png": "[encoded data removed]",
            "text/plain": [
              "<Figure size 432x288 with 1 Axes>"
            ]
          },
          "metadata": {
            "tags": [],
            "needs_background": "light"
          }
        },
        {
          "output_type": "display_data",
          "data": {
            "image/png": "[encoded data removed]",
            "text/plain": [
              "<Figure size 432x288 with 1 Axes>"
            ]
          },
          "metadata": {
            "tags": [],
            "needs_background": "light"
          }
        },
        {
          "output_type": "stream",
          "text": [
            "\n",
            "\n",
            "* * * Fine tuning Bert * * *\n",
            " f-score :  0.5346534653465346\n"
          ],
          "name": "stdout"
        },
        {
          "output_type": "display_data",
          "data": {
            "image/png": "[encoded data removed]",
            "text/plain": [
              "<Figure size 432x288 with 1 Axes>"
            ]
          },
          "metadata": {
            "tags": [],
            "needs_background": "light"
          }
        },
        {
          "output_type": "display_data",
          "data": {
            "image/png": "[encoded data removed]",
            "text/plain": [
              "<Figure size 432x288 with 1 Axes>"
            ]
          },
          "metadata": {
            "tags": [],
            "needs_background": "light"
          }
        },
        {
          "output_type": "display_data",
          "data": {
            "image/png": "[encoded data removed]",
            "text/plain": [
              "<Figure size 432x288 with 1 Axes>"
            ]
          },
          "metadata": {
            "tags": [],
            "needs_background": "light"
          }
        },
        {
          "output_type": "display_data",
          "data": {
            "image/png": "[encoded data removed]",
            "text/plain": [
              "<Figure size 432x288 with 1 Axes>"
            ]
          },
          "metadata": {
            "tags": [],
            "needs_background": "light"
          }
        }
      ]
    },
    {
      "cell_type": "markdown",
      "metadata": {
        "id": "CzzDlyhP7A8t"
      },
      "source": [
        "## Test"
      ]
    },
    {
      "cell_type": "code",
      "metadata": {
        "colab": {
          "base_uri": "https://localhost:8080/"
        },
        "id": "ArL5h31QzOyD",
        "outputId": "812e9c11-b653-4b3e-bc82-b51d3aea99fc"
      },
      "source": [
        "test_loss, test_preci, accu_score, f_score = perf(rnn_model, test_loader, seuil=0.11)\n",
        "print('RNN Classifier -','test loss :', test_loss, '- precision :', test_preci, '- all good precision :', accu_score, '- f-score micro :', f_score)\n",
        "test_loss, test_preci, accu_score, f_score = perf(bert_model, test_loader, seuil=0.24)\n",
        "print('BioBERT -','test loss :', test_loss, '- precision :', test_preci, '- all good precision :', accu_score, '- f-score micro :', f_score)"
      ],
      "execution_count": null,
      "outputs": [
        {
          "output_type": "stream",
          "text": [
            "RNN Classifier - test loss : 3.624749992325989 - precision : 0.883964296706679 - all good precision : 0.07017543859649122 - f-score micro : 0.43982169390787523\n",
            "BioBERT - test loss : 2.9973252056634916 - precision : 0.9372114496768237 - all good precision : 0.3567251461988304 - f-score micro : 0.5887096774193549\n"
          ],
          "name": "stdout"
        }
      ]
    },
    {
      "cell_type": "markdown",
      "metadata": {
        "id": "bSS1C6kYitXp"
      },
      "source": [
        "# Conclusion"
      ]
    },
    {
      "cell_type": "markdown",
      "metadata": {
        "id": "9tMrnDIWiv7t"
      },
      "source": [
        "Les performances avec le model Bert sont meilleurs qu'avec le model Rnn Classifier. On peut supposer que le manque de données explique les résultats si faible. Pour la prédiction de spécialité c'est le modèle BioBert qui obtient le meilleur f1-score (0.58). "
      ]
    }
  ]
}